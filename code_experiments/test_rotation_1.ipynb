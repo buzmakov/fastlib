{
 "metadata": {
  "name": "test_rotation_1"
 },
 "nbformat": 3,
 "nbformat_minor": 0,
 "worksheets": [
  {
   "cells": [
    {
     "cell_type": "code",
     "collapsed": false,
     "input": [
      "import sys\n",
      "sys.path.insert(0,'..')\n",
      "import numpy\n",
      "import scipy.ndimage\n",
      "import pylab\n",
      "import fastlib\n",
      "from fastlib.utils.phantom import modified_shepp_logan\n",
      "import fastlib.imageprocessing.ispmd.ispmd_image_processing as myfast\n",
      "import h5py\n",
      "\n",
      "def get_center_slice(x):\n",
      "    if len(x.shape)==2:\n",
      "        return x\n",
      "    else:\n",
      "        return numpy.squeeze(x[int(x.shape[0]/2)])"
     ],
     "language": "python",
     "metadata": {},
     "outputs": []
    },
    {
     "cell_type": "code",
     "collapsed": false,
     "input": [
      "sl=None\n",
      "with h5py.File('ph.h5','r') as ph:\n",
      "    sl=ph['ph'].value\n",
      "sl=numpy.repeat(sl,10,axis=0)"
     ],
     "language": "python",
     "metadata": {},
     "outputs": []
    },
    {
     "cell_type": "code",
     "collapsed": false,
     "input": [
      "%timeit myfast.rotate_volume_fast(sl,10)"
     ],
     "language": "python",
     "metadata": {},
     "outputs": []
    },
    {
     "cell_type": "code",
     "collapsed": false,
     "input": [
      "res_fast=myfast.rotate_volume_fast(sl,10)\n",
      "print res_fast.shape"
     ],
     "language": "python",
     "metadata": {},
     "outputs": []
    },
    {
     "cell_type": "code",
     "collapsed": false,
     "input": [
      "pylab.imshow(get_center_slice(res_fast))\n",
      "pylab.colorbar()"
     ],
     "language": "python",
     "metadata": {},
     "outputs": []
    },
    {
     "cell_type": "code",
     "collapsed": false,
     "input": [
      "pylab.imshow(sl.sum(axis=2))"
     ],
     "language": "python",
     "metadata": {},
     "outputs": []
    },
    {
     "cell_type": "code",
     "collapsed": false,
     "input": [
      "print sl.shape\n",
      "p=myfast.project_volume_fast(sl)\n",
      "pylab.imshow(get_center_slice(p))\n",
      "pylab.colorbar()"
     ],
     "language": "python",
     "metadata": {},
     "outputs": []
    },
    {
     "cell_type": "code",
     "collapsed": false,
     "input": [
      "%timeit r=myfast.project_volume_fast(sl)"
     ],
     "language": "python",
     "metadata": {},
     "outputs": []
    },
    {
     "cell_type": "code",
     "collapsed": false,
     "input": [
      "%timeit r=sl.sum(axis=2)"
     ],
     "language": "python",
     "metadata": {},
     "outputs": []
    },
    {
     "cell_type": "code",
     "collapsed": false,
     "input": [
      "bp=numpy.empty_like(sl)\n",
      "%timeit myfast.backproject_volume_fast(p,bp)"
     ],
     "language": "python",
     "metadata": {},
     "outputs": []
    },
    {
     "cell_type": "code",
     "collapsed": false,
     "input": [
      "bp=numpy.empty_like(sl)\n",
      "myfast.backproject_volume_fast(p,bp)\n",
      "p=myfast.project_volume_fast(bp)\n",
      "pylab.imshow(p)\n",
      "pylab.colorbar()"
     ],
     "language": "python",
     "metadata": {},
     "outputs": []
    },
    {
     "cell_type": "code",
     "collapsed": false,
     "input": [],
     "language": "python",
     "metadata": {},
     "outputs": []
    }
   ],
   "metadata": {}
  }
 ]
}