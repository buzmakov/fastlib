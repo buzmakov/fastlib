{
 "metadata": {
  "name": "opencv_rotations"
 },
 "nbformat": 3,
 "nbformat_minor": 0,
 "worksheets": [
  {
   "cells": [
    {
     "cell_type": "code",
     "collapsed": false,
     "input": [
      "import sys\n",
      "sys.path.insert(0,'..')\n",
      "import numpy\n",
      "import scipy.ndimage\n",
      "import pylab\n",
      "import cv2\n",
      "import fastlib\n",
      "from fastlib.utils.phantom import modified_shepp_logan\n",
      "from IPython.parallel import Client,require\n",
      "import h5py\n",
      "import fastlib.imageprocessing.ispmd.ispmd_image_processing as myfast"
     ],
     "language": "python",
     "metadata": {},
     "outputs": [],
     "prompt_number": 1
    },
    {
     "cell_type": "code",
     "collapsed": false,
     "input": [
      "def get_center_slice(x):\n",
      "    if len(x.shape)==2:\n",
      "        return x\n",
      "    else:\n",
      "        return numpy.squeeze(x[int(x.shape[0]/2)])"
     ],
     "language": "python",
     "metadata": {},
     "outputs": [],
     "prompt_number": 2
    },
    {
     "cell_type": "code",
     "collapsed": false,
     "input": [
      "def cv_rotate(x,angle):\n",
      "    \"\"\"\n",
      "    Rotate square array using OpenCV2 around center of the array\n",
      "    :param x: numpy array\n",
      "    :param angle: angle in degrees\n",
      "    :return: rotated array\n",
      "    \"\"\"\n",
      "    if len(x.shape)==2:\n",
      "        x_shape=(x.shape[1],x.shape[0])\n",
      "        x_center=tuple(numpy.array(x_shape)/2.0-0.5)\n",
      "        rot_mat=cv2.getRotationMatrix2D(x_center,angle,1.0)\n",
      "        res=cv2.warpAffine(src=x,M=rot_mat,dsize=x_shape,flags=cv2.INTER_LINEAR)\n",
      "        return res\n",
      "    elif len(x.shape)==3:\n",
      "        x_shape=(x.shape[2],x.shape[1])\n",
      "        x_center=tuple(numpy.array(x_shape)/2.0-0.5)\n",
      "        rot_mat=cv2.getRotationMatrix2D(x_center,angle,1.0)\n",
      "        res=numpy.zeros_like(x)\n",
      "        for i in range(x.shape[0]):\n",
      "            cv2.warpAffine(src=x[i],M=rot_mat,dsize=x_shape,flags=cv2.INTER_LINEAR,dst=res[i])\n",
      "        return res\n",
      "    else:\n",
      "        raise ValueError, 'Image must be 2D or 3D'\n",
      "    "
     ],
     "language": "python",
     "metadata": {},
     "outputs": [],
     "prompt_number": 3
    },
    {
     "cell_type": "code",
     "collapsed": false,
     "input": [
      "'''\n",
      "msl=modified_shepp_logan(shape=(1024,1024,51))\n",
      "sl=numpy.zeros(shape=(msl.shape[2],msl.shape[0],msl.shape[1]),dtype='float32')\n",
      "for i in range(msl.shape[2]):\n",
      "    sl[i]=msl[...,i]\n",
      "with h5py.File('ph.h5') as ph:\n",
      "    ph['ph']=sl\n",
      "'''"
     ],
     "language": "python",
     "metadata": {},
     "outputs": [
      {
       "output_type": "pyout",
       "prompt_number": 4,
       "text": [
        "\"\\nmsl=modified_shepp_logan(shape=(1024,1024,51))\\nsl=numpy.zeros(shape=(msl.shape[2],msl.shape[0],msl.shape[1]),dtype='float32')\\nfor i in range(msl.shape[2]):\\n    sl[i]=msl[...,i]\\nwith h5py.File('ph.h5') as ph:\\n    ph['ph']=sl\\n\""
       ]
      }
     ],
     "prompt_number": 4
    },
    {
     "cell_type": "code",
     "collapsed": false,
     "input": [
      "sl=None\n",
      "with h5py.File('ph.h5','r') as ph:\n",
      "    sl=ph['ph'].value"
     ],
     "language": "python",
     "metadata": {},
     "outputs": [],
     "prompt_number": 3
    },
    {
     "cell_type": "code",
     "collapsed": false,
     "input": [
      "sl=numpy.repeat(sl,5,axis=0)"
     ],
     "language": "python",
     "metadata": {},
     "outputs": [],
     "prompt_number": 4
    },
    {
     "cell_type": "code",
     "collapsed": false,
     "input": [
      "pylab.imshow(get_center_slice(sl))"
     ],
     "language": "python",
     "metadata": {},
     "outputs": []
    },
    {
     "cell_type": "code",
     "collapsed": false,
     "input": [
      "%timeit res=cv_rotate(get_center_slice(sl),10)\n",
      "%timeit res=cv_rotate(sl,10)"
     ],
     "language": "python",
     "metadata": {},
     "outputs": []
    },
    {
     "cell_type": "code",
     "collapsed": false,
     "input": [
      "res=cv_rotate(sl,10)"
     ],
     "language": "python",
     "metadata": {},
     "outputs": []
    },
    {
     "cell_type": "code",
     "collapsed": false,
     "input": [
      "pylab.imshow(get_center_slice(res))"
     ],
     "language": "python",
     "metadata": {},
     "outputs": []
    },
    {
     "cell_type": "code",
     "collapsed": false,
     "input": [
      "pylab.imshow(scipy.ndimage.rotate(get_center_slice(res),10,reshape=False,order=1))"
     ],
     "language": "python",
     "metadata": {},
     "outputs": []
    },
    {
     "cell_type": "code",
     "collapsed": false,
     "input": [
      "%timeit scipy.ndimage.rotate(get_center_slice(res),10,reshape=False,order=1)"
     ],
     "language": "python",
     "metadata": {},
     "outputs": []
    },
    {
     "cell_type": "code",
     "collapsed": false,
     "input": [
      "%timeit myfast.rotate_volume_fast(sl,10)"
     ],
     "language": "python",
     "metadata": {},
     "outputs": [
      {
       "output_type": "stream",
       "stream": "stdout",
       "text": [
        "1 loops, best of 3: 900 ms per loop\n"
       ]
      }
     ],
     "prompt_number": 5
    },
    {
     "cell_type": "code",
     "collapsed": false,
     "input": [
      "res_fast=myfast.rotate_volume_fast(sl,10)"
     ],
     "language": "python",
     "metadata": {},
     "outputs": [],
     "prompt_number": 6
    },
    {
     "cell_type": "code",
     "collapsed": false,
     "input": [
      "print res_fast.shape"
     ],
     "language": "python",
     "metadata": {},
     "outputs": [
      {
       "output_type": "stream",
       "stream": "stdout",
       "text": [
        "(255, 1024, 1024)\n"
       ]
      }
     ],
     "prompt_number": 7
    },
    {
     "cell_type": "code",
     "collapsed": false,
     "input": [
      "pylab.imshow(get_center_slice(res_fast))\n",
      "pylab.colorbar()"
     ],
     "language": "python",
     "metadata": {},
     "outputs": [
      {
       "output_type": "pyout",
       "prompt_number": 10,
       "text": [
        "<matplotlib.colorbar.Colorbar instance at 0x374afc8>"
       ]
      },
      {
       "output_type": "display_data",
       "png": "[encoded data removed]"
      }
     ],
     "prompt_number": 10
    },
    {
     "cell_type": "code",
     "collapsed": false,
     "input": [
      "%whos"
     ],
     "language": "python",
     "metadata": {},
     "outputs": []
    },
    {
     "cell_type": "code",
     "collapsed": false,
     "input": [],
     "language": "python",
     "metadata": {},
     "outputs": []
    }
   ],
   "metadata": {}
  }
 ]
}