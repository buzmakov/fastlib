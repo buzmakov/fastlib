{
 "metadata": {
  "name": "opencv_rotations"
 },
 "nbformat": 3,
 "nbformat_minor": 0,
 "worksheets": [
  {
   "cells": [
    {
     "cell_type": "code",
     "collapsed": false,
     "input": [
      "import sys\n",
      "sys.path.insert(0,'..')\n",
      "import numpy\n",
      "import scipy.ndimage\n",
      "import pylab\n",
      "import cv2\n",
      "import fastlib\n",
      "from fastlib.utils.phantom import modified_shepp_logan"
     ],
     "language": "python",
     "metadata": {},
     "outputs": []
    },
    {
     "cell_type": "code",
     "collapsed": false,
     "input": [
      "def get_center_slice(x):\n",
      "    if len(x.shape)==2:\n",
      "        return x\n",
      "    else:\n",
      "        return numpy.squeeze(x[int(x.shape[0]/2)])"
     ],
     "language": "python",
     "metadata": {},
     "outputs": []
    },
    {
     "cell_type": "code",
     "collapsed": false,
     "input": [
      "def cv_rotate(x,angle):\n",
      "    \"\"\"\n",
      "    Rotate square array using OpenCV2 around center of the array\n",
      "    :param x: numpy array\n",
      "    :param angle: angle in degrees\n",
      "    :return: rotated array\n",
      "    \"\"\"\n",
      "    if len(x.shape)==2:\n",
      "        x_shape=(x.shape[1],x.shape[0])\n",
      "        x_center=tuple(numpy.array(x_shape)/2.0-0.5)\n",
      "        rot_mat=cv2.getRotationMatrix2D(x_center,angle,1.0)\n",
      "        res=cv2.warpAffine(src=x,M=rot_mat,dsize=x_shape,flags=cv2.INTER_LINEAR)\n",
      "        return res\n",
      "    elif len(x.shape)==3:\n",
      "        x_shape=(x.shape[2],x.shape[1])\n",
      "        x_center=tuple(numpy.array(x_shape)/2.0-0.5)\n",
      "        rot_mat=cv2.getRotationMatrix2D(x_center,angle,1.0)\n",
      "        res=numpy.zeros_like(x)\n",
      "        for i in range(x.shape[0]):\n",
      "            res[i]=cv2.warpAffine(src=x[i],M=rot_mat,dsize=x_shape,flags=cv2.INTER_LINEAR)\n",
      "        return res\n",
      "    else:\n",
      "        raise ValueError, 'Image must be 2D or 3D'\n",
      "    "
     ],
     "language": "python",
     "metadata": {},
     "outputs": []
    },
    {
     "cell_type": "code",
     "collapsed": false,
     "input": [
      "msl=modified_shepp_logan(shape=(256,256,101))\n",
      "sl=numpy.zeros(shape=(msl.shape[2],msl.shape[0],msl.shape[1]),dtype='float32')\n",
      "for i in range(msl.shape[2]):\n",
      "    sl[i]=msl[...,i]"
     ],
     "language": "python",
     "metadata": {},
     "outputs": []
    },
    {
     "cell_type": "code",
     "collapsed": false,
     "input": [
      "pylab.imshow(get_center_slice(sl))"
     ],
     "language": "python",
     "metadata": {},
     "outputs": []
    },
    {
     "cell_type": "code",
     "collapsed": false,
     "input": [
      "%timeit res=cv_rotate(get_center_slice(sl),10)\n",
      "%timeit res=cv_rotate(sl,10)"
     ],
     "language": "python",
     "metadata": {},
     "outputs": []
    },
    {
     "cell_type": "code",
     "collapsed": false,
     "input": [
      "res=cv_rotate(sl,10)"
     ],
     "language": "python",
     "metadata": {},
     "outputs": []
    },
    {
     "cell_type": "code",
     "collapsed": false,
     "input": [
      "pylab.imshow(get_center_slice(res))"
     ],
     "language": "python",
     "metadata": {},
     "outputs": []
    },
    {
     "cell_type": "code",
     "collapsed": false,
     "input": [
      "pylab.imshow(scipy.ndimage.rotate(get_center_slice(res),10,reshape=False,order=1))"
     ],
     "language": "python",
     "metadata": {},
     "outputs": []
    },
    {
     "cell_type": "code",
     "collapsed": false,
     "input": [
      "%timeit scipy.ndimage.rotate(get_center_sliceres),10,reshape=False,order=1)"
     ],
     "language": "python",
     "metadata": {},
     "outputs": []
    },
    {
     "cell_type": "code",
     "collapsed": false,
     "input": [
      "%qtconsole"
     ],
     "language": "python",
     "metadata": {},
     "outputs": []
    },
    {
     "cell_type": "code",
     "collapsed": false,
     "input": [],
     "language": "python",
     "metadata": {},
     "outputs": []
    }
   ],
   "metadata": {}
  }
 ]
}