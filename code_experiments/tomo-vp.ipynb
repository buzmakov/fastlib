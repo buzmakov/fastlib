{
 "metadata": {
  "name": "",
  "signature": "sha256:89069f60b8f02e4e3f173f66dd146a50535113bbd7e14bcc1e33a3a37d9eb799"
 },
 "nbformat": 3,
 "nbformat_minor": 0,
 "worksheets": [
  {
   "cells": [
    {
     "cell_type": "code",
     "collapsed": false,
     "input": [
      "import numpy as np\n",
      "import cv2\n",
      "import pylab as plt\n",
      "import time"
     ],
     "language": "python",
     "metadata": {},
     "outputs": []
    },
    {
     "cell_type": "code",
     "collapsed": false,
     "input": [
      "def cv_rotate(x, angle):\n",
      "    \"\"\"\n",
      "    Rotate square array using OpenCV2 around center of the array\n",
      "    :param x: 2d numpy array\n",
      "    :param angle: angle in degrees\n",
      "    :return: rotated array\n",
      "    \"\"\"\n",
      "    x_center = tuple(np.array((x.shape[1], x.shape[0]), dtype='float32') / 2.0-0.5)\n",
      "    rot_mat = cv2.getRotationMatrix2D(x_center, angle, 1.0)\n",
      "    xro = cv2.warpAffine(x, rot_mat, (x.shape[1], x.shape[0]), flags=cv2.INTER_LINEAR)\n",
      "    return xro\n",
      "\n",
      "\n",
      "def cv_project(src):\n",
      "    \"\"\"\n",
      "    Project 2D array to 1D array\n",
      "\n",
      "    :param src: 2d numpy array.\n",
      "    :return:\n",
      "    \"\"\"\n",
      "    return np.squeeze(cv2.reduce(src, dim=1, rtype=cv2.cv.CV_REDUCE_SUM))\n",
      "\n",
      "\n",
      "def cv_backproject(src):\n",
      "    \"\"\"\n",
      "    Back project 1d array to 2d array.\n",
      "\n",
      "    :param src: 1d numpy array\n",
      "    :return:\n",
      "    \"\"\"\n",
      "    ntimes = len(src)\n",
      "    tmp_array = src / float(ntimes)\n",
      "    return cv2.repeat(tmp_array,1,ntimes)"
     ],
     "language": "python",
     "metadata": {},
     "outputs": []
    },
    {
     "cell_type": "code",
     "collapsed": false,
     "input": [
      "def sart(sinogram, angles):\n",
      "    \"\"\"\n",
      "    SART tomography reconstruction.\n",
      "\n",
      "    :param sinogram: 2d array (s[:,i] - i-th projection)\n",
      "    :param angles:  1d array of angles\n",
      "    :return:\n",
      "    \"\"\"\n",
      "    reconst_shape = np.array(sinogram.shape[0], dtype='int32')\n",
      "    tomo_rec = np.zeros((reconst_shape, reconst_shape), dtype='float32')\n",
      "    tmp_backproj = np.zeros_like(tomo_rec)\n",
      "    tmp_rot = np.zeros_like(tomo_rec)\n",
      "    for coeff in [0.8, 0.3, ]:  # set relaxation coeffitients here (one per iteration)\n",
      "        shuffle_iang = np.arange(len(angles))\n",
      "        np.random.shuffle(shuffle_iang)\n",
      "        for iang in shuffle_iang:\n",
      "            tmp_rot = cv_rotate(tomo_rec, angles[iang])\n",
      "            tmp_proj = sinogram[:, iang] - cv_project(tmp_rot)\n",
      "            tmp_backproj = cv_backproject(tmp_proj * coeff)\n",
      "            tmp_rot = cv_rotate(tmp_backproj, -angles[iang])\n",
      "            tomo_rec+= tmp_rot\n",
      "  #      tomo_rec -= 0.5 * tomo_rec * (tomo_rec < 0)\n",
      "        tomo_rec = cv2.medianBlur(tomo_rec,5)\n",
      "    return tomo_rec"
     ],
     "language": "python",
     "metadata": {},
     "outputs": []
    },
    {
     "cell_type": "code",
     "collapsed": false,
     "input": [
      "def main():\n",
      "    input_sinogram_name = 'sl_256_10.txt'\n",
      "    input_angles_name = 'ang.txt'\n",
      "    sinogram = np.loadtxt(input_sinogram_name)\n",
      "    angles = np.loadtxt(input_angles_name)\n",
      "    start = time.time()\n",
      "    res = sart(sinogram, angles)\n",
      "    end = time.time()\n",
      "    print 'Execution time:' + str(end-start) + 's.'\n",
      "    np.savetxt(input_sinogram_name+'.res', res)\n",
      "    plt.imsave(input_sinogram_name+'.png', res, cmap=plt.cm.gray)"
     ],
     "language": "python",
     "metadata": {},
     "outputs": []
    },
    {
     "cell_type": "code",
     "collapsed": false,
     "input": [
      "main()"
     ],
     "language": "python",
     "metadata": {},
     "outputs": []
    },
    {
     "cell_type": "code",
     "collapsed": false,
     "input": [
      "%timeit res = sart(sinogram, angles)"
     ],
     "language": "python",
     "metadata": {},
     "outputs": []
    },
    {
     "cell_type": "code",
     "collapsed": false,
     "input": [
      "plt.figure(figsize=(20, 10))\n",
      "plt.subplot(1,2,1)\n",
      "plt.imshow(sinogram, cmap=plt.cm.gray)\n",
      "plt.colorbar()\n",
      "plt.subplot(1,2,2)\n",
      "plt.imshow(res, cmap=plt.cm.gray)\n",
      "plt.colorbar()"
     ],
     "language": "python",
     "metadata": {},
     "outputs": []
    },
    {
     "cell_type": "code",
     "collapsed": false,
     "input": [],
     "language": "python",
     "metadata": {},
     "outputs": []
    }
   ],
   "metadata": {}
  }
 ]
}