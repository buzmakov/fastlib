{
 "metadata": {
  "name": "test_rotate_volume_z"
 },
 "nbformat": 3,
 "nbformat_minor": 0,
 "worksheets": [
  {
   "cells": [
    {
     "cell_type": "code",
     "collapsed": false,
     "input": [
      "import sys\n",
      "sys.path.insert(0,'..')\n",
      "import numpy\n",
      "import scipy.ndimage\n",
      "import pylab\n",
      "import fastlib\n",
      "from fastlib.utils.phantom import modified_shepp_logan\n",
      "import fastlib.imageprocessing.ispmd.ispmd_image_processing as myfast\n",
      "import h5py\n",
      "\n",
      "def get_center_slice(x):\n",
      "    if len(x.shape)==2:\n",
      "        return x\n",
      "    else:\n",
      "        return numpy.squeeze(x[int(x.shape[0]/2)])"
     ],
     "language": "python",
     "metadata": {},
     "outputs": []
    },
    {
     "cell_type": "code",
     "collapsed": false,
     "input": [
      "#sl=modified_shepp_logan(shape=(1024,1024,16))\n",
      "#with h5py.File('ph_new.h5','w') as ph:\n",
      "#    ph['ph']=sl"
     ],
     "language": "python",
     "metadata": {},
     "outputs": []
    },
    {
     "cell_type": "code",
     "collapsed": false,
     "input": [
      "sl=None\n",
      "with h5py.File('ph_new.h5','r') as ph:\n",
      "    sl=ph['ph'].value\n",
      "sl=numpy.repeat(sl,32,axis=-1)"
     ],
     "language": "python",
     "metadata": {},
     "outputs": []
    },
    {
     "cell_type": "code",
     "collapsed": false,
     "input": [
      "sl.shape"
     ],
     "language": "python",
     "metadata": {},
     "outputs": []
    },
    {
     "cell_type": "code",
     "collapsed": false,
     "input": [
      "pylab.imshow(sl[:,:,256])\n",
      "pylab.colorbar()"
     ],
     "language": "python",
     "metadata": {},
     "outputs": []
    },
    {
     "cell_type": "code",
     "collapsed": false,
     "input": [
      "%timeit myfast.rotate_volume_z_fast(sl,10)"
     ],
     "language": "python",
     "metadata": {},
     "outputs": []
    },
    {
     "cell_type": "code",
     "collapsed": false,
     "input": [
      "res=myfast.rotate_volume_z_fast(sl,10)"
     ],
     "language": "python",
     "metadata": {},
     "outputs": []
    },
    {
     "cell_type": "code",
     "collapsed": false,
     "input": [
      "pylab.imshow(res[:,:,256])\n",
      "pylab.colorbar()"
     ],
     "language": "python",
     "metadata": {},
     "outputs": []
    },
    {
     "cell_type": "code",
     "collapsed": false,
     "input": [],
     "language": "python",
     "metadata": {},
     "outputs": []
    }
   ],
   "metadata": {}
  }
 ]
}