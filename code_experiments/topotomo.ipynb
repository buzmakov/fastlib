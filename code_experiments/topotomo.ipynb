{
 "metadata": {
  "name": "topotomo"
 },
 "nbformat": 3,
 "nbformat_minor": 0,
 "worksheets": [
  {
   "cells": [
    {
     "cell_type": "code",
     "collapsed": false,
     "input": [
      "import sys\n",
      "sys.path.insert(0,'..')\n",
      "import numpy\n",
      "import scipy.ndimage\n",
      "import pylab\n",
      "import fastlib\n",
      "from utils.natsort import natsorted\n",
      "import fastlib.imageprocessing.ispmd.ispmd_image_processing as myfast\n",
      "import h5py\n",
      "import os"
     ],
     "language": "python",
     "metadata": {},
     "outputs": []
    },
    {
     "cell_type": "code",
     "collapsed": false,
     "input": [
      "data_file=r'/media/tmp/work/Grigoriev_diamond_results march 2011/Grigoriev/topotomo_data.h5'"
     ],
     "language": "python",
     "metadata": {},
     "outputs": []
    },
    {
     "cell_type": "code",
     "collapsed": false,
     "input": [
      "def get_angle(group):\n",
      "    '''\n",
      "    Return rotation angle\n",
      "    '''\n",
      "    ang=float(group['header']['motor_pos'].value.split(' ')[0])\n",
      "    return ang\n",
      "\n",
      "def get_data(group):\n",
      "    '''\n",
      "    Get data, crop it to square frames and reshape\n",
      "    '''\n",
      "    data=group['data'].value\n",
      "    ds=data.shape\n",
      "    delta_ds=(ds[1]-ds[0])/2\n",
      "    data=data[:,delta_ds:(ds[0]+delta_ds)]\n",
      "    data=scipy.ndimage.zoom(data,0.2)\n",
      "    return data"
     ],
     "language": "python",
     "metadata": {},
     "outputs": []
    },
    {
     "cell_type": "code",
     "collapsed": false,
     "input": [
      "#\u0441\u043e\u0437\u0434\u0430\u0451\u043c \u043f\u0440\u043e\u0440\u0435\u0436\u0435\u043d\u043d\u044b\u0439 \u0444\u0430\u0439\u043b\n",
      "with h5py.File(data_file,'r') as h5f:\n",
      "    keys=[k.encode() for k in natsorted(h5f.keys())]\n",
      "    keys=keys[::10]\n",
      "    with h5py.File('tmp_data.h5') as tmph5:\n",
      "        for k in keys:\n",
      "            tmph5[k+'/data']=get_data(h5f[k])\n",
      "            tmph5[k+'/ang']=get_angle(h5f[k])"
     ],
     "language": "python",
     "metadata": {},
     "outputs": []
    },
    {
     "cell_type": "code",
     "collapsed": false,
     "input": [
      "prj={}\n",
      "\n",
      "def add_item(name,obj):\n",
      "    if isinstance(obj, h5py.Group):\n",
      "        prj.update({obj['ang'].value:obj['data'].value})\n",
      "\n",
      "with h5py.File('tmp_data.h5','r') as tmph5:\n",
      "    tmph5.visititems(add_item)\n",
      "    "
     ],
     "language": "python",
     "metadata": {},
     "outputs": [],
     "prompt_number": 19
    },
    {
     "cell_type": "code",
     "collapsed": false,
     "input": [
      "for ik,k in enumerate(sort(prj.keys())):\n",
      "    tp=prj[k]\n",
      "   # lvl=2000.0\n",
      "   # tp=tp*(tp<lvl)+lvl*(tp>=lvl)\n",
      "    pylab.imsave('{:2}.png'.format(ik),tp)"
     ],
     "language": "python",
     "metadata": {},
     "outputs": [],
     "prompt_number": 18
    },
    {
     "cell_type": "code",
     "collapsed": false,
     "input": [
      "from random import shuffle\n",
      "def project(vol, h_angle, v_angle):\n",
      "    pass\n",
      "\n",
      "def back_project(proj, volume, h_angle, v_angle):\n",
      "    pass\n",
      "\n",
      "def topo_tomo(prjs,axis_angle=15.0):\n",
      "    im_size=prj[prj.keys()[0]].shape[0]\n",
      "    print 'Projections size=',im_size\n",
      "    print 'Axis angle = ', axis_angle\n",
      "    res=numpy.zeros(shape=(im_size,im_size,im_size),dtype='float32')\n",
      "    angles=prjs.keys()\n",
      "    shuffle(angles)\n",
      "    for ang in angles:\n",
      "        print ang\n",
      "    return res"
     ],
     "language": "python",
     "metadata": {},
     "outputs": [],
     "prompt_number": 36
    },
    {
     "cell_type": "code",
     "collapsed": false,
     "input": [
      "res=topo_tomo(prj)"
     ],
     "language": "python",
     "metadata": {},
     "outputs": [
      {
       "output_type": "stream",
       "stream": "stdout",
       "text": [
        "Projections size="
       ]
      },
      {
       "output_type": "stream",
       "stream": "stdout",
       "text": [
        " 391\n",
        "Axis angle =  15.0\n",
        "-17.7982"
       ]
      },
      {
       "output_type": "stream",
       "stream": "stdout",
       "text": [
        "\n",
        "81.4716\n",
        "-80.974\n",
        "212.324\n",
        "-58.4123\n",
        "99.5221\n",
        "27.3238\n",
        "4.76268\n",
        "85.9838\n",
        "-8.77343\n",
        "-35.8484\n",
        "239.397\n",
        "18.2991\n",
        "-89.9998\n",
        "36.3493\n",
        "135.617\n",
        "225.86\n",
        "248.423\n",
        "198.786\n",
        "158.179\n",
        "140.129\n",
        "104.033\n",
        "-44.8734\n",
        "95.0105\n",
        "216.835\n",
        "-26.824\n",
        "9.27546\n",
        "126.593\n",
        "221.347\n",
        "-31.3362\n",
        "76.9593\n",
        "67.9349\n",
        "189.763\n",
        "234.884\n",
        "-85.487\n",
        "-62.9248\n",
        "207.812\n",
        "-93.5251\n",
        "167.202\n",
        "72.4474\n",
        "22.8113\n",
        "-49.3873\n",
        "-76.4623\n",
        "-40.3609\n",
        "162.69\n",
        "144.643\n",
        "13.7877\n",
        "-22.3098\n",
        "40.861\n",
        "203.299\n",
        "0.252122\n",
        "194.275\n",
        "122.08\n",
        "153.668\n",
        "180.739\n",
        "230.372\n",
        "49.8846\n",
        "-107.066\n",
        "171.715\n",
        "-53.9001\n",
        "-67.437\n",
        "45.373\n",
        "113.057\n",
        "31.8363\n",
        "54.3971\n",
        "243.91\n",
        "-4.26066\n",
        "63.4218\n",
        "185.252\n",
        "149.156\n",
        "176.227\n",
        "108.545\n",
        "-98.0382\n",
        "131.105\n",
        "117.568\n",
        "-13.2854\n",
        "58.9096\n",
        "-71.9495\n",
        "-102.552\n",
        "90.4982\n"
       ]
      }
     ],
     "prompt_number": 37
    },
    {
     "cell_type": "code",
     "collapsed": false,
     "input": [
      "!git commit -a -m 'pomodoro'"
     ],
     "language": "python",
     "metadata": {},
     "outputs": [
      {
       "output_type": "stream",
       "stream": "stdout",
       "text": [
        "[feature/topotomo f1af16a] pomodoro\r\n",
        " 1 file changed, 29 insertions(+), 10 deletions(-)\r\n"
       ]
      }
     ],
     "prompt_number": 29
    },
    {
     "cell_type": "code",
     "collapsed": false,
     "input": [
      "%qtconsole"
     ],
     "language": "python",
     "metadata": {},
     "outputs": [],
     "prompt_number": 30
    },
    {
     "cell_type": "code",
     "collapsed": false,
     "input": [],
     "language": "python",
     "metadata": {},
     "outputs": []
    }
   ],
   "metadata": {}
  }
 ]
}