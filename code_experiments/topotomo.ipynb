{
 "metadata": {
  "name": "topotomo"
 },
 "nbformat": 3,
 "nbformat_minor": 0,
 "worksheets": [
  {
   "cells": [
    {
     "cell_type": "code",
     "collapsed": false,
     "input": [
      "import sys\n",
      "sys.path.insert(0,'..')\n",
      "import numpy\n",
      "import scipy.ndimage\n",
      "import pylab\n",
      "import fastlib\n",
      "from utils.natsort import natsorted\n",
      "import fastlib.imageprocessing.ispmd.ispmd_image_processing as myfast\n",
      "import h5py\n",
      "import os\n",
      "import logging"
     ],
     "language": "python",
     "metadata": {},
     "outputs": [],
     "prompt_number": 2
    },
    {
     "cell_type": "code",
     "collapsed": false,
     "input": [
      "data_file=r'/media/tmp/work/Grigoriev_diamond_results march 2011/Grigoriev/topotomo_data.h5'"
     ],
     "language": "python",
     "metadata": {},
     "outputs": [],
     "prompt_number": 3
    },
    {
     "cell_type": "code",
     "collapsed": false,
     "input": [
      "def save_amira(input_file):\n",
      "    \"\"\"\n",
      "    \u0424\u0443\u043d\u043a\u0446\u0438\u044f \u0441\u043e\u0445\u0440\u0430\u043d\u044f\u0435\u0442 \u0440\u0435\u043a\u043e\u043d\u0441\u0442\u0440\u0443\u0438\u0440\u043e\u0432\u0430\u043d\u043d\u044b\u0435 \u0441\u043b\u043e\u0438 \u0432 \u0444\u043e\u0440\u043c\u0430\u0442\u0435 Amira raw file\n",
      "\n",
      "    Inputs:\n",
      "        data_path - \u043f\u0443\u0442\u044c \u043a \u0434\u0438\u0440\u0435\u043a\u0442\u043e\u0440\u0438\u0438, \u0433\u0434\u0435 \u043d\u0430\u0445\u043e\u0434\u0438\u0442\u044c\u0441\u044f \u0444\u0430\u0439\u043b res_tomo.hdf5 \u0432 \u0444\u043e\u0440\u043c\u0430\u0442\u0435 HDF5\n",
      "            \u0432 \u044d\u0442\u043e\u043c \u0444\u0430\u0439\u0434\u0435 \u0434\u043e\u043b\u0436\u0435\u043d \u0431\u044b\u0442\u044c \u0440\u0430\u0437\u0434\u0435\u043b (node) /Results \u0432 \u043a\u043e\u0442\u043e\u0440\u043e\u043c \u0432 \u0432\u0438\u0434\u0435 3D \u043c\u0430\u0441\u0441\u0438\u0432\u0430\n",
      "            \u0437\u0430\u043f\u0438\u0441\u0430\u043d\u044b \u0440\u0435\u043a\u043e\u043d\u0441\u0442\u0440\u0443\u0438\u0440\u043e\u0432\u0430\u043d\u043d\u044b\u0439 \u043e\u0431\u044a\u0451\u043c\n",
      "    Outputs:\n",
      "        \u0424\u0430\u0439\u043b\u044b amira.raw \u0438 tomo.hx. \u0415\u0441\u043b\u0438 \u0444\u0430\u0439\u043b\u044b \u0443\u0436\u0435 \u0441\u0443\u0449\u0435\u0441\u0442\u0432\u0443\u044e\u0442, \u0442\u043e \u043e\u043d\u0438 \u043f\u0435\u0440\u0435\u0437\u0430\u043f\u0438\u0441\u044b\u0432\u0430\u044e\u0442\u0441\u044f.\n",
      "        \u0422\u0438\u043f \u0434\u0430\u043d\u043d\u044b\u0445: float32 little endian\n",
      "    \"\"\"\n",
      "    logging.info('Saving Amira files')\n",
      "    data_path=os.path.dirname(input_file)\n",
      "    with open(os.path.join(data_path,'amira.raw'),'wb') as amira_file:\n",
      "        with h5py.File(input_file,'r') as h5f:\n",
      "            x=h5f['res']\n",
      "            for i in range(x.shape[0]):\n",
      "                numpy.array(x[i,:,:],dtype='float32').tofile(amira_file)\n",
      "\n",
      "            file_shape=x.shape\n",
      "\n",
      "            with open(os.path.join(data_path,'tomo.hx'),'w') as af:\n",
      "                af.write('# Amira Script\\n')\n",
      "                af.write('remove -all\\n')\n",
      "                af.write(r'[ load -raw ${SCRIPTDIR}/amira.raw little xfastest float 1 '+\n",
      "                         str(file_shape[1])+' '+str(file_shape[2])+' '+str(file_shape[0])+\n",
      "                         ' 0 '+str(file_shape[1]-1)+' 0 '+str(file_shape[2]-1)+' 0 '+str(file_shape[0]-1)+\n",
      "                         ' ] setLabel tomo.raw\\n')"
     ],
     "language": "python",
     "metadata": {},
     "outputs": [],
     "prompt_number": 4
    },
    {
     "cell_type": "code",
     "collapsed": false,
     "input": [
      "def get_angle(group):\n",
      "    '''\n",
      "    Return rotation angle\n",
      "    '''\n",
      "    ang=float(group['header']['motor_pos'].value.split(' ')[0])\n",
      "    return ang\n",
      "\n",
      "def get_data(group):\n",
      "    '''\n",
      "    Get data, crop it to square frames and reshape\n",
      "    '''\n",
      "    data=group['data'].value\n",
      "    ds=data.shape\n",
      "    delta_ds=(ds[1]-ds[0])/2\n",
      "    data=data[:,delta_ds:(ds[0]+delta_ds)]\n",
      "    data=scipy.ndimage.zoom(data,0.3)\n",
      "    #data=numpy.rot90(data)\n",
      "    return data"
     ],
     "language": "python",
     "metadata": {},
     "outputs": []
    },
    {
     "cell_type": "code",
     "collapsed": false,
     "input": [
      "#\u0441\u043e\u0437\u0434\u0430\u0451\u043c \u043f\u0440\u043e\u0440\u0435\u0436\u0435\u043d\u043d\u044b\u0439 \u0444\u0430\u0439\u043b\n",
      "with h5py.File(data_file,'r') as h5f:\n",
      "    keys=[k.encode() for k in natsorted(h5f.keys())]\n",
      "    keys=keys[::2]\n",
      "    with h5py.File('tmp_data.h5','w') as tmph5:\n",
      "        for k in keys:\n",
      "            tmph5[k+'/data']=get_data(h5f[k])\n",
      "            tmph5[k+'/ang']=get_angle(h5f[k])"
     ],
     "language": "python",
     "metadata": {},
     "outputs": []
    },
    {
     "cell_type": "code",
     "collapsed": false,
     "input": [
      "prj={}\n",
      "\n",
      "def add_item(name,obj):\n",
      "    if isinstance(obj, h5py.Group):\n",
      "        prj.update({obj['ang'].value:obj['data'].value})\n",
      "\n",
      "with h5py.File('tmp_data.h5','r') as tmph5:\n",
      "    tmph5.visititems(add_item)\n",
      "    "
     ],
     "language": "python",
     "metadata": {},
     "outputs": [],
     "prompt_number": 5
    },
    {
     "cell_type": "code",
     "collapsed": false,
     "input": [
      "for k in prj.keys():\n",
      "    t=prj[k]-100\n",
      "    prj[k]=t*(t>0)"
     ],
     "language": "python",
     "metadata": {},
     "outputs": [],
     "prompt_number": 6
    },
    {
     "cell_type": "code",
     "collapsed": false,
     "input": [
      "pylab.plot([p.min() for p in prj.values()])"
     ],
     "language": "python",
     "metadata": {},
     "outputs": [
      {
       "output_type": "pyout",
       "prompt_number": 7,
       "text": [
        "[<matplotlib.lines.Line2D at 0x3a09950>]"
       ]
      },
      {
       "output_type": "display_data",
       "png": "[encoded data removed]"
      }
     ],
     "prompt_number": 7
    },
    {
     "cell_type": "code",
     "collapsed": false,
     "input": [
      "pylab.plot([p.sum()/numpy.prod(p.shape) for p in prj.values()])"
     ],
     "language": "python",
     "metadata": {},
     "outputs": [
      {
       "output_type": "pyout",
       "prompt_number": 8,
       "text": [
        "[<matplotlib.lines.Line2D at 0x24c5c4d0>]"
       ]
      },
      {
       "output_type": "display_data",
       "png": "[encoded data removed]"
      }
     ],
     "prompt_number": 8
    },
    {
     "cell_type": "code",
     "collapsed": false,
     "input": [
      "for ik,k in enumerate(sort(prj.keys())):\n",
      "    tp=prj[k]\n",
      "   # lvl=2000.0\n",
      "   # tp=tp*(tp<lvl)+lvl*(tp>=lvl)\n",
      "    pylab.imsave('{:3}.png'.format(ik),tp)"
     ],
     "language": "python",
     "metadata": {},
     "outputs": []
    },
    {
     "cell_type": "code",
     "collapsed": false,
     "input": [
      "from random import shuffle\n",
      "def project(vol, h_angle, v_angle):\n",
      "    tmp_vol=myfast.rotate_volume_fast(vol,h_angle)  \n",
      "    tmp_vol=myfast.rotate_volume_z_fast(tmp_vol,v_angle) \n",
      "    p=myfast.project_volume_fast(tmp_vol)\n",
      "    return p\n",
      "\n",
      "def back_project(proj, h_angle, v_angle):\n",
      "    sh=proj.shape[0]\n",
      "    tmp_vol=numpy.empty(shape=(sh,sh,sh),dtype='float32')\n",
      "    myfast.backproject_volume_fast(proj,tmp_vol)\n",
      "    tmp_vol=myfast.rotate_volume_z_fast(tmp_vol,-v_angle)\n",
      "    tmp_vol=myfast.rotate_volume_fast(tmp_vol,-h_angle)\n",
      "    return tmp_vol\n",
      "\n",
      "def topo_tomo(prjs,axis_angle):\n",
      "    nv_list=[]\n",
      "    im_size=prj[prj.keys()[0]].shape[0]\n",
      "    print 'Projections size=',im_size\n",
      "    print 'Axis angle = ', axis_angle\n",
      "    res=numpy.zeros(shape=(im_size,im_size,im_size),dtype='float32')\n",
      "    angles=prjs.keys()\n",
      "    #shuffle(angles)\n",
      "    for i in range(3):\n",
      "        shuffle(angles)\n",
      "        l=0.5-0.1*i\n",
      "        for iang,ang in enumerate(angles[0:-1:4]):\n",
      "            if iang%10==0:\n",
      "                print '{:3}/{:3}'.format(iang,len(angles))\n",
      "                res*=res>0\n",
      "            p=project(res,ang,axis_angle)\n",
      "            corr_p=prj[ang]-p;\n",
      "            corr_p=numpy.minimum(corr_p,100.0)\n",
      "            corr_p=numpy.maximum(corr_p,-100.0)\n",
      "            #pylab.imshow(p)\n",
      "            #pylab.colorbar()\n",
      "            nv=(corr_p*corr_p).sum()/numpy.prod(corr_p.shape)\n",
      "            nv=nv**0.5\n",
      "            bp=back_project(l*corr_p,ang,axis_angle)\n",
      "            print '{:.3}'.format(nv),\n",
      "            nv_list.append(nv)\n",
      "            res+=bp\n",
      "    res*=res>0\n",
      "    return res, nv_list"
     ],
     "language": "python",
     "metadata": {},
     "outputs": [],
     "prompt_number": 10
    },
    {
     "cell_type": "code",
     "collapsed": false,
     "input": [
      "for v_ang in [10,]:\n",
      "    res, nv_list = topo_tomo(prj,axis_angle=v_ang)\n",
      "    h5fname='tmp_res_{}.h5'.format(v_ang)\n",
      "    with h5py.File(h5fname,'w') as h5res:\n",
      "        h5res['res']=res\n",
      "        h5res['nv']=nv_list\n",
      "    del res\n",
      "    del nv_list"
     ],
     "language": "python",
     "metadata": {},
     "outputs": [
      {
       "output_type": "stream",
       "stream": "stdout",
       "text": [
        "Projections size="
       ]
      },
      {
       "output_type": "stream",
       "stream": "stdout",
       "text": [
        " 587\n",
        "Axis angle =  10\n",
        "  0/400"
       ]
      },
      {
       "output_type": "stream",
       "stream": "stdout",
       "text": [
        "\n",
        "90.5"
       ]
      },
      {
       "output_type": "stream",
       "stream": "stdout",
       "text": [
        " 91.3 "
       ]
      },
      {
       "output_type": "stream",
       "stream": "stdout",
       "text": [
        "87.8 "
       ]
      },
      {
       "output_type": "stream",
       "stream": "stdout",
       "text": [
        "95.7 "
       ]
      },
      {
       "output_type": "stream",
       "stream": "stdout",
       "text": [
        "92.9 "
       ]
      },
      {
       "output_type": "stream",
       "stream": "stdout",
       "text": [
        "94.8 "
       ]
      },
      {
       "output_type": "stream",
       "stream": "stdout",
       "text": [
        "92.7 "
       ]
      },
      {
       "output_type": "stream",
       "stream": "stdout",
       "text": [
        "89.7 "
       ]
      },
      {
       "output_type": "stream",
       "stream": "stdout",
       "text": [
        "97.6 "
       ]
      },
      {
       "output_type": "stream",
       "stream": "stdout",
       "text": [
        "88.4 "
       ]
      },
      {
       "output_type": "stream",
       "stream": "stdout",
       "text": [
        " 10/400\n",
        "85.7"
       ]
      },
      {
       "output_type": "stream",
       "stream": "stdout",
       "text": [
        " 90.6 "
       ]
      },
      {
       "output_type": "stream",
       "stream": "stdout",
       "text": [
        "81.4 "
       ]
      },
      {
       "output_type": "stream",
       "stream": "stdout",
       "text": [
        "95.0 "
       ]
      },
      {
       "output_type": "stream",
       "stream": "stdout",
       "text": [
        "1.21e+02 "
       ]
      },
      {
       "output_type": "stream",
       "stream": "stdout",
       "text": [
        "86.0 "
       ]
      },
      {
       "output_type": "stream",
       "stream": "stdout",
       "text": [
        "1.13e+02 "
       ]
      },
      {
       "output_type": "stream",
       "stream": "stdout",
       "text": [
        "91.9 "
       ]
      },
      {
       "output_type": "stream",
       "stream": "stdout",
       "text": [
        "86.5 "
       ]
      },
      {
       "output_type": "stream",
       "stream": "stdout",
       "text": [
        "97.6 "
       ]
      },
      {
       "output_type": "stream",
       "stream": "stdout",
       "text": [
        " 20/400\n",
        "93.4"
       ]
      },
      {
       "output_type": "stream",
       "stream": "stdout",
       "text": [
        " 86.7 "
       ]
      },
      {
       "output_type": "stream",
       "stream": "stdout",
       "text": [
        "1.2e+02 "
       ]
      },
      {
       "output_type": "stream",
       "stream": "stdout",
       "text": [
        "89.6 "
       ]
      },
      {
       "output_type": "stream",
       "stream": "stdout",
       "text": [
        "96.0 "
       ]
      },
      {
       "output_type": "stream",
       "stream": "stdout",
       "text": [
        "1.23e+02 "
       ]
      },
      {
       "output_type": "stream",
       "stream": "stdout",
       "text": [
        "80.3 "
       ]
      },
      {
       "output_type": "stream",
       "stream": "stdout",
       "text": [
        "78.6 "
       ]
      },
      {
       "output_type": "stream",
       "stream": "stdout",
       "text": [
        "1.41e+02 "
       ]
      },
      {
       "output_type": "stream",
       "stream": "stdout",
       "text": [
        "96.2 "
       ]
      },
      {
       "output_type": "stream",
       "stream": "stdout",
       "text": [
        " 30/400\n",
        "1.26e+02"
       ]
      },
      {
       "output_type": "stream",
       "stream": "stdout",
       "text": [
        " 94.5 "
       ]
      },
      {
       "output_type": "stream",
       "stream": "stdout",
       "text": [
        "1.2e+02 "
       ]
      },
      {
       "output_type": "stream",
       "stream": "stdout",
       "text": [
        "1.34e+02 "
       ]
      },
      {
       "output_type": "stream",
       "stream": "stdout",
       "text": [
        "1.02e+02 "
       ]
      },
      {
       "output_type": "stream",
       "stream": "stdout",
       "text": [
        "1.23e+02 "
       ]
      },
      {
       "output_type": "stream",
       "stream": "stdout",
       "text": [
        "1.59e+02 "
       ]
      },
      {
       "output_type": "stream",
       "stream": "stdout",
       "text": [
        "93.6 "
       ]
      },
      {
       "output_type": "stream",
       "stream": "stdout",
       "text": [
        "89.4 "
       ]
      },
      {
       "output_type": "stream",
       "stream": "stdout",
       "text": [
        "1.03e+02 "
       ]
      },
      {
       "output_type": "stream",
       "stream": "stdout",
       "text": [
        " 40/400\n",
        "1.04e+02"
       ]
      },
      {
       "output_type": "stream",
       "stream": "stdout",
       "text": [
        " 1.38e+02 "
       ]
      },
      {
       "output_type": "stream",
       "stream": "stdout",
       "text": [
        "86.4 "
       ]
      },
      {
       "output_type": "stream",
       "stream": "stdout",
       "text": [
        "99.5 "
       ]
      },
      {
       "output_type": "stream",
       "stream": "stdout",
       "text": [
        "1.02e+02 "
       ]
      },
      {
       "output_type": "stream",
       "stream": "stdout",
       "text": [
        "1.17e+02 "
       ]
      },
      {
       "output_type": "stream",
       "stream": "stdout",
       "text": [
        "1.17e+02 "
       ]
      },
      {
       "output_type": "stream",
       "stream": "stdout",
       "text": [
        "93.9 "
       ]
      },
      {
       "output_type": "stream",
       "stream": "stdout",
       "text": [
        "91.9 "
       ]
      },
      {
       "output_type": "stream",
       "stream": "stdout",
       "text": [
        "77.4 "
       ]
      },
      {
       "output_type": "stream",
       "stream": "stdout",
       "text": [
        " 50/400\n",
        "81.0"
       ]
      },
      {
       "output_type": "stream",
       "stream": "stdout",
       "text": [
        " 88.0 "
       ]
      },
      {
       "output_type": "stream",
       "stream": "stdout",
       "text": [
        "1.84e+02 "
       ]
      },
      {
       "output_type": "stream",
       "stream": "stdout",
       "text": [
        "1.12e+02 "
       ]
      },
      {
       "output_type": "stream",
       "stream": "stdout",
       "text": [
        "1.02e+02 "
       ]
      },
      {
       "output_type": "stream",
       "stream": "stdout",
       "text": [
        "87.7 "
       ]
      },
      {
       "output_type": "stream",
       "stream": "stdout",
       "text": [
        "97.4 "
       ]
      },
      {
       "output_type": "stream",
       "stream": "stdout",
       "text": [
        "81.4 "
       ]
      },
      {
       "output_type": "stream",
       "stream": "stdout",
       "text": [
        "86.7 "
       ]
      },
      {
       "output_type": "stream",
       "stream": "stdout",
       "text": [
        "1.48e+02 "
       ]
      },
      {
       "output_type": "stream",
       "stream": "stdout",
       "text": [
        " 60/400\n",
        "92.7"
       ]
      },
      {
       "output_type": "stream",
       "stream": "stdout",
       "text": [
        " 1.02e+02 "
       ]
      },
      {
       "output_type": "stream",
       "stream": "stdout",
       "text": [
        "76.6 "
       ]
      },
      {
       "output_type": "stream",
       "stream": "stdout",
       "text": [
        "83.3 "
       ]
      },
      {
       "output_type": "stream",
       "stream": "stdout",
       "text": [
        "1.05e+02 "
       ]
      },
      {
       "output_type": "stream",
       "stream": "stdout",
       "text": [
        "1.06e+02 "
       ]
      },
      {
       "output_type": "stream",
       "stream": "stdout",
       "text": [
        "1.85e+02 "
       ]
      },
      {
       "output_type": "stream",
       "stream": "stdout",
       "text": [
        "88.8 "
       ]
      },
      {
       "output_type": "stream",
       "stream": "stdout",
       "text": [
        "97.3 "
       ]
      },
      {
       "output_type": "stream",
       "stream": "stdout",
       "text": [
        "1.23e+02 "
       ]
      },
      {
       "output_type": "stream",
       "stream": "stdout",
       "text": [
        " 70/400\n",
        "1.15e+02"
       ]
      },
      {
       "output_type": "stream",
       "stream": "stdout",
       "text": [
        " 92.7 "
       ]
      },
      {
       "output_type": "stream",
       "stream": "stdout",
       "text": [
        "97.6 "
       ]
      },
      {
       "output_type": "stream",
       "stream": "stdout",
       "text": [
        "92.4 "
       ]
      },
      {
       "output_type": "stream",
       "stream": "stdout",
       "text": [
        "1.52e+02 "
       ]
      },
      {
       "output_type": "stream",
       "stream": "stdout",
       "text": [
        "1.33e+02 "
       ]
      },
      {
       "output_type": "stream",
       "stream": "stdout",
       "text": [
        "81.5 "
       ]
      },
      {
       "output_type": "stream",
       "stream": "stdout",
       "text": [
        "1.06e+02 "
       ]
      },
      {
       "output_type": "stream",
       "stream": "stdout",
       "text": [
        "89.5 "
       ]
      },
      {
       "output_type": "stream",
       "stream": "stdout",
       "text": [
        "96.0 "
       ]
      },
      {
       "output_type": "stream",
       "stream": "stdout",
       "text": [
        " 80/400\n",
        "97.0"
       ]
      },
      {
       "output_type": "stream",
       "stream": "stdout",
       "text": [
        " 1.04e+02 "
       ]
      },
      {
       "output_type": "stream",
       "stream": "stdout",
       "text": [
        "1.58e+02 "
       ]
      },
      {
       "output_type": "stream",
       "stream": "stdout",
       "text": [
        "1.01e+02 "
       ]
      },
      {
       "output_type": "stream",
       "stream": "stdout",
       "text": [
        "98.0 "
       ]
      },
      {
       "output_type": "stream",
       "stream": "stdout",
       "text": [
        "83.8 "
       ]
      },
      {
       "output_type": "stream",
       "stream": "stdout",
       "text": [
        "1.14e+02 "
       ]
      },
      {
       "output_type": "stream",
       "stream": "stdout",
       "text": [
        "1.06e+02 "
       ]
      },
      {
       "output_type": "stream",
       "stream": "stdout",
       "text": [
        "1.16e+02 "
       ]
      },
      {
       "output_type": "stream",
       "stream": "stdout",
       "text": [
        "99.3 "
       ]
      },
      {
       "output_type": "stream",
       "stream": "stdout",
       "text": [
        " 90/400\n",
        "87.7"
       ]
      },
      {
       "output_type": "stream",
       "stream": "stdout",
       "text": [
        " 94.8 "
       ]
      },
      {
       "output_type": "stream",
       "stream": "stdout",
       "text": [
        "1.04e+02 "
       ]
      },
      {
       "output_type": "stream",
       "stream": "stdout",
       "text": [
        "85.3 "
       ]
      },
      {
       "output_type": "stream",
       "stream": "stdout",
       "text": [
        "1.18e+02 "
       ]
      },
      {
       "output_type": "stream",
       "stream": "stdout",
       "text": [
        "1.07e+02 "
       ]
      },
      {
       "output_type": "stream",
       "stream": "stdout",
       "text": [
        "99.2 "
       ]
      },
      {
       "output_type": "stream",
       "stream": "stdout",
       "text": [
        "85.1 "
       ]
      },
      {
       "output_type": "stream",
       "stream": "stdout",
       "text": [
        "1.06e+02 "
       ]
      },
      {
       "output_type": "stream",
       "stream": "stdout",
       "text": [
        "1.12e+02 "
       ]
      },
      {
       "output_type": "stream",
       "stream": "stdout",
       "text": [
        "  0/400\n",
        "92.9"
       ]
      },
      {
       "output_type": "stream",
       "stream": "stdout",
       "text": [
        " 1.02e+02 "
       ]
      },
      {
       "output_type": "stream",
       "stream": "stdout",
       "text": [
        "99.1 "
       ]
      },
      {
       "output_type": "stream",
       "stream": "stdout",
       "text": [
        "90.3 "
       ]
      }
     ],
     "prompt_number": "*"
    },
    {
     "cell_type": "code",
     "collapsed": false,
     "input": [
      "save_amira('tmp_res_10.h5')"
     ],
     "language": "python",
     "metadata": {},
     "outputs": []
    },
    {
     "cell_type": "code",
     "collapsed": false,
     "input": [
      "res=None\n",
      "with h5py.File('tmp_res_10.h5') as h5f:\n",
      "    res=h5f['res'].value"
     ],
     "language": "python",
     "metadata": {},
     "outputs": []
    },
    {
     "cell_type": "code",
     "collapsed": false,
     "input": [
      "pylab.imshow(res[200,:,:],cmap=pylab.cm.copper,vmin=0,vmax=10)"
     ],
     "language": "python",
     "metadata": {},
     "outputs": []
    },
    {
     "cell_type": "code",
     "collapsed": false,
     "input": [
      "pylab.imshow(res[:,100,:],cmap=pylab.cm.copper,vmin=0,vmax=10)"
     ],
     "language": "python",
     "metadata": {},
     "outputs": []
    },
    {
     "cell_type": "code",
     "collapsed": false,
     "input": [
      "pylab.imshow(res[:,:,100],cmap=pylab.cm.copper,vmin=0,vmax=10)"
     ],
     "language": "python",
     "metadata": {},
     "outputs": []
    },
    {
     "cell_type": "code",
     "collapsed": false,
     "input": [
      "with h5py.File('tmp_res.h5','w') as h5res:\n",
      "    h5res['res']=res\n",
      "    h5res['nv']=nv_list"
     ],
     "language": "python",
     "metadata": {},
     "outputs": []
    },
    {
     "cell_type": "code",
     "collapsed": false,
     "input": [
      "!git commit -a -m 'pomodoro'"
     ],
     "language": "python",
     "metadata": {},
     "outputs": [
      {
       "output_type": "stream",
       "stream": "stdout",
       "text": [
        "[feature/topotomo ed8fe43] pomodoro\r\n",
        " 1 file changed, 2574 insertions(+), 458 deletions(-)\r\n",
        " rewrite code_experiments/topotomo.ipynb (81%)\r\n"
       ]
      }
     ],
     "prompt_number": 1
    },
    {
     "cell_type": "code",
     "collapsed": false,
     "input": [
      "%qtconsole"
     ],
     "language": "python",
     "metadata": {},
     "outputs": []
    },
    {
     "cell_type": "code",
     "collapsed": false,
     "input": [
      "for i in range(0,180,10):\n",
      "    pylab.imsave('{:03}.png'.format(i),\n",
      "        myfast.project_volume_fast(myfast.rotate_volume_fast(res,i)))"
     ],
     "language": "python",
     "metadata": {},
     "outputs": []
    },
    {
     "cell_type": "code",
     "collapsed": false,
     "input": [],
     "language": "python",
     "metadata": {},
     "outputs": []
    }
   ],
   "metadata": {}
  }
 ]
}