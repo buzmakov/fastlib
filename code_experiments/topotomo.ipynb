{
 "metadata": {
  "name": "topotomo"
 },
 "nbformat": 3,
 "nbformat_minor": 0,
 "worksheets": [
  {
   "cells": [
    {
     "cell_type": "code",
     "collapsed": false,
     "input": [
      "import sys\n",
      "sys.path.insert(0,'..')\n",
      "import numpy\n",
      "import scipy.ndimage\n",
      "import pylab\n",
      "import fastlib\n",
      "from utils.natsort import natsorted\n",
      "import fastlib.imageprocessing.ispmd.ispmd_image_processing as myfast\n",
      "import h5py\n",
      "import os"
     ],
     "language": "python",
     "metadata": {},
     "outputs": []
    },
    {
     "cell_type": "code",
     "collapsed": false,
     "input": [
      "data_file=r'/media/tmp/work/Grigoriev_diamond_results march 2011/Grigoriev/topotomo_data.h5'"
     ],
     "language": "python",
     "metadata": {},
     "outputs": []
    },
    {
     "cell_type": "code",
     "collapsed": false,
     "input": [
      "def get_angle(group):\n",
      "    '''\n",
      "    Return rotation angle\n",
      "    '''\n",
      "    ang=float(group['header']['motor_pos'].value.split(' ')[0])\n",
      "    return ang\n",
      "\n",
      "def get_data(group):\n",
      "    '''\n",
      "    Get data, crop it to square frames and reshape\n",
      "    '''\n",
      "    data=group['data'].value\n",
      "    ds=data.shape\n",
      "    delta_ds=(ds[1]-ds[0])/2\n",
      "    data=data[:,delta_ds:(ds[0]+delta_ds)]\n",
      "    data=scipy.ndimage.zoom(data,0.2)\n",
      "    return data"
     ],
     "language": "python",
     "metadata": {},
     "outputs": []
    },
    {
     "cell_type": "code",
     "collapsed": false,
     "input": [
      "#\u0441\u043e\u0437\u0434\u0430\u0451\u043c \u043f\u0440\u043e\u0440\u0435\u0436\u0435\u043d\u043d\u044b\u0439 \u0444\u0430\u0439\u043b\n",
      "with h5py.File(data_file,'r') as h5f:\n",
      "    keys=[k.encode() for k in natsorted(h5f.keys())]\n",
      "    keys=keys[::10]\n",
      "    with h5py.File('tmp_data.h5') as tmph5:\n",
      "        for k in keys:\n",
      "            tmph5[k+'/data']=get_data(h5f[k])\n",
      "            tmph5[k+'/ang']=get_angle(h5f[k])"
     ],
     "language": "python",
     "metadata": {},
     "outputs": []
    },
    {
     "cell_type": "code",
     "collapsed": false,
     "input": [
      "prj={}\n",
      "\n",
      "def add_item(name,obj):\n",
      "    if isinstance(obj, h5py.Group):\n",
      "        prj.update({obj['ang'].value:obj['data'].value})\n",
      "\n",
      "with h5py.File('tmp_data.h5','r') as tmph5:\n",
      "    tmph5.visititems(add_item)\n",
      "    "
     ],
     "language": "python",
     "metadata": {},
     "outputs": []
    },
    {
     "cell_type": "code",
     "collapsed": false,
     "input": [
      "for ik,k in enumerate(sort(prj.keys())):\n",
      "    tp=prj[k]\n",
      "   # lvl=2000.0\n",
      "   # tp=tp*(tp<lvl)+lvl*(tp>=lvl)\n",
      "    pylab.imsave('{:2}.png'.format(ik),tp)"
     ],
     "language": "python",
     "metadata": {},
     "outputs": []
    },
    {
     "cell_type": "code",
     "collapsed": false,
     "input": [
      "from random import shuffle\n",
      "def project(vol, h_angle, v_angle):\n",
      "    tmp_vol=myfast.rotate_volume_fast(vol,h_angle)\n",
      "    tmp_vol=myfast.rotate_volume_z_fast(vol,v_angle)\n",
      "    p=myfast.project_volume_fast(vol)\n",
      "    return p\n",
      "\n",
      "def back_project(proj, h_angle, v_angle):\n",
      "    sh=proj.shape[0]\n",
      "    tmp_vol=numpy.empty(shape=(sh,sh,sh),dtype='float32')\n",
      "    myfast.backproject_volume_fast(proj,tmp_vol)\n",
      "    tmp_vol=myfast.rotate_volume_z_fast(tmp_vol,-v_angle)\n",
      "    tmp_vol=myfast.rotate_volume_fast(tmp_vol,-h_angle)\n",
      "    return tmp_vol\n",
      "\n",
      "def topo_tomo(prjs,axis_angle=-15.0):\n",
      "    im_size=prj[prj.keys()[0]].shape[0]\n",
      "    print 'Projections size=',im_size\n",
      "    print 'Axis angle = ', axis_angle\n",
      "    res=numpy.zeros(shape=(im_size,im_size,im_size),dtype='float32')\n",
      "    angles=prjs.keys()\n",
      "    shuffle(angles)\n",
      "    for iang,ang in enumerate(angles):\n",
      "        if iang%10==0:\n",
      "            print '{:3}/{:3}'.format(iang,len(angles))\n",
      "        p=project(res,ang,axis_angle)\n",
      "        p=prj[ang]-p;\n",
      "        bp=back_project(-0.5*p,ang,axis_angle)\n",
      "        res-=bp\n",
      "        res*=res>0\n",
      "    return res"
     ],
     "language": "python",
     "metadata": {},
     "outputs": []
    },
    {
     "cell_type": "code",
     "collapsed": false,
     "input": [
      "res=topo_tomo(prj)"
     ],
     "language": "python",
     "metadata": {},
     "outputs": []
    },
    {
     "cell_type": "code",
     "collapsed": false,
     "input": [
      "pylab.imshow(res[:,:,100])\n",
      "pylab.colorbar()"
     ],
     "language": "python",
     "metadata": {},
     "outputs": []
    },
    {
     "cell_type": "code",
     "collapsed": false,
     "input": [
      "!git commit -a -m 'change project and abckproject to ortohonal verions. pomodoro'"
     ],
     "language": "python",
     "metadata": {},
     "outputs": []
    },
    {
     "cell_type": "code",
     "collapsed": false,
     "input": [
      "%qtconsole"
     ],
     "language": "python",
     "metadata": {},
     "outputs": []
    },
    {
     "cell_type": "code",
     "collapsed": false,
     "input": [],
     "language": "python",
     "metadata": {},
     "outputs": []
    }
   ],
   "metadata": {}
  }
 ]
}