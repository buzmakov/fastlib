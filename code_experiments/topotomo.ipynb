{
 "metadata": {
  "name": "topotomo"
 },
 "nbformat": 3,
 "nbformat_minor": 0,
 "worksheets": [
  {
   "cells": [
    {
     "cell_type": "code",
     "collapsed": false,
     "input": [
      "import sys\n",
      "sys.path.insert(0,'..')\n",
      "import numpy\n",
      "import scipy.ndimage\n",
      "import pylab\n",
      "import fastlib\n",
      "from utils.natsort import natsorted\n",
      "import fastlib.imageprocessing.ispmd.ispmd_image_processing as myfast\n",
      "import h5py\n",
      "import os\n",
      "import logging\n",
      "import glob"
     ],
     "language": "python",
     "metadata": {},
     "outputs": []
    },
    {
     "cell_type": "code",
     "collapsed": false,
     "input": [
      "data_file=r'/media/tmp/work/Grigoriev_diamond_results march 2011/Grigoriev/topotomo_data.h5'"
     ],
     "language": "python",
     "metadata": {},
     "outputs": []
    },
    {
     "cell_type": "code",
     "collapsed": false,
     "input": [
      "def save_amira(input_file):\n",
      "    \"\"\"\n",
      "    \u0424\u0443\u043d\u043a\u0446\u0438\u044f \u0441\u043e\u0445\u0440\u0430\u043d\u044f\u0435\u0442 \u0440\u0435\u043a\u043e\u043d\u0441\u0442\u0440\u0443\u0438\u0440\u043e\u0432\u0430\u043d\u043d\u044b\u0435 \u0441\u043b\u043e\u0438 \u0432 \u0444\u043e\u0440\u043c\u0430\u0442\u0435 Amira raw file\n",
      "\n",
      "    Inputs:\n",
      "        data_path - \u043f\u0443\u0442\u044c \u043a \u0434\u0438\u0440\u0435\u043a\u0442\u043e\u0440\u0438\u0438, \u0433\u0434\u0435 \u043d\u0430\u0445\u043e\u0434\u0438\u0442\u044c\u0441\u044f \u0444\u0430\u0439\u043b res_tomo.hdf5 \u0432 \u0444\u043e\u0440\u043c\u0430\u0442\u0435 HDF5\n",
      "            \u0432 \u044d\u0442\u043e\u043c \u0444\u0430\u0439\u0434\u0435 \u0434\u043e\u043b\u0436\u0435\u043d \u0431\u044b\u0442\u044c \u0440\u0430\u0437\u0434\u0435\u043b (node) /Results \u0432 \u043a\u043e\u0442\u043e\u0440\u043e\u043c \u0432 \u0432\u0438\u0434\u0435 3D \u043c\u0430\u0441\u0441\u0438\u0432\u0430\n",
      "            \u0437\u0430\u043f\u0438\u0441\u0430\u043d\u044b \u0440\u0435\u043a\u043e\u043d\u0441\u0442\u0440\u0443\u0438\u0440\u043e\u0432\u0430\u043d\u043d\u044b\u0439 \u043e\u0431\u044a\u0451\u043c\n",
      "    Outputs:\n",
      "        \u0424\u0430\u0439\u043b\u044b amira.raw \u0438 tomo.hx. \u0415\u0441\u043b\u0438 \u0444\u0430\u0439\u043b\u044b \u0443\u0436\u0435 \u0441\u0443\u0449\u0435\u0441\u0442\u0432\u0443\u044e\u0442, \u0442\u043e \u043e\u043d\u0438 \u043f\u0435\u0440\u0435\u0437\u0430\u043f\u0438\u0441\u044b\u0432\u0430\u044e\u0442\u0441\u044f.\n",
      "        \u0422\u0438\u043f \u0434\u0430\u043d\u043d\u044b\u0445: float32 little endian\n",
      "    \"\"\"\n",
      "    hx_file_name=input_file+'.hx'\n",
      "    raw_file_name=input_file+'.raw'\n",
      "    logging.info('Saving Amira files')\n",
      "    data_path=os.path.dirname(input_file)\n",
      "    with open(os.path.join(data_path,raw_file_name),'wb') as amira_file:\n",
      "        with h5py.File(input_file,'r') as h5f:\n",
      "            x=h5f['res']\n",
      "            for i in range(x.shape[0]):\n",
      "                numpy.array(x[i,:,:],dtype='float32').tofile(amira_file)\n",
      "\n",
      "            file_shape=x.shape\n",
      "\n",
      "            with open(os.path.join(data_path,hx_file_name),'w') as af:\n",
      "                af.write('# Amira Script\\n')\n",
      "                af.write('remove -all\\n')\n",
      "                af.write('[ load -raw ${SCRIPTDIR}/'+\n",
      "                        '{0} little xfastest float 1 {1} {2} {3} 0 {4}  0 {5} 0 {6} ] setLabel {0}\\n'.format(\n",
      "                    raw_file_name,file_shape[1],file_shape[2],file_shape[0],file_shape[1]-1,file_shape[2]-1,file_shape[0]-1))"
     ],
     "language": "python",
     "metadata": {},
     "outputs": []
    },
    {
     "cell_type": "code",
     "collapsed": false,
     "input": [
      "def get_angle(group):\n",
      "    '''\n",
      "    Return rotation angle\n",
      "    '''\n",
      "    ang=float(group['header']['motor_pos'].value.split(' ')[0])\n",
      "    return ang\n",
      "\n",
      "def get_data(group):\n",
      "    '''\n",
      "    Get data, crop it to square frames and reshape\n",
      "    '''\n",
      "    data=group['data'].value\n",
      "    ds=data.shape\n",
      "    delta_ds=(ds[1]-ds[0])/2\n",
      "    data=data[:,delta_ds:(ds[0]+delta_ds)]\n",
      "    data=scipy.ndimage.zoom(data,0.3)\n",
      "    #data=numpy.rot90(data)\n",
      "    return data"
     ],
     "language": "python",
     "metadata": {},
     "outputs": []
    },
    {
     "cell_type": "code",
     "collapsed": false,
     "input": [
      "#\u0441\u043e\u0437\u0434\u0430\u0451\u043c \u043f\u0440\u043e\u0440\u0435\u0436\u0435\u043d\u043d\u044b\u0439 \u0444\u0430\u0439\u043b\n",
      "with h5py.File(data_file,'r') as h5f:\n",
      "    keys=[k.encode() for k in natsorted(h5f.keys())]\n",
      "    keys=keys[::2]\n",
      "    with h5py.File('tmp_data.h5','w') as tmph5:\n",
      "        for k in keys:\n",
      "            tmph5[k+'/data']=get_data(h5f[k])\n",
      "            tmph5[k+'/ang']=get_angle(h5f[k])"
     ],
     "language": "python",
     "metadata": {},
     "outputs": []
    },
    {
     "cell_type": "code",
     "collapsed": false,
     "input": [
      "prj={}\n",
      "def pad_array(x,pad_size):\n",
      "    y=numpy.zeros((x.shape[0]+2*pad_size,x.shape[1]+2*pad_size));\n",
      "    y[pad_size:-pad_size,pad_size:-pad_size]=x;\n",
      "    return y\n",
      "\n",
      "def add_item(name,obj):\n",
      "    if isinstance(obj, h5py.Group):\n",
      "        prj.update({obj['ang'].value:obj['data'].value})\n",
      "\n",
      "with h5py.File('tmp_data.h5','r') as tmph5:\n",
      "    tmph5.visititems(add_item)\n",
      "    "
     ],
     "language": "python",
     "metadata": {},
     "outputs": []
    },
    {
     "cell_type": "code",
     "collapsed": false,
     "input": [
      "mask=numpy.ones_like(prj[prj.keys()[0]])\n",
      "x=numpy.arange(-mask.shape[0]/2,mask.shape[0]/2)\n",
      "y=1./(numpy.exp((numpy.abs(x)-x.max()*0.80)/30.0)+1)\n",
      "mask*=y\n",
      "mask=numpy.rot90(mask)*y\n",
      "pylab.imshow(mask,cmap=pylab.cm.copper)\n",
      "#ylab.plot(y)\n",
      "pylab.colorbar()"
     ],
     "language": "python",
     "metadata": {},
     "outputs": []
    },
    {
     "cell_type": "code",
     "collapsed": false,
     "input": [
      "for k in prj.keys():\n",
      "    p=prj[k]\n",
      "    h=2000.0\n",
      "    p-=400\n",
      "    p=p*(p>0)*(p<h)+h*(p>=h)\n",
      "    p=p/p.sum()*1e6\n",
      "    p*=mask\n",
      "    p=pad_array(p,50)\n",
      "    prj[k]=numpy.array(p,dtype='float32')"
     ],
     "language": "python",
     "metadata": {},
     "outputs": []
    },
    {
     "cell_type": "code",
     "collapsed": false,
     "input": [
      "p=prj.values()[100]\n",
      "#p=p*(p>100)*(p<2000)+2000*(p>=2000)\n",
      "pylab.imshow(p,cmap=pylab.cm.copper)\n",
      "pylab.colorbar()"
     ],
     "language": "python",
     "metadata": {},
     "outputs": []
    },
    {
     "cell_type": "code",
     "collapsed": false,
     "input": [
      "pylab.plot([p.max() for p in prj.values()])"
     ],
     "language": "python",
     "metadata": {},
     "outputs": []
    },
    {
     "cell_type": "code",
     "collapsed": false,
     "input": [
      "pylab.plot([p.sum()/numpy.prod(p.shape) for p in prj.values()])"
     ],
     "language": "python",
     "metadata": {},
     "outputs": []
    },
    {
     "cell_type": "code",
     "collapsed": false,
     "input": [
      "for ik,k in enumerate(sort(prj.keys())):\n",
      "    tp=prj[k]\n",
      "   # lvl=2000.0\n",
      "   # tp=tp*(tp<lvl)+lvl*(tp>=lvl)\n",
      "    pylab.imsave('{:3}.png'.format(ik),tp)"
     ],
     "language": "python",
     "metadata": {},
     "outputs": []
    },
    {
     "cell_type": "code",
     "collapsed": false,
     "input": [
      "from random import shuffle\n",
      "def project(vol, h_angle, v_angle):\n",
      "    tmp_vol=myfast.rotate_volume_fast(vol,h_angle)  \n",
      "    tmp_vol=myfast.rotate_volume_z_fast(tmp_vol,v_angle) \n",
      "    p=myfast.project_volume_fast(tmp_vol)\n",
      "    return p\n",
      "\n",
      "def back_project(proj, h_angle, v_angle):\n",
      "    sh=proj.shape[0]\n",
      "    tmp_vol=numpy.empty(shape=(sh,sh,sh),dtype='float32')\n",
      "    myfast.backproject_volume_fast(proj,tmp_vol)\n",
      "    tmp_vol=myfast.rotate_volume_z_fast(tmp_vol,-v_angle)\n",
      "    tmp_vol=myfast.rotate_volume_fast(tmp_vol,-h_angle)\n",
      "    return tmp_vol\n",
      "\n",
      "def topo_tomo(prjs,axis_angle):\n",
      "    nv_list=[]\n",
      "    im_size=prj[prj.keys()[0]].shape[0]\n",
      "    print 'Projections size=',im_size\n",
      "    print 'Axis angle = ', axis_angle\n",
      "    res=numpy.zeros(shape=(im_size,im_size,im_size),dtype='float32')\n",
      "    angles=prjs.keys()\n",
      "    #shuffle(angles)\n",
      "    for i in range(3):\n",
      "        shuffle(angles)\n",
      "        tmp_angles=angles[0:-1:4]\n",
      "        l=0.8-0.15*i\n",
      "        for iang,ang in enumerate(tmp_angles):\n",
      "            if iang%10==0:\n",
      "                print '{} {} {:3}/{:3}'.format(axis_angle,i,iang,len(tmp_angles)),\n",
      "                res*=res>0.0\n",
      "            p=project(res,ang,axis_angle)\n",
      "            corr_p=prj[ang]-p;\n",
      "            #corr_p=numpy.minimum(corr_p,100.0)\n",
      "            #corr_p=numpy.maximum(corr_p,-100.0)\n",
      "            #pylab.imshow(p)\n",
      "            #pylab.colorbar()\n",
      "            nv=(corr_p*corr_p).sum()/numpy.prod(corr_p.shape)\n",
      "            nv=nv**0.5\n",
      "            bp=back_project(l*corr_p,ang,axis_angle)\n",
      "            #print '{:.3}'.format(nv),\n",
      "            nv_list.append(nv)\n",
      "            res+=bp\n",
      "    res*=res>0\n",
      "    return res, nv_list"
     ],
     "language": "python",
     "metadata": {},
     "outputs": []
    },
    {
     "cell_type": "code",
     "collapsed": false,
     "input": [
      "for v_ang in [10,5,15,-10,-15,8,12,10,]:\n",
      "    res, nv_list = topo_tomo(prj,axis_angle=v_ang)\n",
      "    h5fname='tmp_res_{}.h5'.format(v_ang)\n",
      "    with h5py.File(h5fname,'w') as h5res:\n",
      "        h5res['res']=res\n",
      "        h5res['nv']=nv_list\n",
      "    del res\n",
      "    del nv_list\n",
      "    save_amira(h5fname)"
     ],
     "language": "python",
     "metadata": {},
     "outputs": []
    },
    {
     "cell_type": "code",
     "collapsed": false,
     "input": [
      "for fn in glob.glob('tmp_res_10.h5'):\n",
      "    print fn\n",
      "    save_amira(fn)"
     ],
     "language": "python",
     "metadata": {},
     "outputs": []
    },
    {
     "cell_type": "code",
     "collapsed": false,
     "input": [
      "res=None\n",
      "with h5py.File('tmp_res_10.h5') as h5f:\n",
      "    res=h5f['res'].value"
     ],
     "language": "python",
     "metadata": {},
     "outputs": []
    },
    {
     "cell_type": "code",
     "collapsed": false,
     "input": [
      "pylab.imshow(res[200,:,:],cmap=pylab.cm.copper,vmin=0,vmax=10)"
     ],
     "language": "python",
     "metadata": {},
     "outputs": []
    },
    {
     "cell_type": "code",
     "collapsed": false,
     "input": [
      "pylab.imshow(res[:,100,:],cmap=pylab.cm.copper,vmin=0,vmax=10)"
     ],
     "language": "python",
     "metadata": {},
     "outputs": []
    },
    {
     "cell_type": "code",
     "collapsed": false,
     "input": [
      "pylab.imshow(res[:,:,100],cmap=pylab.cm.copper,vmin=0,vmax=10)"
     ],
     "language": "python",
     "metadata": {},
     "outputs": []
    },
    {
     "cell_type": "code",
     "collapsed": false,
     "input": [
      "with h5py.File('tmp_res.h5','w') as h5res:\n",
      "    h5res['res']=res\n",
      "    h5res['nv']=nv_list"
     ],
     "language": "python",
     "metadata": {},
     "outputs": []
    },
    {
     "cell_type": "code",
     "collapsed": false,
     "input": [
      "!git commit -a -m 'pomodoro'"
     ],
     "language": "python",
     "metadata": {},
     "outputs": []
    },
    {
     "cell_type": "code",
     "collapsed": false,
     "input": [
      "%qtconsole"
     ],
     "language": "python",
     "metadata": {},
     "outputs": []
    },
    {
     "cell_type": "code",
     "collapsed": false,
     "input": [],
     "language": "python",
     "metadata": {},
     "outputs": []
    }
   ],
   "metadata": {}
  }
 ]
}