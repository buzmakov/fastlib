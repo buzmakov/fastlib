{
 "metadata": {
  "name": "topotomo-diamond"
 },
 "nbformat": 3,
 "nbformat_minor": 0,
 "worksheets": [
  {
   "cells": [
    {
     "cell_type": "code",
     "collapsed": false,
     "input": [
      "import sys\n",
      "sys.path.insert(0,'..')\n",
      "import numpy as np\n",
      "import scipy as sp\n",
      "import scipy.ndimage\n",
      "import pylab as plt\n",
      "import fastlib\n",
      "from utils.natsort import natsorted\n",
      "import fastlib.imageprocessing.ispmd.ispmd_image_processing as myfast\n",
      "import h5py\n",
      "import os\n",
      "import logging\n",
      "import glob\n",
      "import skimage\n",
      "import skimage.filter\n",
      "import scipy.io\n",
      "import pyfits\n",
      "import warnings\n",
      "warnings.filterwarnings(\"ignore\", category=Warning)"
     ],
     "language": "python",
     "metadata": {},
     "outputs": []
    },
    {
     "cell_type": "code",
     "collapsed": false,
     "input": [
      "def get_frame_from_file(file_path):\n",
      "    \"\"\"\n",
      "    Get array from fits file (FIAN dialect :) )\n",
      "\n",
      "    :param file_path: Path to fits file\n",
      "    :return: numpy array of float32\n",
      "    :raise: IOError if input file not exists.\n",
      "    \"\"\"\n",
      "    if os.path.exists(file_path):\n",
      "        fi = pyfits.open(file_path, ignore_missing_end=True)\n",
      "        a = np.array(fi[0].data, dtype='uint16').astype('float32')\n",
      "        fi.close()\n",
      "        logging.info(str.format('Reading FITS file {0}', file_path))\n",
      "        return a[1000:1700:2,950:1650:2]\n",
      "    else:\n",
      "        raise IOError(str.format('File {0} not found.', file_path))"
     ],
     "language": "python",
     "metadata": {},
     "outputs": []
    },
    {
     "cell_type": "code",
     "collapsed": false,
     "input": [
      "data_folder=r'/media/tmp/work/Diamomd topo/exp/'\n",
      "h5data = os.path.join(data_folder,'data.h5')\n",
      "#data_file=r'/media/tmp/work/Grigoriev_diamond_results march 2011/Grigoriev/topotomo_data.h5'"
     ],
     "language": "python",
     "metadata": {},
     "outputs": []
    },
    {
     "cell_type": "markdown",
     "metadata": {},
     "source": [
      "#\u0417\u0430\u0433\u0440\u0443\u0437\u043a\u0430 \u0438\u0441\u0445\u043e\u0434\u043d\u044b\u0445 \u0444\u0430\u0439\u043b\u043e\u0432 \u0438 \u0437\u0430\u043f\u0438\u0441\u044c \u0438\u0445 \u0432 HDF5"
     ]
    },
    {
     "cell_type": "code",
     "collapsed": false,
     "input": [
      "free_files=natsorted(glob.glob(os.path.join(data_folder,'FREE_*.fit')))\n",
      "print len(free_files)\n",
      "data_files=natsorted(glob.glob(os.path.join(data_folder,'TEST_*.fit')))\n",
      "print len(data_files)"
     ],
     "language": "python",
     "metadata": {},
     "outputs": []
    },
    {
     "cell_type": "code",
     "collapsed": false,
     "input": [
      "mean_free = None\n",
      "for ff in free_files:\n",
      "    f = get_frame_from_file(ff)\n",
      "    if mean_free is None:\n",
      "        mean_free = f\n",
      "    else:\n",
      "        mean_free += f\n",
      "mean_free /= len(free_files)"
     ],
     "language": "python",
     "metadata": {},
     "outputs": []
    },
    {
     "cell_type": "code",
     "collapsed": false,
     "input": [
      "if not os.path.exists(h5data):\n",
      "    with h5py.File(h5data, 'w') as h5f:\n",
      "        for idx_df, df in enumerate(data_files):\n",
      "            d = get_frame_from_file(df)\n",
      "            d-= mean_free\n",
      "            d = d*(d>=0)\n",
      "            h5f.create_dataset('/Data/'+str(idx_df)+'/data', data = d, chunks=True, compression='gzip', compression_opts=9)\n",
      "            h5f.create_dataset('/Data/'+str(idx_df)+'/angle', data = idx_df*2)"
     ],
     "language": "python",
     "metadata": {},
     "outputs": []
    },
    {
     "cell_type": "code",
     "collapsed": false,
     "input": [
      "def save_amira(input_file):\n",
      "    \"\"\"\n",
      "    \u0424\u0443\u043d\u043a\u0446\u0438\u044f \u0441\u043e\u0445\u0440\u0430\u043d\u044f\u0435\u0442 \u0440\u0435\u043a\u043e\u043d\u0441\u0442\u0440\u0443\u0438\u0440\u043e\u0432\u0430\u043d\u043d\u044b\u0435 \u0441\u043b\u043e\u0438 \u0432 \u0444\u043e\u0440\u043c\u0430\u0442\u0435 Amira raw file\n",
      "\n",
      "    Inputs:\n",
      "        data_path - \u043f\u0443\u0442\u044c \u043a \u0434\u0438\u0440\u0435\u043a\u0442\u043e\u0440\u0438\u0438, \u0433\u0434\u0435 \u043d\u0430\u0445\u043e\u0434\u0438\u0442\u044c\u0441\u044f \u0444\u0430\u0439\u043b res_tomo.hdf5 \u0432 \u0444\u043e\u0440\u043c\u0430\u0442\u0435 HDF5\n",
      "            \u0432 \u044d\u0442\u043e\u043c \u0444\u0430\u0439\u0434\u0435 \u0434\u043e\u043b\u0436\u0435\u043d \u0431\u044b\u0442\u044c \u0440\u0430\u0437\u0434\u0435\u043b (node) /Results \u0432 \u043a\u043e\u0442\u043e\u0440\u043e\u043c \u0432 \u0432\u0438\u0434\u0435 3D \u043c\u0430\u0441\u0441\u0438\u0432\u0430\n",
      "            \u0437\u0430\u043f\u0438\u0441\u0430\u043d\u044b \u0440\u0435\u043a\u043e\u043d\u0441\u0442\u0440\u0443\u0438\u0440\u043e\u0432\u0430\u043d\u043d\u044b\u0439 \u043e\u0431\u044a\u0451\u043c\n",
      "    Outputs:\n",
      "        \u0424\u0430\u0439\u043b\u044b amira.raw \u0438 tomo.hx. \u0415\u0441\u043b\u0438 \u0444\u0430\u0439\u043b\u044b \u0443\u0436\u0435 \u0441\u0443\u0449\u0435\u0441\u0442\u0432\u0443\u044e\u0442, \u0442\u043e \u043e\u043d\u0438 \u043f\u0435\u0440\u0435\u0437\u0430\u043f\u0438\u0441\u044b\u0432\u0430\u044e\u0442\u0441\u044f.\n",
      "        \u0422\u0438\u043f \u0434\u0430\u043d\u043d\u044b\u0445: float32 little endian\n",
      "    \"\"\"\n",
      "    hx_file_name=input_file+'.hx'\n",
      "    raw_file_name=input_file+'.raw'\n",
      "    logging.info('Saving Amira files')\n",
      "    data_path=os.path.dirname(input_file)\n",
      "    with open(os.path.join(data_path,raw_file_name),'wb') as amira_file:\n",
      "        with h5py.File(input_file,'r') as h5f:\n",
      "            x=h5f['res']\n",
      "            for i in range(x.shape[0]):\n",
      "                numpy.array(x[i,:,:],dtype='float32').tofile(amira_file)\n",
      "\n",
      "            file_shape=x.shape\n",
      "\n",
      "            with open(os.path.join(data_path,hx_file_name),'w') as af:\n",
      "                af.write('# Amira Script\\n')\n",
      "                af.write('remove -all\\n')\n",
      "                af.write('[ load -raw ${SCRIPTDIR}/'+\n",
      "                        '{0} little xfastest float 1 {1} {2} {3} 0 {4}  0 {5} 0 {6} ] setLabel {0}\\n'.format(\n",
      "                    raw_file_name,file_shape[1],file_shape[2],file_shape[0],file_shape[1]-1,file_shape[2]-1,file_shape[0]-1))"
     ],
     "language": "python",
     "metadata": {},
     "outputs": []
    },
    {
     "cell_type": "markdown",
     "metadata": {},
     "source": [
      "#\u0427\u0442\u0435\u043d\u0438\u0435 \u043f\u0440\u043e\u0435\u043a\u0446\u0438\u0439 \u0438\u0437 HDF5"
     ]
    },
    {
     "cell_type": "code",
     "collapsed": false,
     "input": [
      "prj={}\n",
      "def pad_array(x,pad_size):\n",
      "    y=numpy.zeros((x.shape[0]+2*pad_size,x.shape[1]+2*pad_size));\n",
      "    y[pad_size:-pad_size,pad_size:-pad_size]=x;\n",
      "    return y\n",
      "\n",
      "def add_item(name,obj):\n",
      "    if name.startswith('Data/') and isinstance(obj, h5py.Group):\n",
      "        #print name\n",
      "        angle = obj['angle'].value\n",
      "        data = obj['data'].value\n",
      "        data/=data.sum()\n",
      "        data*=numpy.prod(data.shape)\n",
      "        prj.update({angle: data})\n",
      "\n",
      "with h5py.File(h5data,'r') as tmph5:\n",
      "    tmph5.visititems(add_item)\n",
      "    "
     ],
     "language": "python",
     "metadata": {},
     "outputs": []
    },
    {
     "cell_type": "code",
     "collapsed": false,
     "input": [
      "for i in range(0,len(prj),10):\n",
      "    p=prj.values()[i]\n",
      "    #p=skimage.filter.threshold_adaptive(p,100)\n",
      "    #p=p*(p>100)*(p<2000)+2000*(p>=2000)\n",
      "    pylab.imshow(p,cmap=pylab.cm.copper)\n",
      "    pylab.colorbar()\n",
      "    pylab.show()"
     ],
     "language": "python",
     "metadata": {},
     "outputs": []
    },
    {
     "cell_type": "code",
     "collapsed": false,
     "input": [
      "pylab.plot([p.sum() for p in prj.values()])\n",
      "pylab.show()\n",
      "pylab.plot([p.max() for p in prj.values()])\n",
      "pylab.show()\n",
      "pylab.plot([p.sum()/p.max() for p in prj.values()])\n",
      "pylab.show()"
     ],
     "language": "python",
     "metadata": {},
     "outputs": []
    },
    {
     "cell_type": "markdown",
     "metadata": {},
     "source": [
      "#\u0412\u043e\u0441\u0441\u0442\u0430\u043d\u043e\u0432\u043b\u0435\u043d\u0438\u0435"
     ]
    },
    {
     "cell_type": "code",
     "collapsed": false,
     "input": [
      "from random import shuffle\n",
      "def project(vol, h_angle, v_angle):\n",
      "    tmp_vol=myfast.rotate_volume_fast(vol,h_angle)  \n",
      "    tmp_vol=myfast.rotate_volume_z_fast(tmp_vol,v_angle) \n",
      "    p=myfast.project_volume_fast(tmp_vol)\n",
      "    return p\n",
      "\n",
      "def back_project(proj, h_angle, v_angle):\n",
      "    sh=proj.shape[0]\n",
      "    tmp_vol=numpy.empty(shape=(sh,sh,sh),dtype='float32')\n",
      "    myfast.backproject_volume_fast(proj,tmp_vol)\n",
      "    tmp_vol=myfast.rotate_volume_z_fast(tmp_vol,-v_angle)\n",
      "    tmp_vol=myfast.rotate_volume_fast(tmp_vol,-h_angle)\n",
      "    return tmp_vol\n",
      "\n",
      "def topo_tomo(prjs,axis_angle):\n",
      "    nv_list=[]\n",
      "    im_size=prj[prj.keys()[0]].shape[0]\n",
      "    print 'Projections size=',im_size\n",
      "    print 'Axis angle = ', axis_angle\n",
      "    res=numpy.zeros(shape=(im_size,im_size,im_size),dtype='float32')\n",
      "    angles=prjs.keys()\n",
      "    #shuffle(angles)\n",
      "    for i in range(4):\n",
      "        shuffle(angles)\n",
      "        tmp_angles=angles[0:-1:1]\n",
      "        l=0.8-0.15*i\n",
      "        l=numpy.max(0.2,l)\n",
      "        for iang,ang in enumerate(tmp_angles):\n",
      "            p=project(res,ang,axis_angle)\n",
      "            corr_p=prj[ang]-p;\n",
      "            #corr_p=numpy.minimum(corr_p,100.0)\n",
      "            #corr_p=numpy.maximum(corr_p,-100.0)\n",
      "            #pylab.imshow(p)\n",
      "            #pylab.colorbar()\n",
      "            nv=(corr_p*corr_p).sum()/numpy.prod(corr_p.shape)\n",
      "            nv=nv**0.5\n",
      "            bp=back_project(l*corr_p,ang,axis_angle)\n",
      "            #print '{:.3}'.format(nv),\n",
      "            nv_list.append(nv)\n",
      "            res+=bp\n",
      "            if iang%10==0:\n",
      "                print '{:2} {:3}/{:3}'.format(i,iang,len(tmp_angles))\n",
      "                res-=0.5*res*(res<0)\n",
      "    #res*=res>0.005\n",
      "    print ' '\n",
      "    return res, nv_list"
     ],
     "language": "python",
     "metadata": {},
     "outputs": []
    },
    {
     "cell_type": "code",
     "collapsed": false,
     "input": [
      "for v_ang in [-10,]:\n",
      "    res, nv_list = topo_tomo(prj,axis_angle=v_ang)\n",
      "    h5fname='tmp_res_{}.h5'.format(v_ang)\n",
      "    with h5py.File(h5fname,'w') as h5res:\n",
      "        h5res['res']=res\n",
      "        h5res['nv']=nv_list\n",
      "    #del res\n",
      "    #del nv_list\n",
      "    save_amira(h5fname)"
     ],
     "language": "python",
     "metadata": {},
     "outputs": []
    },
    {
     "cell_type": "code",
     "collapsed": false,
     "input": [
      "pylab.plot(nv_list)"
     ],
     "language": "python",
     "metadata": {},
     "outputs": []
    },
    {
     "cell_type": "code",
     "collapsed": false,
     "input": [
      "for fn in glob.glob('tmp_res_10.h5'):\n",
      "    print fn\n",
      "    save_amira(fn)"
     ],
     "language": "python",
     "metadata": {},
     "outputs": []
    },
    {
     "cell_type": "code",
     "collapsed": false,
     "input": [
      "res=None\n",
      "with h5py.File('res_10.h5') as h5f:\n",
      "    res=h5f['res'].value"
     ],
     "language": "python",
     "metadata": {},
     "outputs": []
    },
    {
     "cell_type": "code",
     "collapsed": false,
     "input": [
      "ps=myfast.project_volume_fast(res)\n",
      "pe=prj[0.252122]\n",
      "pylab.imshow(ps-pe,cmap=pylab.cm.copper)\n",
      "pylab.colorbar()"
     ],
     "language": "python",
     "metadata": {},
     "outputs": []
    },
    {
     "cell_type": "code",
     "collapsed": false,
     "input": [
      "pylab.imshow(prj[0.252122],cmap=pylab.cm.copper,vmin=0,vmax=10)\n",
      "pylab.colorbar()"
     ],
     "language": "python",
     "metadata": {},
     "outputs": []
    },
    {
     "cell_type": "code",
     "collapsed": false,
     "input": [
      "print min(numpy.abs(prj.keys()))"
     ],
     "language": "python",
     "metadata": {},
     "outputs": []
    },
    {
     "cell_type": "code",
     "collapsed": false,
     "input": [
      "with h5py.File('tmp_res.h5','w') as h5res:\n",
      "    h5res['res']=res\n",
      "    h5res['nv']=nv_list"
     ],
     "language": "python",
     "metadata": {},
     "outputs": []
    },
    {
     "cell_type": "code",
     "collapsed": false,
     "input": [
      "!git commit -a -m 'all work at 10 deg. pomodoro'"
     ],
     "language": "python",
     "metadata": {},
     "outputs": []
    },
    {
     "cell_type": "code",
     "collapsed": false,
     "input": [
      "plt.imshow(prj[10])"
     ],
     "language": "python",
     "metadata": {},
     "outputs": []
    },
    {
     "cell_type": "code",
     "collapsed": false,
     "input": [],
     "language": "python",
     "metadata": {},
     "outputs": []
    }
   ],
   "metadata": {}
  }
 ]
}