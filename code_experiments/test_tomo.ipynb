{
 "metadata": {
  "name": "test_tomo"
 },
 "nbformat": 3,
 "nbformat_minor": 0,
 "worksheets": [
  {
   "cells": [
    {
     "cell_type": "code",
     "collapsed": false,
     "input": [
      "import os\n",
      "import sys\n",
      "import time\n",
      "import numpy\n",
      "import numba\n",
      "import cv2\n",
      "root_dir=os.path.join('..')\n",
      "sys.path.insert(0,root_dir)\n",
      "from fastlib.imageprocessing.ispmd import project,rotate_square_ref,back_project_ref,add_ref\n",
      "#from fastlib.tomography.sart import sart\n",
      "from fastlib.utils.phantom import modified_shepp_logan"
     ],
     "language": "python",
     "metadata": {},
     "outputs": []
    },
    {
     "cell_type": "code",
     "collapsed": false,
     "input": [
      "def sart(sinogram,angles,iter_number=2, medfilt=None):\n",
      "    reconst_shape = numpy.array(sinogram.shape[0],dtype='int32')\n",
      "    tomo_rec = numpy.zeros((reconst_shape, reconst_shape), dtype='float32')\n",
      "    tmp_backproj=numpy.zeros_like(tomo_rec)\n",
      "    tmp_rot=numpy.zeros_like(tomo_rec)\n",
      "    coeffs=[max(0.2,0.8-0.3*i) for i in range(iter_number)]\n",
      "    for coeff in numpy.array(coeffs,dtype='float32'):\n",
      "        shuffle_iang = numpy.arange(len(angles))\n",
      "        numpy.random.shuffle(shuffle_iang)\n",
      "        for iang in shuffle_iang:\n",
      "            rotate_square_ref(tomo_rec, angles[iang],tmp_rot)\n",
      "            tmp_proj = sinogram[:, iang] - project(tmp_rot)\n",
      "            back_project_ref(tmp_proj * coeff,tmp_backproj)\n",
      "            rotate_square_ref(tmp_backproj, -angles[iang],tmp_rot)\n",
      "            add_ref(tomo_rec,tmp_rot)\n",
      "            if (iang%10==0) and (not medfilt is None):\n",
      "                tomo_rec=cv2.medianBlur(tomo_rec,3)\n",
      "        tomo_rec -= 0.5*tomo_rec*(tomo_rec < 0)\n",
      "\n",
      "    return tomo_rec"
     ],
     "language": "python",
     "metadata": {},
     "outputs": []
    },
    {
     "cell_type": "code",
     "collapsed": false,
     "input": [
      "def genrate_sinogam_ref(image, angles):\n",
      "    size=image.shape[0]\n",
      "    sinogram=numpy.zeros((size,len(angles)),dtype='float32')\n",
      "    for ia,angle in enumerate(angles):\n",
      "        tmp_proj=project(rotate_square(image,angle))\n",
      "        sinogram[:,ia]=tmp_proj\n",
      "    return sinogram.astype('float32'),angles.astype('float32')"
     ],
     "language": "python",
     "metadata": {},
     "outputs": []
    },
    {
     "cell_type": "code",
     "collapsed": false,
     "input": [
      "def test_sart(iter_numb=2,medfilt=None):\n",
      "    size=256\n",
      "    angles=numpy.arange(0,180,1.0,dtype='float32')\n",
      "    x=modified_shepp_logan((size,size,3))[:,:,1]\n",
      "    x=numpy.array(x)\n",
      "    x=x*(x>0)\n",
      "    sinogram, angles = genrate_sinogam_ref(x,angles)\n",
      "    t=time.time()\n",
      "    res=sart(sinogram, angles,iter_numb,medfilt=medfilt)\n",
      "    print 'Tomographic reconstruction: '+ str(time.time()-t)\n",
      "    \n",
      "    if not os.path.exists('source.txt'):\n",
      "        numpy.savetxt('source.txt',x)\n",
      "    f_name=str(iter_numb)+'.txt'\n",
      "    if not medfilt is None:\n",
      "        f_name='med_'+f_name\n",
      "        \n",
      "    numpy.savetxt(f_name,res)\n",
      "    import pylab\n",
      "    pylab.subplot(121)\n",
      "    pylab.imshow(x)\n",
      "    pylab.colorbar()\n",
      "    pylab.subplot(122)\n",
      "    pylab.imshow(res,vmin=0,vmax=1)\n",
      "    pylab.colorbar()\n",
      "    pylab.show()"
     ],
     "language": "python",
     "metadata": {},
     "outputs": []
    },
    {
     "cell_type": "code",
     "collapsed": false,
     "input": [
      "iters=range(1,21)\n",
      "iters.extend(10*numpy.arange(3,11))\n",
      "iters.extend(100*numpy.arange(2,11))\n",
      "print iters"
     ],
     "language": "python",
     "metadata": {},
     "outputs": []
    },
    {
     "cell_type": "code",
     "collapsed": false,
     "input": [
      "for i in iters:\n",
      "    print i\n",
      "    test_sart(i,medfilt=None)\n",
      "    test_sart(i,medfilt=True)"
     ],
     "language": "python",
     "metadata": {},
     "outputs": []
    },
    {
     "cell_type": "code",
     "collapsed": false,
     "input": [
      "i=10\n",
      "pylab.imshow(numpy.loadtxt(str(i)+'.txt'),cmap=pylab.cm.copper)\n",
      "pylab.colorbar()"
     ],
     "language": "python",
     "metadata": {},
     "outputs": []
    },
    {
     "cell_type": "code",
     "collapsed": false,
     "input": [
      "pylab.imshow(numpy.loadtxt('med_'+str(i)+'.txt'),cmap=pylab.cm.copper)\n",
      "pylab.colorbar()"
     ],
     "language": "python",
     "metadata": {},
     "outputs": []
    },
    {
     "cell_type": "code",
     "collapsed": false,
     "input": [],
     "language": "python",
     "metadata": {},
     "outputs": []
    }
   ],
   "metadata": {}
  }
 ]
}