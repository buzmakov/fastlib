{
 "metadata": {
  "name": "cuda"
 },
 "nbformat": 3,
 "nbformat_minor": 0,
 "worksheets": [
  {
   "cells": [
    {
     "cell_type": "markdown",
     "metadata": {},
     "source": [
      "# \u0417\u0430\u0433\u0440\u0443\u0436\u0430\u0435\u043c \u043c\u043e\u0434\u0443\u043b\u0438"
     ]
    },
    {
     "cell_type": "code",
     "collapsed": false,
     "input": [
      "# \u041e\u0441\u043d\u043e\u0432\u043d\u044b\u0435 \u0441\u0438\u0441\u0442\u0435\u043c\u043d\u044b\u0435\n",
      "import sys\n",
      "import time\n",
      "import numpy\n",
      "import scipy.ndimage\n",
      "import pylab\n",
      "import h5py\n",
      "\n",
      "# \u0414\u043b\u044f Cuda\n",
      "import pycuda\n",
      "import pycuda.autoinit\n",
      "import pycuda.driver as cuda\n",
      "import pycuda.compiler\n",
      "\n",
      "# \u0421\u0430\u043c\u043e\u043f\u0438\u0441\u043d\u044b\u0435 \u0434\u043b\u044f \u0431\u044b\u0441\u0442\u0440\u043e\u0439 \u043e\u0431\u0440\u0430\u0431\u043e\u0442\u043a\u0438 \u0438\u0437\u043e\u0431\u0440\u0430\u0436\u0435\u043d\u0438\u0439\n",
      "\n",
      "sys.path.insert(0,'..')\n",
      "import fastlib\n",
      "from fastlib.utils.phantom import modified_shepp_logan\n",
      "import fastlib.imageprocessing.ispmd.ispmd_image_processing as myfast"
     ],
     "language": "python",
     "metadata": {},
     "outputs": []
    },
    {
     "cell_type": "markdown",
     "metadata": {},
     "source": [
      "# \u0421\u043e\u0437\u0434\u0430\u0451\u043c \u0444\u0430\u043d\u0442\u043e\u043c \u0438\u043b\u0438 \u0441\u0447\u0438\u0442\u044b\u0432\u0430\u0435\u043c \u0435\u0433\u043e \u0438\u0437 \u0444\u0430\u0439\u043b\u0430"
     ]
    },
    {
     "cell_type": "code",
     "collapsed": false,
     "input": [
      "#sl=modified_shepp_logan(shape=(256,256,256))\n",
      "#with h5py.File('ph_new.h5','w') as ph:\n",
      "#    ph['ph']=sl"
     ],
     "language": "python",
     "metadata": {},
     "outputs": []
    },
    {
     "cell_type": "code",
     "collapsed": false,
     "input": [
      "sl=None\n",
      "with h5py.File('ph_new.h5','r') as ph:\n",
      "    sl=ph['ph'].value\n",
      "\n",
      "# \u0423\u0432\u0435\u043b\u0438\u0438\u0432\u0430\u0435\u043c \u043a\u043e\u043b\u0438\u0447\u0435\u0441\u0442\u0432\u043e \u0441\u043e\u043b\u0451\u0432 \u0432 n \u0440\u0430\u0437\n",
      "sl=numpy.repeat(sl,2,axis=-1)\n",
      "sl=sl.copy()\n",
      "sl.shape"
     ],
     "language": "python",
     "metadata": {},
     "outputs": []
    },
    {
     "cell_type": "code",
     "collapsed": false,
     "input": [
      "def show_center_slice(x):\n",
      "    pylab.imshow(x[:,:,int(x.shape[2]/2)])\n",
      "    pylab.colorbar()"
     ],
     "language": "python",
     "metadata": {},
     "outputs": []
    },
    {
     "cell_type": "code",
     "collapsed": false,
     "input": [
      "show_center_slice(sl)"
     ],
     "language": "python",
     "metadata": {},
     "outputs": []
    },
    {
     "cell_type": "code",
     "collapsed": false,
     "input": [
      "%timeit myfast.rotate_volume_z_fast(sl,10)"
     ],
     "language": "python",
     "metadata": {},
     "outputs": []
    },
    {
     "cell_type": "code",
     "collapsed": false,
     "input": [
      "rotated_cpu=myfast.rotate_volume_z_fast(sl,10)\n",
      "show_center_slice(rotated_cpu)"
     ],
     "language": "python",
     "metadata": {},
     "outputs": []
    },
    {
     "cell_type": "code",
     "collapsed": false,
     "input": [
      "proj=myfast.project_volume_fast(sl)\n",
      "pylab.imshow(proj)\n",
      "pylab.colorbar()"
     ],
     "language": "python",
     "metadata": {},
     "outputs": []
    },
    {
     "cell_type": "markdown",
     "metadata": {},
     "source": [
      "# \u041a\u043e\u0434 \u0434\u043b\u044f CUDA"
     ]
    },
    {
     "cell_type": "code",
     "collapsed": false,
     "input": [
      "cuda_kernel_source=\"\"\"\n",
      "__global__ void rotate(float* in_volume, float* out_volume, const float angle, \n",
      "                const int size_x, const int size_y, const int size_z){\n",
      "\n",
      "        unsigned int x = blockIdx.x * blockDim.x + threadIdx.x;\n",
      "        unsigned int y = blockIdx.y * blockDim.y + threadIdx.y;\n",
      "        unsigned int z = blockIdx.z * blockDim.z + threadIdx.z;\n",
      "        if ((x>=size_x) || (y>=size_y) || (z>=size_z)){\n",
      "            return;\n",
      "        }\n",
      "        \n",
      "        float ymiddle = -size_y/2.+0.5+y;\n",
      "        float zmiddle = -size_z/2.+0.5+z;\n",
      "\n",
      "        float sy = (ymiddle*cosf(angle)+zmiddle*sinf(angle) + size_y/2.-0.5f);\n",
      "        float sz = (-ymiddle*sinf(angle)+zmiddle*cosf(angle) + size_z/2.-0.5f);\n",
      "        \n",
      "        int isy = floorf(sy);\n",
      "        int isz = floorf(sz);\n",
      "\n",
      "        if((0 < isy) && (isy < size_y-2) && (0 < isz) && (isz < size_z-2)){\n",
      "            unsigned int offset=x+isy*size_x+isz*size_x*size_y;\n",
      "            float deltay= sy-isy;\n",
      "            float deltaz= sz-isz;\n",
      "            float r00=in_volume[offset]*(1.0f-deltay)*(1.0f-deltaz);\n",
      "            float r01=in_volume[offset+size_x*size_y]*(1.0f-deltay)*deltaz;\n",
      "            float r10=in_volume[offset+size_x]*deltay*(1.0f-deltaz);\n",
      "            float r11=in_volume[offset+size_x+size_x*size_y]*deltay*deltaz;\n",
      "            out_volume[x+y*size_x+z*size_x*size_y]=r00+r01+r10+r11;\n",
      "        }else{\n",
      "            out_volume[x+y*size_x+z*size_x*size_y]= 0.0f;\n",
      "        }\n",
      "    }\n",
      "\n",
      "__global__ void project(float* in_volume, float* out_projection, \n",
      "                const int size_x, const int size_y, const int size_z){\n",
      "\n",
      "        unsigned int x = blockIdx.x * blockDim.x + threadIdx.x;\n",
      "        unsigned int y = blockIdx.y * blockDim.y + threadIdx.y;\n",
      "        if ((x>=size_x) || (y>=size_y)){\n",
      "            return;\n",
      "        }\n",
      "        float t=0;\n",
      "        for(int z=0;z<size_z;z++){\n",
      "            t+=in_volume[x+y*size_x+z*size_x*size_y];\n",
      "        }\n",
      "        out_projection[x+y*size_x]=t;\n",
      "    }\n",
      "\n",
      "__global__ void back_project(float* in_projection, float* out_volume, \n",
      "                const int size_x, const int size_y, const int size_z){\n",
      "\n",
      "        unsigned int x = blockIdx.x * blockDim.x + threadIdx.x;\n",
      "        unsigned int y = blockIdx.y * blockDim.y + threadIdx.y;\n",
      "        if ((x>=size_x) || (y>=size_y)){\n",
      "            return;\n",
      "        }\n",
      "        float t=in_projection[x+y*size_x];\n",
      "        for(int z=0;z<size_z;z++){\n",
      "            out_volume[x+y*size_x+z*size_x*size_y]=t;\n",
      "        }\n",
      "    }\n",
      "\"\"\""
     ],
     "language": "python",
     "metadata": {},
     "outputs": []
    },
    {
     "cell_type": "code",
     "collapsed": false,
     "input": [
      "cuda_module=pycuda.compiler.SourceModule(cuda_kernel_source)\n",
      "rotate_func = cuda_module.get_function(\"rotate\")\n",
      "project_func = cuda_module.get_function(\"project\")\n",
      "backproject_func = cuda_module.get_function(\"back_project\")"
     ],
     "language": "python",
     "metadata": {},
     "outputs": []
    },
    {
     "cell_type": "code",
     "collapsed": false,
     "input": [
      "# Calculate grid size\n",
      "def get_grid_size(x, block_size=(8,8,16)):\n",
      "    grid_size=list(range(len(block_size)))\n",
      "    for i in range(len(grid_size)):\n",
      "        if x.shape[i]%block_size[i]==0:\n",
      "            grid_size[i] = x.shape[i]/block_size[i]\n",
      "        else:\n",
      "            grid_size[i]=x.shape[i]/block_size[i] +1\n",
      "    return tuple(list(block_size)), tuple(list(grid_size))\n",
      "\n",
      "def shuffle_dims(x):\n",
      "    return tuple(list([x[2],x[1],x[0]]))"
     ],
     "language": "python",
     "metadata": {},
     "outputs": []
    },
    {
     "cell_type": "code",
     "collapsed": false,
     "input": [
      "#sl=sl[:-50,:-80,:]\n",
      "#sl=sl.copy()\n",
      "data_shape=shuffle_dims(sl.shape)\n",
      "print data_shape\n",
      "block_size, grid_size=get_grid_size(sl)\n",
      "block_size = shuffle_dims(block_size)\n",
      "grid_size = shuffle_dims(grid_size)\n",
      "print 'block_size = ',block_size\n",
      "print 'grid_size = ', grid_size"
     ],
     "language": "python",
     "metadata": {},
     "outputs": []
    },
    {
     "cell_type": "code",
     "collapsed": false,
     "input": [
      "sl_gpu=cuda.mem_alloc_like(sl)\n",
      "\n",
      "rotated_cuda=numpy.empty_like(sl)\n",
      "rotated_gpu=cuda.mem_alloc_like(sl)\n",
      "cuda.memcpy_htod_async(sl_gpu,sl)\n",
      "rotate_func(sl_gpu, rotated_gpu, numpy.float32(-10.0/180.*numpy.pi), \n",
      "            numpy.int32(data_shape[0]), numpy.int32(data_shape[1]),numpy.int32(data_shape[2]),\n",
      "            block=block_size,grid=grid_size)\n",
      "cuda.memcpy_dtoh_async(rotated_cuda,rotated_gpu)\n",
      "\n",
      "projected_cuda = numpy.empty(shape=(data_shape[1],data_shape[0]),dtype='float32')\n",
      "projected_gpu=cuda.mem_alloc_like(projected_cuda)\n",
      "project_func(rotated_gpu, projected_gpu,\n",
      "            numpy.int32(data_shape[0]), numpy.int32(data_shape[1]), numpy.int32(data_shape[2]),\n",
      "            block=(block_size[0],block_size[1],1),grid=(grid_size[0],grid_size[1],1))\n",
      "\n",
      "cuda.memcpy_dtoh_async(projected_cuda,projected_gpu)\n",
      "\n",
      "backprojected_cuda=numpy.empty_like(sl)\n",
      "backprojected_gpu=cuda.mem_alloc_like(sl)\n",
      "backproject_func(projected_gpu, backprojected_gpu,\n",
      "            numpy.int32(data_shape[0]), numpy.int32(data_shape[1]),numpy.int32(data_shape[2]),\n",
      "            block=(block_size[0],block_size[1],1),grid=(grid_size[0],grid_size[1],1))\n",
      "cuda.memcpy_dtoh_async(backprojected_cuda,backprojected_gpu)\n",
      "\n",
      "del sl_gpu\n",
      "del rotated_gpu\n",
      "del projected_gpu\n",
      "del backprojected_gpu"
     ],
     "language": "python",
     "metadata": {},
     "outputs": []
    },
    {
     "cell_type": "code",
     "collapsed": false,
     "input": [
      "show_center_slice(rotated_cuda)"
     ],
     "language": "python",
     "metadata": {},
     "outputs": []
    },
    {
     "cell_type": "code",
     "collapsed": false,
     "input": [
      "show_center_slice(rotated_cuda-rotated_cpu)"
     ],
     "language": "python",
     "metadata": {},
     "outputs": []
    },
    {
     "cell_type": "code",
     "collapsed": false,
     "input": [
      "pylab.imshow(projected_cuda)\n",
      "pylab.colorbar()"
     ],
     "language": "python",
     "metadata": {},
     "outputs": []
    },
    {
     "cell_type": "code",
     "collapsed": false,
     "input": [
      "show_center_slice(backprojected_cuda)"
     ],
     "language": "python",
     "metadata": {},
     "outputs": []
    },
    {
     "cell_type": "markdown",
     "metadata": {},
     "source": [
      "# \u0412\u044b\u0432\u043e\u0434\u0438\u043c \u0438\u043d\u0444\u043e\u0440\u043c\u0430\u0446\u0438\u044e \u043e \u0432\u0438\u0434\u0435\u043e\u043a\u0430\u0440\u0442\u0435"
     ]
    },
    {
     "cell_type": "code",
     "collapsed": false,
     "input": [
      "!nvidia-smi"
     ],
     "language": "python",
     "metadata": {},
     "outputs": []
    },
    {
     "cell_type": "code",
     "collapsed": false,
     "input": [
      "del sl_gpu\n",
      "del res_gpu"
     ],
     "language": "python",
     "metadata": {},
     "outputs": []
    },
    {
     "cell_type": "code",
     "collapsed": false,
     "input": [
      "import pycuda.driver as drv\n",
      "drv.init()\n",
      "print \"%d device(s) found.\" % drv.Device.count()\n",
      "\n",
      "for ordinal in range(drv.Device.count()):\n",
      "    dev = drv.Device(ordinal)\n",
      "    print \"Device #%d: %s\" % (ordinal, dev.name())\n",
      "    print \"  Compute Capability: %d.%d\" % dev.compute_capability()\n",
      "    print \"  Total Memory: %s KB\" % (dev.total_memory()//(1024))\n",
      "    atts = [(str(att), value) \n",
      "            for att, value in dev.get_attributes().iteritems()]\n",
      "    atts.sort()\n",
      "    \n",
      "    for att, value in atts:\n",
      "        print \"  %s: %s\" % (att, value)"
     ],
     "language": "python",
     "metadata": {},
     "outputs": []
    },
    {
     "cell_type": "code",
     "collapsed": false,
     "input": [
      "%qtconsole"
     ],
     "language": "python",
     "metadata": {},
     "outputs": []
    },
    {
     "cell_type": "code",
     "collapsed": false,
     "input": [
      "#pycuda.autoinit.context.detach()"
     ],
     "language": "python",
     "metadata": {},
     "outputs": []
    }
   ],
   "metadata": {}
  }
 ]
}