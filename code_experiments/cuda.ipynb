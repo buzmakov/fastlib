{
 "metadata": {
  "name": "cuda"
 },
 "nbformat": 3,
 "nbformat_minor": 0,
 "worksheets": [
  {
   "cells": [
    {
     "cell_type": "code",
     "collapsed": false,
     "input": [
      "import pycuda\n",
      "import pycuda.autoinit\n",
      "import pycuda.driver as cuda\n",
      "import pycuda.compiler"
     ],
     "language": "python",
     "metadata": {},
     "outputs": []
    },
    {
     "cell_type": "code",
     "collapsed": false,
     "input": [
      "import sys\n",
      "import time\n",
      "sys.path.insert(0,'..')\n",
      "import numpy\n",
      "import scipy.ndimage\n",
      "import pylab\n",
      "import fastlib\n",
      "from fastlib.utils.phantom import modified_shepp_logan\n",
      "import fastlib.imageprocessing.ispmd.ispmd_image_processing as myfast\n",
      "import h5py\n",
      "\n",
      "def get_center_slice(x):\n",
      "    if len(x.shape)==2:\n",
      "        return x\n",
      "    else:\n",
      "        return numpy.squeeze(x[int(x.shape[0]/2)])"
     ],
     "language": "python",
     "metadata": {},
     "outputs": []
    },
    {
     "cell_type": "code",
     "collapsed": false,
     "input": [
      "#sl=modified_shepp_logan(shape=(256,256,256))\n",
      "#with h5py.File('ph_new.h5','w') as ph:\n",
      "#    ph['ph']=sl"
     ],
     "language": "python",
     "metadata": {},
     "outputs": []
    },
    {
     "cell_type": "code",
     "collapsed": false,
     "input": [
      "sl=None\n",
      "with h5py.File('ph_new.h5','r') as ph:\n",
      "    sl=ph['ph'].value\n",
      "sl=numpy.repeat(sl,4,axis=-1)"
     ],
     "language": "python",
     "metadata": {},
     "outputs": []
    },
    {
     "cell_type": "code",
     "collapsed": false,
     "input": [
      "sl.shape"
     ],
     "language": "python",
     "metadata": {},
     "outputs": []
    },
    {
     "cell_type": "code",
     "collapsed": false,
     "input": [
      "pylab.imshow(sl[:,:,512])\n",
      "pylab.colorbar()"
     ],
     "language": "python",
     "metadata": {},
     "outputs": []
    },
    {
     "cell_type": "code",
     "collapsed": false,
     "input": [
      "%timeit myfast.rotate_volume_z_fast(sl,10)"
     ],
     "language": "python",
     "metadata": {},
     "outputs": []
    },
    {
     "cell_type": "code",
     "collapsed": false,
     "input": [
      "res=myfast.rotate_volume_z_fast(sl,10)"
     ],
     "language": "python",
     "metadata": {},
     "outputs": []
    },
    {
     "cell_type": "code",
     "collapsed": false,
     "input": [
      "pylab.imshow(res[:,:,512])\n",
      "pylab.colorbar()"
     ],
     "language": "python",
     "metadata": {},
     "outputs": []
    },
    {
     "cell_type": "code",
     "collapsed": false,
     "input": [
      "cuda_kernel_source=\"\"\"\n",
      "__global__ void my_test(\n",
      "    float* out_volume, const int size_x, const int size_y, const int size_z){\n",
      "        unsigned int x = blockIdx.x * blockDim.x + threadIdx.x;\n",
      "        unsigned int y = blockIdx.y * blockDim.y + threadIdx.y;\n",
      "        unsigned int z = blockIdx.z * blockDim.z + threadIdx.z;\n",
      "        if ((x<size_x) && (y<size_y) && (z<size_z)){ \n",
      "            out_volume[x+y*size_x+z*size_x*size_y]=x;\n",
      "            };\n",
      "    }\n",
      "\n",
      "__global__ void rotate(\n",
      "    float* in_volume, float* out_volume, const float angle, \n",
      "                const int size_x, const int size_y, const int size_z){\n",
      "\n",
      "        unsigned int x = blockIdx.x * blockDim.x + threadIdx.x;\n",
      "        unsigned int y = blockIdx.y * blockDim.y + threadIdx.y;\n",
      "        unsigned int z = blockIdx.z * blockDim.z + threadIdx.z;\n",
      "        if ((x>=size_x) || (y>=size_y) || (z>=size_z)){\n",
      "            return;\n",
      "        }\n",
      "        \n",
      "        float ymiddle = (y-size_y/2.+0.5);\n",
      "        float zmiddle = (z-size_z/2.+0.5);\n",
      "\n",
      "        float sy = (ymiddle*cosf(angle)+zmiddle*sinf(angle) + size_y/2.-0.5f);\n",
      "        float sz = (-ymiddle*sinf(angle)+zmiddle*cosf(angle) + size_z/2.-0.5f);\n",
      "        \n",
      "        int isy = floorf(sy);\n",
      "        int isz = floorf(sz);\n",
      "\n",
      "        if((0 < isy) && (isy < size_y-2) && (0 < isz) && (isz < size_z-2)){\n",
      "                int offset=x+isy*size_x+isz*size_x*size_y;\n",
      "                float deltay= sy-isy;\n",
      "                float deltaz= sz-isz;\n",
      "                float r00=in_volume[offset]*(1.0f-deltay)*(1.0f-deltaz);\n",
      "                float r01=in_volume[offset+size_x*size_y]*(1.0f-deltay)*deltaz;\n",
      "                float r10=in_volume[offset+size_x]*deltay*(1.0f-deltaz);\n",
      "                float r11=in_volume[offset+size_x+size_x*size_y]*deltay*deltaz;\n",
      "                out_volume[x+y*size_x+z*size_x*size_y]= r00+r01+r10+r11;\n",
      "            }\n",
      "    }\n",
      "\"\"\""
     ],
     "language": "python",
     "metadata": {},
     "outputs": []
    },
    {
     "cell_type": "code",
     "collapsed": false,
     "input": [
      "cuda_module=pycuda.compiler.SourceModule(cuda_kernel_source)\n",
      "cheker_func = cuda_module.get_function(\"my_test\")\n",
      "rotate_func = cuda_module.get_function(\"rotate\")\n"
     ],
     "language": "python",
     "metadata": {},
     "outputs": []
    },
    {
     "cell_type": "code",
     "collapsed": false,
     "input": [
      "#sl=sl[:,:-1,:-1]\n",
      "#sl=sl.copy()\n",
      "blocks = (8,8,8)\n",
      "grids=list(range(3))\n",
      "for i in range(len(grids)):\n",
      "    if sl.shape[i]%blocks[i]==0:\n",
      "        grids[i] = sl.shape[i]/blocks[i]\n",
      "    else:\n",
      "        grids[i]=sl.shape[i]/blocks[i] +1\n",
      "grids=tuple(list(grids))\n",
      "print grids"
     ],
     "language": "python",
     "metadata": {},
     "outputs": []
    },
    {
     "cell_type": "code",
     "collapsed": false,
     "input": [
      "sl_gpu=cuda.mem_alloc_like(sl)\n",
      "res_gpu=cuda.mem_alloc_like(sl)\n",
      "cuda.memcpy_htod_async(sl_gpu,sl)\n",
      "rotate_func(sl_gpu, res_gpu, numpy.float32(-10.0/180.*numpy.pi), numpy.int32(sl.shape[2]), numpy.int32(sl.shape[1]),numpy.int32(sl.shape[0]),\n",
      "             block=blocks,grid=grids)\n",
      "res_cuda=numpy.empty_like(sl)\n",
      "cuda.memcpy_dtoh_async(res_cuda,res_gpu)\n",
      "\n",
      "del sl_gpu\n",
      "del res_gpu"
     ],
     "language": "python",
     "metadata": {},
     "outputs": []
    },
    {
     "cell_type": "code",
     "collapsed": false,
     "input": [
      "pylab.imshow(res_cuda[:,:,128])\n",
      "pylab.colorbar()"
     ],
     "language": "python",
     "metadata": {},
     "outputs": []
    },
    {
     "cell_type": "code",
     "collapsed": false,
     "input": [
      "pylab.imshow(res_cuda[:,:,128]-res[:,:,128])\n",
      "pylab.colorbar()"
     ],
     "language": "python",
     "metadata": {},
     "outputs": []
    },
    {
     "cell_type": "code",
     "collapsed": false,
     "input": [
      "t=sl[:,:,128]\n",
      "rt=scipy.ndimage.rotate(t,10,order=1,reshape=False)\n",
      "pylab.imshow(res_cuda[:,:,128]-rt)\n",
      "#pylab.imshow(rt)\n",
      "pylab.colorbar()"
     ],
     "language": "python",
     "metadata": {},
     "outputs": []
    },
    {
     "cell_type": "code",
     "collapsed": false,
     "input": [
      "# time host to device copy\n",
      "ntimes=100\n",
      "t=time.time()\n",
      "for i in range(1ntimes):\n",
      "    cuda.memcpy_htod(sl_gpu,sl)\n",
      "tt=time.time()-t\n",
      "print tt/ntimes"
     ],
     "language": "python",
     "metadata": {},
     "outputs": []
    },
    {
     "cell_type": "code",
     "collapsed": false,
     "input": [
      "res_cuda.shape"
     ],
     "language": "python",
     "metadata": {},
     "outputs": []
    },
    {
     "cell_type": "code",
     "collapsed": true,
     "input": [],
     "language": "python",
     "metadata": {},
     "outputs": []
    },
    {
     "cell_type": "code",
     "collapsed": false,
     "input": [
      "!nvidia-smi"
     ],
     "language": "python",
     "metadata": {},
     "outputs": []
    },
    {
     "cell_type": "code",
     "collapsed": false,
     "input": [
      "t=numpy.arange(27).reshape((3,3,3))"
     ],
     "language": "python",
     "metadata": {},
     "outputs": []
    },
    {
     "cell_type": "code",
     "collapsed": false,
     "input": [
      "t[0][0][2]"
     ],
     "language": "python",
     "metadata": {},
     "outputs": []
    },
    {
     "cell_type": "code",
     "collapsed": false,
     "input": [
      "res_cuda[0,0,1]"
     ],
     "language": "python",
     "metadata": {},
     "outputs": []
    },
    {
     "cell_type": "code",
     "collapsed": false,
     "input": [],
     "language": "python",
     "metadata": {},
     "outputs": []
    }
   ],
   "metadata": {}
  }
 ]
}