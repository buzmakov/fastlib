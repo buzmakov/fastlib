{
 "metadata": {
  "name": "",
  "signature": "sha256:6b12ec273fd77859b2829fd6fb12c4737d77274d4b4a1486074415a7beb5f0f1"
 },
 "nbformat": 3,
 "nbformat_minor": 0,
 "worksheets": [
  {
   "cells": [
    {
     "cell_type": "code",
     "collapsed": false,
     "input": [
      "%%file cv_gpu.cu\n",
      "\n",
      "/*\n",
      "Naming convenction:\n",
      "    * _mat - input agrguments GpuMAt\n",
      "    * _cpu - CPU code\n",
      "    * _gpu - GPU code\n",
      "*/\n",
      "\n",
      "#include <string.h>\n",
      "#include <iostream>\n",
      "#include <algorithm>\n",
      "#include \"opencv2/imgproc/imgproc.hpp\"\n",
      "#include \"opencv2/gpu/gpu.hpp\"\n",
      "#include \"opencv2/gpu/device/common.hpp\"\n",
      "\n",
      "\n",
      "using namespace cv;\n",
      "\n",
      "///Rotate functions\n",
      "\n",
      "void rotate_gpu_mat(gpu::GpuMat d_src,gpu::GpuMat d_dst, float angle)\n",
      "{\n",
      "    Point2f center = Point2f(d_src.cols/2.0f-0.5f, d_src.rows/2.0f-0.5f);\n",
      "    double scale = 1.0;\n",
      "    Mat rot_mat = getRotationMatrix2D( center, double(angle), scale);\n",
      "    gpu::warpAffine( d_src, d_dst, rot_mat, d_dst.size(), INTER_LINEAR);\n",
      "\n",
      "}\n",
      "\n",
      "extern \"C\" void rotate_cpu(float* in_image, float* out_image, int size_x, int size_y, float angle)\n",
      "{\n",
      "   Mat rot_mat( 2, 3, CV_32FC1 );\n",
      "   Mat src, warp_rotate_dst;\n",
      "    \n",
      "   src = Mat(size_x, size_y, CV_32FC1, in_image);\n",
      "\n",
      "   /// Set the dst image the same type and size as src\n",
      "   warp_rotate_dst = Mat::zeros( src.rows, src.cols, src.type() );\n",
      "\n",
      "   /// Compute a rotation matrix with respect to the center of the image\n",
      "   Point2f center = Point2f(warp_rotate_dst.cols/2.0f-0.5f, warp_rotate_dst.rows/2.0f-0.5f);\n",
      "   double scale = 1.0;\n",
      "\n",
      "   /// Get the rotation matrix with the specifications above\n",
      "   rot_mat = getRotationMatrix2D( center, double(angle), scale );\n",
      "\n",
      "   /// Rotate the image\n",
      "   warpAffine( src, warp_rotate_dst, rot_mat, warp_rotate_dst.size(), INTER_LINEAR);\n",
      "   memcpy(out_image, warp_rotate_dst.data, warp_rotate_dst.total()*warp_rotate_dst.elemSize());\n",
      "}\n",
      "\n",
      "extern \"C\" void rotate_gpu(float* in_image, float* out_image, int size_x, int size_y, float angle)\n",
      "{    \n",
      "   Mat src = Mat(size_x, size_y, CV_32FC1, in_image);\n",
      "\n",
      "   /// Rotate the image\n",
      "   const gpu::GpuMat d_src(src);\n",
      "   gpu::GpuMat d_dst(src.size(),CV_32FC1);\n",
      "   rotate_gpu_mat(d_src, d_dst, angle);\n",
      "   \n",
      "   Mat rotate_dst(d_dst);\n",
      "   memcpy(out_image, rotate_dst.data, rotate_dst.total()*rotate_dst.elemSize());\n",
      "}\n",
      "\n",
      "///Project functions\n",
      "\n",
      "void project_gpu_mat(gpu::GpuMat d_src,gpu::GpuMat d_dst)\n",
      "{\n",
      "    gpu::reduce(d_src, d_dst,1,CV_REDUCE_SUM);\n",
      "}\n",
      "\n",
      "\n",
      "extern \"C\" void project_gpu(float* in_image, float* out_image, int size_x, int size_y)\n",
      "{    \n",
      "   Mat src = Mat(size_x, size_y, CV_32FC1, in_image);\n",
      "\n",
      "   /// Project the image\n",
      "   const gpu::GpuMat d_src(src);\n",
      "   gpu::GpuMat d_dst(1,src.rows,CV_32FC1);\n",
      "   project_gpu_mat(d_src, d_dst);\n",
      "   \n",
      "   Mat project_dst(d_dst);\n",
      "   memcpy(out_image,project_dst.data,project_dst.total()*project_dst.elemSize());\n",
      "}\n",
      "    \n",
      "//Backproject functions\n",
      "\n",
      "__global__ void backproject_kernel_32F(int cols, int rows, const gpu::PtrStepf src, gpu::PtrStepf dst)\n",
      "{\n",
      "    int x = blockIdx.x * blockDim.x + threadIdx.x;\n",
      "    int y = blockIdx.y * blockDim.y + threadIdx.y;\n",
      "    \n",
      "    extern __shared__ float buf[];\n",
      "    \n",
      "    if (threadIdx.y==0){\n",
      "        buf[threadIdx.x]=src.ptr(0)[x]/rows;\n",
      "    }\n",
      "    __syncthreads();\n",
      "\n",
      "    if ((x < cols) && (y < rows)){        \n",
      "        dst.ptr(x)[y]=buf[threadIdx.x];\n",
      "    }\n",
      "}\n",
      "\n",
      "\n",
      "void backproject_gpu_mat(const gpu::PtrStepSzf src, const gpu::PtrStepSzf dst)\n",
      "{\n",
      "    dim3 threads(16,16,1);\n",
      "\n",
      "    dim3 grid(1,1,1);\n",
      "    \n",
      "    grid.x = gpu::divUp(dst.cols, threads.x);\n",
      "    grid.y = gpu::divUp(dst.rows, threads.y);\n",
      "    \n",
      "//    std::cout<<dst.cols <<' ' << dst.rows <<' '<<grid.x<<' '<<grid.y<<src.step<<' '<<dst.step<<' '<<'\\n';\n",
      "    backproject_kernel_32F<<<grid, threads, 16*sizeof(float)>>>(dst.cols, dst.rows, src, dst);\n",
      "    cudaSafeCall( cudaGetLastError() );\n",
      "\n",
      "    cudaSafeCall( cudaDeviceSynchronize() );\n",
      "}\n",
      "\n",
      "extern \"C\" void backproject_gpu(float* in_vec, float* out_image, int size_x, int size_y)\n",
      "{    \n",
      "    Mat src = Mat(1,size_x, CV_32FC1, in_vec);\n",
      "    \n",
      "    /// Project the image\n",
      "    const gpu::GpuMat d_src(src);\n",
      "    gpu::GpuMat d_dst(size_x, size_y, CV_32FC1);\n",
      "    \n",
      "    backproject_gpu_mat(d_src, d_dst);\n",
      "    \n",
      "    Mat project_dst(d_dst);\n",
      "    memcpy(out_image,project_dst.data,project_dst.total()*project_dst.elemSize());\n",
      "}\n",
      "\n",
      "extern \"C\" void sart_gpu(float* sinogramm, int pixels_numb,\n",
      "                float* angles, int angles_numb, \n",
      "                float* res)\n",
      "{\n",
      "    Mat h_sinogramm = Mat(angles_numb, pixels_numb, CV_32FC1, sinogramm);\n",
      "    //std::cout << \"CPU Sinogram rows: \"<< h_sinogramm.rows<<\" cols: \"<<h_sinogramm.cols<<'\\n';\n",
      "    \n",
      "    const gpu::GpuMat d_sinogramm(h_sinogramm);\n",
      "    gpu::GpuMat d_proj(1, h_sinogramm.cols,CV_32FC1);\n",
      "    gpu::GpuMat d_backproj(h_sinogramm.cols, h_sinogramm.cols, CV_32FC1);\n",
      "    gpu::GpuMat d_tmp_rot(h_sinogramm.cols, h_sinogramm.cols, CV_32FC1, Scalar::all(0));\n",
      "    gpu::GpuMat d_tmp_filt(h_sinogramm.cols, h_sinogramm.cols, CV_32FC1, Scalar::all(0));\n",
      "    gpu::GpuMat d_res(h_sinogramm.cols, h_sinogramm.cols, CV_32FC1, Scalar::all(0));\n",
      "    \n",
      "    Mat h_res(d_res.cols, d_res.cols, CV_32FC1, Scalar::all(0));\n",
      "    Mat h_filt(h_res.rows, h_res.cols, CV_32FC1);\n",
      "    \n",
      "    /*\n",
      "    std::cout << \"GPU Sinogram rows: \"<< d_sinogramm.rows<<\" cols: \"<<d_sinogramm.cols<<'\\n';\n",
      "    std::cout << \"GPU Proj rows: \"<< d_proj.rows<<\" cols: \"<< d_proj.cols<<'\\n';\n",
      "    std::cout << \"GPU Backproj rows: \"<< d_backproj.rows<<\" cols: \"<< d_backproj.cols<<'\\n';\n",
      "    std::cout << \"GPU Res rows: \"<< d_res.rows<<\" cols: \"<< d_res.cols<<'\\n';\n",
      "    */\n",
      "    \n",
      "    float angles_numbs_shuffled[angles_numb];\n",
      "    for(int i=0; i<angles_numb; i++){\n",
      "        angles_numbs_shuffled[i]=i;\n",
      "    }\n",
      "    \n",
      "    std::random_shuffle(&angles_numbs_shuffled[0], &angles_numbs_shuffled[angles_numb]);\n",
      "    \n",
      "    \n",
      "    float lambdas[]={0.8,0.3,0.2};      \n",
      "    int cur_ang_numb = 0;\n",
      "    gpu::GpuMat d_filt(d_res.rows, d_res.cols, CV_32FC1);\n",
      "    \n",
      "    double minMax[] ={0.0,0.0};\n",
      "    \n",
      "    for(int ii=0; ii<3; ii++){\n",
      "        for(int i=0; i<angles_numb;i++){\n",
      "            cur_ang_numb = angles_numbs_shuffled[i];\n",
      "                    \n",
      "            rotate_gpu_mat(d_res, d_tmp_rot, angles[cur_ang_numb]);\n",
      "            project_gpu_mat(d_tmp_rot, d_proj);\n",
      "            gpu::subtract(d_sinogramm.row(cur_ang_numb),d_proj,d_proj);\n",
      "            backproject_gpu_mat(d_proj, d_backproj);\n",
      "            rotate_gpu_mat(d_backproj, d_tmp_rot, -angles[cur_ang_numb]);\n",
      "            gpu::addWeighted(d_res, 1.0, d_tmp_rot, lambdas[ii], 0, d_res);\n",
      "            \n",
      "            if( i%10 == 0){\n",
      "                //morphology open\n",
      "                gpu::minMax(d_res,&minMax[0],&minMax[1]);\n",
      "                gpu::threshold(d_res,d_filt,0,1,THRESH_BINARY);\n",
      "                d_filt.download(h_res);\n",
      "                cv::erode(h_res, h_filt,Mat());\n",
      "                cv::dilate(h_filt, h_res,Mat());\n",
      "                d_filt.upload(h_res);\n",
      "                gpu::multiply(d_res, d_filt, d_res);               \n",
      "            }\n",
      "            \n",
      "          /*\n",
      "           if( i%30 == 0){\n",
      "                //median filter\n",
      "                d_res.download(h_res);\n",
      "                cv::medianBlur(h_res, h_filt,3);\n",
      "                d_res.upload(h_filt);\n",
      "            \n",
      "            }\n",
      "           */\n",
      "        }   \n",
      "    }\n",
      "    \n",
      "    d_res.download(h_res);\n",
      "    //std::cout << \"CPU Res rows: \"<< h_res.rows<<\" cols: \"<< h_res.cols<<'\\n';\n",
      "    \n",
      "    memcpy(res, h_res.data, h_res.total()*h_res.elemSize());\n",
      "}"
     ],
     "language": "python",
     "metadata": {},
     "outputs": [
      {
       "output_type": "stream",
       "stream": "stdout",
       "text": [
        "Overwriting cv_gpu.cu\n"
       ]
      }
     ],
     "prompt_number": 1
    },
    {
     "cell_type": "code",
     "collapsed": false,
     "input": [
      "%%file cvtools.pyx\n",
      "\n",
      "import cython\n",
      "import numpy\n",
      "cimport numpy\n",
      "\n",
      "cdef extern:\n",
      "    void rotate_cpu(float*, float*, int, int, float)\n",
      "    void rotate_gpu(float*, float*, int, int, float)\n",
      "    void project_gpu(float*, float*, int, int)\n",
      "    void backproject_gpu(float*, float*, int, int)    \n",
      "    void sart_gpu(float* sinogramm, int pixels_numb, float* angles, int angles_numb, float* res)\n",
      "    \n",
      "def rotate_c(numpy.ndarray[numpy.float32_t, ndim=2] image, float angle):\n",
      "    cdef numpy.ndarray[numpy.float32_t, ndim=2] res=numpy.empty_like(image)\n",
      "    rotate_cpu(<float*> image.data, <float*> res.data, image.shape[0],image.shape[1], angle)\n",
      "    return res\n",
      "\n",
      "def rotate_g(numpy.ndarray[numpy.float32_t, ndim=2] image, float angle):\n",
      "    cdef numpy.ndarray[numpy.float32_t, ndim=2] res=numpy.empty_like(image)\n",
      "    rotate_gpu(<float*> image.data, <float*> res.data, image.shape[0],image.shape[1], angle)\n",
      "    return res\n",
      "\n",
      "def project_g(numpy.ndarray[numpy.float32_t, ndim=2] image):\n",
      "    cdef numpy.ndarray[numpy.float32_t, ndim=1] res=numpy.empty(shape=(image.shape[0],), dtype='float32')\n",
      "    project_gpu(<float*> image.data, <float*> res.data, image.shape[0],image.shape[1])\n",
      "    return res\n",
      "\n",
      "def backproject_g(numpy.ndarray[numpy.float32_t, ndim=1] vec):\n",
      "    cdef numpy.ndarray[numpy.float32_t, ndim=2] res=numpy.empty(shape=(vec.shape[0],vec.shape[0]), dtype='float32')\n",
      "    backproject_gpu(<float*> vec.data, <float*> res.data, res.shape[0],res.shape[1])\n",
      "    return res\n",
      "\n",
      "def sart_g(numpy.ndarray[numpy.float32_t, ndim=2] sinogramm,\n",
      "           numpy.ndarray[numpy.float32_t, ndim=1] angles):\n",
      "    cdef numpy.ndarray[numpy.float32_t, ndim=2] res=numpy.empty(\n",
      "            shape=(sinogramm.shape[1],sinogramm.shape[1]), dtype='float32')\n",
      "    sart_gpu(<float*> sinogramm.data, sinogramm.shape[1],\n",
      "             <float*> angles.data,angles.shape[0], <float*> res.data)\n",
      "    return res"
     ],
     "language": "python",
     "metadata": {},
     "outputs": [
      {
       "output_type": "stream",
       "stream": "stdout",
       "text": [
        "Overwriting cvtools.pyx\n"
       ]
      }
     ],
     "prompt_number": 2
    },
    {
     "cell_type": "code",
     "collapsed": false,
     "input": [
      "%%file setup.py\n",
      "import  os\n",
      "from os.path import join as pjoin\n",
      "from setuptools import setup\n",
      "from distutils.extension import Extension\n",
      "from Cython.Distutils import build_ext\n",
      "import subprocess\n",
      "import numpy\n",
      "\n",
      "def find_in_path(name, path):\n",
      "    \"Find a file in a search path\"\n",
      "    #adapted fom http://code.activestate.com/recipes/52224-find-a-file-given-a-search-path/\n",
      "    for dir in path.split(os.pathsep):\n",
      "        binpath = pjoin(dir, name)\n",
      "        if os.path.exists(binpath):\n",
      "            return os.path.abspath(binpath)\n",
      "    return None\n",
      "\n",
      "\n",
      "def locate_cuda():\n",
      "    \"\"\"Locate the CUDA environment on the system\n",
      "\n",
      "    Returns a dict with keys 'home', 'nvcc', 'include', and 'lib64'\n",
      "    and values giving the absolute path to each directory.\n",
      "\n",
      "    Starts by looking for the CUDAHOME env variable. If not found, everything\n",
      "    is based on finding 'nvcc' in the PATH.\n",
      "    \"\"\"\n",
      "\n",
      "    # first check if the CUDAHOME env variable is in use\n",
      "    if 'CUDAHOME' in os.environ:\n",
      "        home = os.environ['CUDAHOME']\n",
      "        nvcc = pjoin(home, 'bin', 'nvcc')\n",
      "    else:\n",
      "        # otherwise, search the PATH for NVCC\n",
      "        nvcc = find_in_path('nvcc', os.environ['PATH'])\n",
      "        if nvcc is None:\n",
      "            raise EnvironmentError('The nvcc binary could not be '\n",
      "                'located in your $PATH. Either add it to your path, or set $CUDAHOME')\n",
      "        home = os.path.dirname(os.path.dirname(nvcc))\n",
      "\n",
      "    cudaconfig = {'home':home, 'nvcc':nvcc,\n",
      "                  'include': pjoin(home, 'include'),\n",
      "                  'lib64': pjoin(home, 'lib64')}\n",
      "    for k, v in cudaconfig.iteritems():\n",
      "        if not os.path.exists(v):\n",
      "            raise EnvironmentError('The CUDA %s path could not be located in %s' % (k, v))\n",
      "\n",
      "    return cudaconfig\n",
      "CUDA = locate_cuda()\n",
      "\n",
      "\n",
      "# Obtain the numpy include directory.  This logic works across numpy versions.\n",
      "try:\n",
      "    numpy_include = numpy.get_include()\n",
      "except AttributeError:\n",
      "    numpy_include = numpy.get_numpy_include()\n",
      "\n",
      "ext = Extension('cvtools',\n",
      "                sources=['cvtools.pyx','cv_gpu.cu'],\n",
      "                library_dirs=[CUDA['lib64'],],\n",
      "                libraries=['cudart','opencv_core','opencv_imgproc','opencv_gpu'],\n",
      "                language='c++',\n",
      "                runtime_library_dirs=[CUDA['lib64']],\n",
      "                # this syntax is specific to this build system\n",
      "                # we're only going to use certain compiler args with nvcc and not with gcc\n",
      "                # the implementation of this trick is in customize_compiler() below\n",
      "                extra_compile_args={'gcc': [],\n",
      "                                    'nvcc': ['-gencode', 'arch=compute_20,code=sm_20',\n",
      "                                             '-gencode', 'arch=compute_30,code=sm_30',\n",
      "                                             '--ptxas-options=-v',\n",
      "                                             '-c', '--compiler-options', \"'-fPIC'\"]},\n",
      "                include_dirs = [numpy_include, CUDA['include'],])\n",
      "\n",
      "\n",
      "\n",
      "def customize_compiler_for_nvcc(self):\n",
      "    \"\"\"inject deep into distutils to customize how the dispatch\n",
      "    to gcc/nvcc works.\n",
      "    \n",
      "    If you subclass UnixCCompiler, it's not trivial to get your subclass\n",
      "    injected in, and still have the right customizations (i.e.\n",
      "    distutils.sysconfig.customize_compiler) run on it. So instead of going\n",
      "    the OO route, I have this. Note, it's kindof like a wierd functional\n",
      "    subclassing going on.\"\"\"\n",
      "    \n",
      "    # tell the compiler it can processes .cu\n",
      "    self.src_extensions.append('.cu')\n",
      "\n",
      "    # save references to the default compiler_so and _comple methods\n",
      "    default_compiler_so = self.compiler_so\n",
      "    super = self._compile\n",
      "\n",
      "    # now redefine the _compile method. This gets executed for each\n",
      "    # object but distutils doesn't have the ability to change compilers\n",
      "    # based on source extension: we add it.\n",
      "    def _compile(obj, src, ext, cc_args, extra_postargs, pp_opts):\n",
      "        if os.path.splitext(src)[1] == '.cu':\n",
      "            # use the cuda for .cu files\n",
      "            self.set_executable('compiler_so', CUDA['nvcc'])\n",
      "            # use only a subset of the extra_postargs, which are 1-1 translated\n",
      "            # from the extra_compile_args in the Extension class\n",
      "            postargs = extra_postargs['nvcc']\n",
      "        else:\n",
      "            postargs = extra_postargs['gcc']\n",
      "\n",
      "        super(obj, src, ext, cc_args, postargs, pp_opts)\n",
      "        # reset the default compiler_so, which we might have changed for cuda\n",
      "        self.compiler_so = default_compiler_so\n",
      "\n",
      "    # inject our redefined _compile method into the class\n",
      "    self._compile = _compile\n",
      "\n",
      "\n",
      "# run the customize_compiler\n",
      "class custom_build_ext(build_ext):\n",
      "    def build_extensions(self):\n",
      "        customize_compiler_for_nvcc(self.compiler)\n",
      "        build_ext.build_extensions(self)\n",
      "\n",
      "setup(name='cvtools',\n",
      "      # random metadata. there's more you can supploy\n",
      "      author='Alexey Buzmakov',\n",
      "      version='0.1',\n",
      "\n",
      "      ext_modules = [ext],\n",
      "\n",
      "      # inject our custom trigger\n",
      "      cmdclass={'build_ext': custom_build_ext},\n",
      "\n",
      "      # since the package has c code, the egg cannot be zipped\n",
      "      zip_safe=False)"
     ],
     "language": "python",
     "metadata": {},
     "outputs": [
      {
       "output_type": "stream",
       "stream": "stdout",
       "text": [
        "Overwriting setup.py\n"
       ]
      }
     ],
     "prompt_number": 3
    },
    {
     "cell_type": "code",
     "collapsed": false,
     "input": [
      "!python  setup.py build_ext --inplace"
     ],
     "language": "python",
     "metadata": {},
     "outputs": [
      {
       "output_type": "stream",
       "stream": "stdout",
       "text": [
        "running build_ext\r\n",
        "cythoning cvtools.pyx to cvtools.cpp\r\n"
       ]
      },
      {
       "output_type": "stream",
       "stream": "stdout",
       "text": [
        "building 'cvtools' extension\r\n",
        "gcc -pthread -fno-strict-aliasing -g -O2 -DNDEBUG -g -fwrapv -O3 -Wall -Wstrict-prototypes -fPIC -I/home/makov/opt/anaconda/lib/python2.7/site-packages/numpy/core/include -I/usr/local/cuda-5.5/include -I/home/makov/opt/anaconda/include/python2.7 -c cvtools.cpp -o build/temp.linux-x86_64-2.7/cvtools.o\r\n",
        "cc1plus: warning: command line option \u2018-Wstrict-prototypes\u2019 is valid for Ada/C/ObjC but not for C++ [enabled by default]\r\n"
       ]
      },
      {
       "output_type": "stream",
       "stream": "stdout",
       "text": [
        "In file included from /home/makov/opt/anaconda/lib/python2.7/site-packages/numpy/core/include/numpy/ndarraytypes.h:1761:0,\r\n",
        "                 from /home/makov/opt/anaconda/lib/python2.7/site-packages/numpy/core/include/numpy/ndarrayobject.h:17,\r\n",
        "                 from /home/makov/opt/anaconda/lib/python2.7/site-packages/numpy/core/include/numpy/arrayobject.h:4,\r\n",
        "                 from cvtools.cpp:346:\r\n",
        "/home/makov/opt/anaconda/lib/python2.7/site-packages/numpy/core/include/numpy/npy_1_7_deprecated_api.h:15:2: warning: #warning \"Using deprecated NumPy API, disable it by \" \"#defining NPY_NO_DEPRECATED_API NPY_1_7_API_VERSION\" [-Wcpp]\r\n"
       ]
      },
      {
       "output_type": "stream",
       "stream": "stdout",
       "text": [
        "/home/makov/opt/anaconda/lib/python2.7/site-packages/numpy/core/include/numpy/__multiarray_api.h:1629:1: warning: \u2018int _import_array()\u2019 defined but not used [-Wunused-function]\r\n",
        "/home/makov/opt/anaconda/lib/python2.7/site-packages/numpy/core/include/numpy/__ufunc_api.h:241:1: warning: \u2018int _import_umath()\u2019 defined but not used [-Wunused-function]\r\n"
       ]
      },
      {
       "output_type": "stream",
       "stream": "stdout",
       "text": [
        "/usr/local/cuda-5.5/bin/nvcc -I/home/makov/opt/anaconda/lib/python2.7/site-packages/numpy/core/include -I/usr/local/cuda-5.5/include -I/home/makov/opt/anaconda/include/python2.7 -c cv_gpu.cu -o build/temp.linux-x86_64-2.7/cv_gpu.o -gencode arch=compute_20,code=sm_20 -gencode arch=compute_30,code=sm_30 --ptxas-options=-v -c --compiler-options '-fPIC'\r\n"
       ]
      },
      {
       "output_type": "stream",
       "stream": "stdout",
       "text": [
        "ptxas info    : 0 bytes gmem\r\n",
        "ptxas info    : Compiling entry function '_Z22backproject_kernel_32FiiN2cv3gpu7PtrStepIfEES2_' for 'sm_20'\r\n",
        "ptxas info    : Function properties for _Z22backproject_kernel_32FiiN2cv3gpu7PtrStepIfEES2_\r\n",
        "    0 bytes stack frame, 0 bytes spill stores, 0 bytes spill loads\r\n",
        "ptxas info    : Used 12 registers, 72 bytes cmem[0], 8 bytes cmem[16]\r\n"
       ]
      },
      {
       "output_type": "stream",
       "stream": "stdout",
       "text": [
        "ptxas info    : 0 bytes gmem\r\n",
        "ptxas info    : Compiling entry function '_Z22backproject_kernel_32FiiN2cv3gpu7PtrStepIfEES2_' for 'sm_30'\r\n",
        "ptxas info    : Function properties for _Z22backproject_kernel_32FiiN2cv3gpu7PtrStepIfEES2_\r\n",
        "    0 bytes stack frame, 0 bytes spill stores, 0 bytes spill loads\r\n",
        "ptxas info    : Used 12 registers, 360 bytes cmem[0], 8 bytes cmem[2]\r\n"
       ]
      },
      {
       "output_type": "stream",
       "stream": "stdout",
       "text": [
        "g++ -pthread -shared build/temp.linux-x86_64-2.7/cvtools.o build/temp.linux-x86_64-2.7/cv_gpu.o -L/usr/local/cuda-5.5/lib64 -L/home/makov/opt/anaconda/lib -Wl,-R/usr/local/cuda-5.5/lib64 -lcudart -lopencv_core -lopencv_imgproc -lopencv_gpu -lpython2.7 -o /home/makov/workspace/my/fastlib/code_experiments/cv_gpu/cvtools.so\r\n"
       ]
      }
     ],
     "prompt_number": 4
    },
    {
     "cell_type": "code",
     "collapsed": false,
     "input": [
      "!ldd cvtools.so | grep opencv"
     ],
     "language": "python",
     "metadata": {},
     "outputs": [
      {
       "output_type": "stream",
       "stream": "stdout",
       "text": [
        "./cvtools.so: /home/makov/opt/anaconda/envs/tomo/lib/libm.so.6: version `GLIBC_2.15' not found (required by /usr/lib/x86_64-linux-gnu/libx264.so.120)\r\n",
        "./cvtools.so: /home/makov/opt/anaconda/envs/tomo/lib/libm.so.6: version `GLIBC_2.15' not found (required by /usr/lib/x86_64-linux-gnu/libvorbis.so.0)\r\n",
        "./cvtools.so: /home/makov/opt/anaconda/envs/tomo/lib/libm.so.6: version `GLIBC_2.15' not found (required by /usr/lib/libopenjpeg.so.2)\r\n",
        "\tlib\u001b[1;32m\u001b[Kopencv\u001b[m\u001b[K_core.so.2.4 => /home/makov/opt/anaconda/envs/tomo/lib/lib\u001b[1;32m\u001b[Kopencv\u001b[m\u001b[K_core.so.2.4 (0x00007f4328883000)\r\n",
        "\tlib\u001b[1;32m\u001b[Kopencv\u001b[m\u001b[K_imgproc.so.2.4 => /home/makov/opt/anaconda/envs/tomo/lib/lib\u001b[1;32m\u001b[Kopencv\u001b[m\u001b[K_imgproc.so.2.4 (0x00007f43283c1000)\r\n",
        "\tlib\u001b[1;32m\u001b[Kopencv\u001b[m\u001b[K_gpu.so.2.4 => /home/makov/opt/anaconda/envs/tomo/lib/lib\u001b[1;32m\u001b[Kopencv\u001b[m\u001b[K_gpu.so.2.4 (0x00007f430e095000)\r\n",
        "\tlib\u001b[1;32m\u001b[Kopencv\u001b[m\u001b[K_calib3d.so.2.4 => /home/makov/opt/anaconda/envs/tomo/lib/lib\u001b[1;32m\u001b[Kopencv\u001b[m\u001b[K_calib3d.so.2.4 (0x00007f430ba83000)\r\n",
        "\tlib\u001b[1;32m\u001b[Kopencv\u001b[m\u001b[K_objdetect.so.2.4 => /home/makov/opt/anaconda/envs/tomo/lib/lib\u001b[1;32m\u001b[Kopencv\u001b[m\u001b[K_objdetect.so.2.4 (0x00007f430b802000)\r\n",
        "\tlib\u001b[1;32m\u001b[Kopencv\u001b[m\u001b[K_flann.so.2.4 => /home/makov/opt/anaconda/envs/tomo/lib/lib\u001b[1;32m\u001b[Kopencv\u001b[m\u001b[K_flann.so.2.4 (0x00007f42fc440000)\r\n",
        "\tlib\u001b[1;32m\u001b[Kopencv\u001b[m\u001b[K_features2d.so.2.4 => /home/makov/opt/anaconda/envs/tomo/lib/lib\u001b[1;32m\u001b[Kopencv\u001b[m\u001b[K_features2d.so.2.4 (0x00007f42fc195000)\r\n",
        "\tlib\u001b[1;32m\u001b[Kopencv\u001b[m\u001b[K_highgui.so.2.4 => /home/makov/opt/anaconda/envs/tomo/lib/lib\u001b[1;32m\u001b[Kopencv\u001b[m\u001b[K_highgui.so.2.4 (0x00007f42fbf43000)\r\n"
       ]
      }
     ],
     "prompt_number": 25
    },
    {
     "cell_type": "code",
     "collapsed": false,
     "input": [
      "!ldd /usr/local/lib/libopencv_gpu.so"
     ],
     "language": "python",
     "metadata": {},
     "outputs": [
      {
       "output_type": "stream",
       "stream": "stdout",
       "text": [
        "\tlinux-vdso.so.1 =>  (0x00007fff9a349000)\r\n",
        "\tlibopencv_core.so.2.4 => /usr/local/lib/libopencv_core.so.2.4 (0x00007f5040ef7000)\r\n",
        "\tlibopencv_imgproc.so.2.4 => /usr/local/lib/libopencv_imgproc.so.2.4 (0x00007f5040a34000)\r\n",
        "\tlibopencv_calib3d.so.2.4 => /usr/local/lib/libopencv_calib3d.so.2.4 (0x00007f5040790000)\r\n",
        "\tlibopencv_objdetect.so.2.4 => /usr/local/lib/libopencv_objdetect.so.2.4 (0x00007f5040510000)\r\n",
        "\tlibpthread.so.0 => /lib/x86_64-linux-gnu/libpthread.so.0 (0x00007f50402f2000)\r\n",
        "\tlibcudart.so.5.5 => /usr/local/cuda-5.5/lib64/libcudart.so.5.5 (0x00007f50400a5000)\r\n",
        "\tlibnppc.so.5.5 => /usr/local/cuda-5.5/lib64/libnppc.so.5.5 (0x00007f503fe42000)\r\n",
        "\tlibnppi.so.5.5 => /usr/local/cuda-5.5/lib64/libnppi.so.5.5 (0x00007f5037eee000)\r\n",
        "\tlibnpps.so.5.5 => /usr/local/cuda-5.5/lib64/libnpps.so.5.5 (0x00007f5036cef000)\r\n",
        "\tlibcufft.so.5.5 => /usr/local/cuda-5.5/lib64/libcufft.so.5.5 (0x00007f50321ce000)\r\n",
        "\tlibm.so.6 => /lib/x86_64-linux-gnu/libm.so.6 (0x00007f5031ed1000)\r\n",
        "\tlibstdc++.so.6 => /usr/lib/x86_64-linux-gnu/libstdc++.so.6 (0x00007f5031ba7000)\r\n",
        "\tlibgcc_s.so.1 => /lib/x86_64-linux-gnu/libgcc_s.so.1 (0x00007f5031991000)\r\n",
        "\tlibc.so.6 => /lib/x86_64-linux-gnu/libc.so.6 (0x00007f50315d0000)\r\n",
        "\tlibz.so.1 => /lib/x86_64-linux-gnu/libz.so.1 (0x00007f50313b9000)\r\n",
        "\tlibrt.so.1 => /lib/x86_64-linux-gnu/librt.so.1 (0x00007f50311b1000)\r\n",
        "\tlibopencv_flann.so.2.4 => /usr/local/lib/libopencv_flann.so.2.4 (0x00007f5030f41000)\r\n",
        "\tlibopencv_features2d.so.2.4 => /usr/local/lib/libopencv_features2d.so.2.4 (0x00007f5030c96000)\r\n",
        "\tlibtbb.so.2 => /usr/lib/libtbb.so.2 (0x00007f5030a69000)\r\n",
        "\tlibopencv_highgui.so.2.4 => /usr/local/lib/libopencv_highgui.so.2.4 (0x00007f503081e000)\r\n",
        "\t/lib64/ld-linux-x86-64.so.2 (0x00007f50599c0000)\r\n",
        "\tlibdl.so.2 => /lib/x86_64-linux-gnu/libdl.so.2 (0x00007f503061a000)\r\n",
        "\tlibpng12.so.0 => /lib/x86_64-linux-gnu/libpng12.so.0 (0x00007f50303f1000)\r\n",
        "\tlibtiff.so.4 => /usr/lib/x86_64-linux-gnu/libtiff.so.4 (0x00007f503018d000)\r\n",
        "\tlibjasper.so.1 => /usr/lib/x86_64-linux-gnu/libjasper.so.1 (0x00007f502ff36000)\r\n",
        "\tlibIlmImf.so.6 => /usr/lib/libIlmImf.so.6 (0x00007f502fc74000)\r\n",
        "\tlibHalf.so.6 => /usr/lib/libHalf.so.6 (0x00007f502fa31000)\r\n",
        "\tlibgtk-x11-2.0.so.0 => /usr/lib/x86_64-linux-gnu/libgtk-x11-2.0.so.0 (0x00007f502f3f7000)\r\n",
        "\tlibgdk-x11-2.0.so.0 => /usr/lib/x86_64-linux-gnu/libgdk-x11-2.0.so.0 (0x00007f502f144000)\r\n",
        "\tlibgobject-2.0.so.0 => /usr/lib/x86_64-linux-gnu/libgobject-2.0.so.0 (0x00007f502eef5000)\r\n",
        "\tlibglib-2.0.so.0 => /lib/x86_64-linux-gnu/libglib-2.0.so.0 (0x00007f502ec00000)\r\n",
        "\tlibgstreamer-0.10.so.0 => /usr/lib/x86_64-linux-gnu/libgstreamer-0.10.so.0 (0x00007f502e918000)\r\n",
        "\tlibgstapp-0.10.so.0 => /usr/lib/x86_64-linux-gnu/libgstapp-0.10.so.0 (0x00007f502e70c000)\r\n",
        "\tlibgstvideo-0.10.so.0 => /usr/lib/x86_64-linux-gnu/libgstvideo-0.10.so.0 (0x00007f502e4f0000)\r\n",
        "\tlibdc1394.so.22 => /usr/lib/x86_64-linux-gnu/libdc1394.so.22 (0x00007f502e27c000)\r\n",
        "\tlibavcodec.so.53 => /usr/lib/x86_64-linux-gnu/libavcodec.so.53 (0x00007f502d461000)\r\n",
        "\tlibavformat.so.53 => /usr/lib/x86_64-linux-gnu/libavformat.so.53 (0x00007f502d164000)\r\n",
        "\tlibavutil.so.51 => /usr/lib/x86_64-linux-gnu/libavutil.so.51 (0x00007f502cf43000)\r\n",
        "\tlibswscale.so.2 => /usr/lib/x86_64-linux-gnu/libswscale.so.2 (0x00007f502ccfd000)\r\n",
        "\tlibjpeg.so.8 => /home/makov/opt/anaconda/envs/tomo/lib/libjpeg.so.8 (0x00007f502cac5000)\r\n",
        "\tlibImath.so.6 => /usr/lib/libImath.so.6 (0x00007f502c8bf000)\r\n",
        "\tlibIex.so.6 => /usr/lib/libIex.so.6 (0x00007f502c6a0000)\r\n",
        "\tlibIlmThread.so.6 => /usr/lib/libIlmThread.so.6 (0x00007f502c498000)\r\n",
        "\tlibpangocairo-1.0.so.0 => /usr/lib/x86_64-linux-gnu/libpangocairo-1.0.so.0 (0x00007f502c28c000)\r\n",
        "\tlibX11.so.6 => /usr/lib/x86_64-linux-gnu/libX11.so.6 (0x00007f502bf57000)\r\n",
        "\tlibXfixes.so.3 => /usr/lib/x86_64-linux-gnu/libXfixes.so.3 (0x00007f502bd50000)\r\n",
        "\tlibatk-1.0.so.0 => /usr/lib/x86_64-linux-gnu/libatk-1.0.so.0 (0x00007f502bb2e000)\r\n",
        "\tlibcairo.so.2 => /usr/lib/x86_64-linux-gnu/libcairo.so.2 (0x00007f502b870000)\r\n",
        "\tlibgdk_pixbuf-2.0.so.0 => /usr/lib/x86_64-linux-gnu/libgdk_pixbuf-2.0.so.0 (0x00007f502b64f000)\r\n",
        "\tlibgio-2.0.so.0 => /usr/lib/x86_64-linux-gnu/libgio-2.0.so.0 (0x00007f502b300000)\r\n",
        "\tlibpangoft2-1.0.so.0 => /usr/lib/x86_64-linux-gnu/libpangoft2-1.0.so.0 (0x00007f502b0d6000)\r\n",
        "\tlibpango-1.0.so.0 => /usr/lib/x86_64-linux-gnu/libpango-1.0.so.0 (0x00007f502ae8c000)\r\n",
        "\tlibfontconfig.so.1 => /usr/lib/x86_64-linux-gnu/libfontconfig.so.1 (0x00007f502ac56000)\r\n",
        "\tlibXext.so.6 => /usr/lib/x86_64-linux-gnu/libXext.so.6 (0x00007f502aa45000)\r\n",
        "\tlibXrender.so.1 => /usr/lib/x86_64-linux-gnu/libXrender.so.1 (0x00007f502a83a000)\r\n",
        "\tlibXinerama.so.1 => /usr/lib/x86_64-linux-gnu/libXinerama.so.1 (0x00007f502a637000)\r\n",
        "\tlibXi.so.6 => /usr/lib/x86_64-linux-gnu/libXi.so.6 (0x00007f502a427000)\r\n",
        "\tlibXrandr.so.2 => /usr/lib/x86_64-linux-gnu/libXrandr.so.2 (0x00007f502a21e000)\r\n",
        "\tlibXcursor.so.1 => /usr/lib/x86_64-linux-gnu/libXcursor.so.1 (0x00007f502a014000)\r\n",
        "\tlibXcomposite.so.1 => /usr/lib/x86_64-linux-gnu/libXcomposite.so.1 (0x00007f5029e11000)\r\n",
        "\tlibXdamage.so.1 => /usr/lib/x86_64-linux-gnu/libXdamage.so.1 (0x00007f5029c0d000)\r\n",
        "\tlibffi.so.6 => /usr/lib/x86_64-linux-gnu/libffi.so.6 (0x00007f5029a05000)\r\n",
        "\tlibpcre.so.3 => /lib/x86_64-linux-gnu/libpcre.so.3 (0x00007f50297c7000)\r\n",
        "\tlibgmodule-2.0.so.0 => /usr/lib/x86_64-linux-gnu/libgmodule-2.0.so.0 (0x00007f50295c3000)\r\n",
        "\tlibxml2.so.2 => /usr/lib/x86_64-linux-gnu/libxml2.so.2 (0x00007f5029267000)\r\n",
        "\tlibgstbase-0.10.so.0 => /usr/lib/x86_64-linux-gnu/libgstbase-0.10.so.0 (0x00007f5029013000)\r\n",
        "\tliborc-0.4.so.0 => /usr/lib/x86_64-linux-gnu/liborc-0.4.so.0 (0x00007f5028d98000)\r\n",
        "\tlibraw1394.so.11 => /usr/lib/x86_64-linux-gnu/libraw1394.so.11 (0x00007f5028b89000)\r\n",
        "\tlibusb-1.0.so.0 => /lib/x86_64-linux-gnu/libusb-1.0.so.0 (0x00007f5028979000)\r\n",
        "\tlibxvidcore.so.4 => /usr/lib/x86_64-linux-gnu/libxvidcore.so.4 (0x00007f5028642000)\r\n",
        "\tlibx264.so.120 => /usr/lib/x86_64-linux-gnu/libx264.so.120 (0x00007f50282bc000)\r\n",
        "\tlibvpx.so.1 => /usr/lib/libvpx.so.1 (0x00007f5028016000)\r\n",
        "\tlibvorbisenc.so.2 => /usr/lib/x86_64-linux-gnu/libvorbisenc.so.2 (0x00007f5027b47000)\r\n",
        "\tlibvorbis.so.0 => /usr/lib/x86_64-linux-gnu/libvorbis.so.0 (0x00007f502791b000)\r\n",
        "\tlibvo-amrwbenc.so.0 => /usr/lib/x86_64-linux-gnu/libvo-amrwbenc.so.0 (0x00007f50276ff000)\r\n",
        "\tlibvo-aacenc.so.0 => /usr/lib/x86_64-linux-gnu/libvo-aacenc.so.0 (0x00007f50274e0000)\r\n",
        "\tlibtheoraenc.so.1 => /usr/lib/x86_64-linux-gnu/libtheoraenc.so.1 (0x00007f50272a3000)\r\n",
        "\tlibtheoradec.so.1 => /usr/lib/x86_64-linux-gnu/libtheoradec.so.1 (0x00007f5027087000)\r\n",
        "\tlibspeex.so.1 => /usr/lib/x86_64-linux-gnu/libspeex.so.1 (0x00007f5026e6e000)\r\n",
        "\tlibschroedinger-1.0.so.0 => /usr/lib/libschroedinger-1.0.so.0 (0x00007f5026bbb000)\r\n",
        "\tlibopenjpeg.so.2 => /usr/lib/libopenjpeg.so.2 (0x00007f5026999000)\r\n",
        "\tlibmp3lame.so.0 => /usr/lib/x86_64-linux-gnu/libmp3lame.so.0 (0x00007f502670f000)\r\n",
        "\tlibgsm.so.1 => /usr/lib/libgsm.so.1 (0x00007f5026501000)\r\n",
        "\tlibdirac_encoder.so.0 => /usr/lib/libdirac_encoder.so.0 (0x00007f502627a000)\r\n",
        "\tlibva.so.1 => /usr/lib/x86_64-linux-gnu/libva.so.1 (0x00007f5026064000)\r\n",
        "\tlibrtmp.so.0 => /usr/lib/x86_64-linux-gnu/librtmp.so.0 (0x00007f5025e4a000)\r\n",
        "\tlibbz2.so.1.0 => /lib/x86_64-linux-gnu/libbz2.so.1.0 (0x00007f5025c39000)\r\n",
        "\tlibfreetype.so.6 => /usr/lib/x86_64-linux-gnu/libfreetype.so.6 (0x00007f502599d000)\r\n",
        "\tlibxcb.so.1 => /usr/lib/x86_64-linux-gnu/libxcb.so.1 (0x00007f502577e000)\r\n",
        "\tlibpixman-1.so.0 => /usr/lib/x86_64-linux-gnu/libpixman-1.so.0 (0x00007f50254e7000)\r\n",
        "\tlibxcb-shm.so.0 => /usr/lib/x86_64-linux-gnu/libxcb-shm.so.0 (0x00007f50252e4000)\r\n",
        "\tlibxcb-render.so.0 => /usr/lib/x86_64-linux-gnu/libxcb-render.so.0 (0x00007f50250d9000)\r\n",
        "\tlibselinux.so.1 => /lib/x86_64-linux-gnu/libselinux.so.1 (0x00007f5024eba000)\r\n",
        "\tlibresolv.so.2 => /lib/x86_64-linux-gnu/libresolv.so.2 (0x00007f5024c9d000)\r\n",
        "\tlibexpat.so.1 => /lib/x86_64-linux-gnu/libexpat.so.1 (0x00007f5024a73000)\r\n",
        "\tlibogg.so.0 => /usr/lib/x86_64-linux-gnu/libogg.so.0 (0x00007f502486b000)\r\n",
        "\tlibgnutls.so.26 => /usr/lib/x86_64-linux-gnu/libgnutls.so.26 (0x00007f50245af000)\r\n",
        "\tlibgcrypt.so.11 => /lib/x86_64-linux-gnu/libgcrypt.so.11 (0x00007f5024330000)\r\n",
        "\tlibXau.so.6 => /usr/lib/x86_64-linux-gnu/libXau.so.6 (0x00007f502412d000)\r\n",
        "\tlibXdmcp.so.6 => /usr/lib/x86_64-linux-gnu/libXdmcp.so.6 (0x00007f5023f27000)\r\n",
        "\tlibtasn1.so.3 => /usr/lib/x86_64-linux-gnu/libtasn1.so.3 (0x00007f5023d15000)\r\n",
        "\tlibp11-kit.so.0 => /usr/lib/x86_64-linux-gnu/libp11-kit.so.0 (0x00007f5023b03000)\r\n",
        "\tlibgpg-error.so.0 => /lib/x86_64-linux-gnu/libgpg-error.so.0 (0x00007f50238fe000)\r\n"
       ]
      }
     ],
     "prompt_number": 32
    },
    {
     "cell_type": "code",
     "collapsed": false,
     "input": [
      "!ldd /home/makov/opt/anaconda/envs/tomo/lib/libm.so.6"
     ],
     "language": "python",
     "metadata": {},
     "outputs": [
      {
       "output_type": "stream",
       "stream": "stdout",
       "text": [
        "\tlinux-vdso.so.1 =>  (0x00007fff403b0000)\r\n",
        "\tlibc.so.6 => /lib/x86_64-linux-gnu/libc.so.6 (0x00007f349c0c4000)\r\n",
        "\t/lib64/ld-linux-x86-64.so.2 (0x00007f349c486000)\r\n"
       ]
      }
     ],
     "prompt_number": 33
    },
    {
     "cell_type": "code",
     "collapsed": false,
     "input": [
      "!ldd /lib/x86_64-linux-gnu/libc.so.6"
     ],
     "language": "python",
     "metadata": {},
     "outputs": [
      {
       "output_type": "stream",
       "stream": "stdout",
       "text": [
        "\t/lib64/ld-linux-x86-64.so.2 (0x00007f443264d000)\r\n",
        "\tlinux-vdso.so.1 =>  (0x00007fff105ff000)\r\n"
       ]
      }
     ],
     "prompt_number": 34
    },
    {
     "cell_type": "code",
     "collapsed": false,
     "input": [
      "!ldd /usr/lib/x86_64-linux-gnu/libx264.so.120"
     ],
     "language": "python",
     "metadata": {},
     "outputs": [
      {
       "output_type": "stream",
       "stream": "stdout",
       "text": [
        "\tlinux-vdso.so.1 =>  (0x00007fff3cbff000)\r\n",
        "\tlibm.so.6 => /lib/x86_64-linux-gnu/libm.so.6 (0x00007f181f662000)\r\n",
        "\tlibpthread.so.0 => /lib/x86_64-linux-gnu/libpthread.so.0 (0x00007f181f445000)\r\n",
        "\tlibc.so.6 => /lib/x86_64-linux-gnu/libc.so.6 (0x00007f181f084000)\r\n",
        "\t/lib64/ld-linux-x86-64.so.2 (0x00007f181fce6000)\r\n"
       ]
      }
     ],
     "prompt_number": 35
    },
    {
     "cell_type": "code",
     "collapsed": false,
     "input": [
      "!locate libopencv_core.so.2.4"
     ],
     "language": "python",
     "metadata": {},
     "outputs": [
      {
       "output_type": "stream",
       "stream": "stdout",
       "text": [
        "/home/makov/opt/anaconda/envs/tomo/lib/libopencv_core.so.2.4\r\n",
        "/home/makov/opt/anaconda/envs/tomo/lib/libopencv_core.so.2.4.6\r\n",
        "/home/makov/opt/anaconda/lib/libopencv_core.so.2.4\r\n",
        "/home/makov/opt/anaconda/lib/libopencv_core.so.2.4.9\r\n"
       ]
      },
      {
       "output_type": "stream",
       "stream": "stdout",
       "text": [
        "/home/makov/opt/anaconda/pkgs/opencv-2.4.6-np18py27_0/lib/libopencv_core.so.2.4\r\n",
        "/home/makov/opt/anaconda/pkgs/opencv-2.4.6-np18py27_0/lib/libopencv_core.so.2.4.6\r\n",
        "/home/makov/opt/anaconda/pkgs/opencv-2.4.9-np18py27_0/lib/libopencv_core.so.2.4\r\n",
        "/home/makov/opt/anaconda/pkgs/opencv-2.4.9-np18py27_0/lib/libopencv_core.so.2.4.9\r\n"
       ]
      },
      {
       "output_type": "stream",
       "stream": "stdout",
       "text": [
        "/home/makov/opt/matlab/R2013a/bin/glnxa64/libopencv_core.so.2.4\r\n",
        "/home/makov/opt/matlab/R2013a/bin/glnxa64/libopencv_core.so.2.4.2\r\n"
       ]
      },
      {
       "output_type": "stream",
       "stream": "stdout",
       "text": [
        "/usr/local/lib/libopencv_core.so.2.4\r\n",
        "/usr/local/lib/libopencv_core.so.2.4.6\r\n"
       ]
      }
     ],
     "prompt_number": 36
    },
    {
     "cell_type": "code",
     "collapsed": false,
     "input": [
      "ls /usr/local/lib/libopencv_core.so*"
     ],
     "language": "python",
     "metadata": {},
     "outputs": [
      {
       "output_type": "stream",
       "stream": "stdout",
       "text": [
        "\u001b[0m\u001b[01;36m/usr/local/lib/libopencv_core.so\u001b[0m@  \u001b[01;36m/usr/local/lib/libopencv_core.so.2.4\u001b[0m@  /usr/local/lib/libopencv_core.so.2.4.6  /usr/local/lib/libopencv_core.so.2.4.9\r\n"
       ]
      }
     ],
     "prompt_number": 37
    },
    {
     "cell_type": "code",
     "collapsed": false,
     "input": [
      "import sys\n",
      "sys.path.insert(0,'/home/makov/opt/anaconda/lib/python2.7/site-packages/')\n",
      "import cv2"
     ],
     "language": "python",
     "metadata": {},
     "outputs": [],
     "prompt_number": 23
    },
    {
     "cell_type": "code",
     "collapsed": false,
     "input": [
      "cv2.__file__"
     ],
     "language": "python",
     "metadata": {},
     "outputs": [
      {
       "metadata": {},
       "output_type": "pyout",
       "prompt_number": 24,
       "text": [
        "'/home/makov/opt/anaconda/lib/python2.7/site-packages/cv2.so'"
       ]
      }
     ],
     "prompt_number": 24
    },
    {
     "cell_type": "code",
     "collapsed": false,
     "input": [
      "!ldd /home/makov/opt/anaconda/lib/libopencv_gpu.so| grep cuda"
     ],
     "language": "python",
     "metadata": {},
     "outputs": [],
     "prompt_number": 11
    },
    {
     "cell_type": "code",
     "collapsed": false,
     "input": [
      "import numpy"
     ],
     "language": "python",
     "metadata": {},
     "outputs": [],
     "prompt_number": 12
    },
    {
     "cell_type": "code",
     "collapsed": false,
     "input": [
      "numpy.__file__"
     ],
     "language": "python",
     "metadata": {},
     "outputs": [
      {
       "metadata": {},
       "output_type": "pyout",
       "prompt_number": 13,
       "text": [
        "'/home/makov/opt/anaconda/lib/python2.7/site-packages/numpy/__init__.pyc'"
       ]
      }
     ],
     "prompt_number": 13
    },
    {
     "cell_type": "code",
     "collapsed": false,
     "input": [
      "!ldd /home/makov/opt/anaconda/envs/tomo/lib/python2.7/site-packages/cv2.so| grep cuda"
     ],
     "language": "python",
     "metadata": {},
     "outputs": [
      {
       "output_type": "stream",
       "stream": "stdout",
       "text": [
        "/home/makov/opt/anaconda/envs/tomo/lib/python2.7/site-packages/cv2.so: /home/makov/opt/anaconda/envs/tomo/lib/libm.so.6: version `GLIBC_2.15' not found (required by /usr/lib/x86_64-linux-gnu/libx264.so.120)\r\n",
        "/home/makov/opt/anaconda/envs/tomo/lib/python2.7/site-packages/cv2.so: /home/makov/opt/anaconda/envs/tomo/lib/libm.so.6: version `GLIBC_2.15' not found (required by /usr/lib/x86_64-linux-gnu/libvorbis.so.0)\r\n",
        "/home/makov/opt/anaconda/envs/tomo/lib/python2.7/site-packages/cv2.so: /home/makov/opt/anaconda/envs/tomo/lib/libm.so.6: version `GLIBC_2.15' not found (required by /usr/lib/libopenjpeg.so.2)\r\n",
        "\tlib\u001b[1;32m\u001b[Kcuda\u001b[m\u001b[Krt.so.5.5 => /usr/local/\u001b[1;32m\u001b[Kcuda\u001b[m\u001b[K-5.5/lib64/lib\u001b[1;32m\u001b[Kcuda\u001b[m\u001b[Krt.so.5.5 (0x00007f74148a5000)\r\n",
        "\tlibnppc.so.5.5 => /usr/local/\u001b[1;32m\u001b[Kcuda\u001b[m\u001b[K-5.5/lib64/libnppc.so.5.5 (0x00007f73ee783000)\r\n",
        "\tlibnppi.so.5.5 => /usr/local/\u001b[1;32m\u001b[Kcuda\u001b[m\u001b[K-5.5/lib64/libnppi.so.5.5 (0x00007f73e6830000)\r\n",
        "\tlibnpps.so.5.5 => /usr/local/\u001b[1;32m\u001b[Kcuda\u001b[m\u001b[K-5.5/lib64/libnpps.so.5.5 (0x00007f73e5631000)\r\n",
        "\tlibcufft.so.5.5 => /usr/local/\u001b[1;32m\u001b[Kcuda\u001b[m\u001b[K-5.5/lib64/libcufft.so.5.5 (0x00007f73e0b0f000)\r\n"
       ]
      }
     ],
     "prompt_number": 14
    },
    {
     "cell_type": "code",
     "collapsed": false,
     "input": [],
     "language": "python",
     "metadata": {},
     "outputs": []
    }
   ],
   "metadata": {}
  }
 ]
}