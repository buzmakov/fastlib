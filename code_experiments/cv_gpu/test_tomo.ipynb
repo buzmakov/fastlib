{
 "metadata": {
  "name": "",
  "signature": "sha256:b77f95d024294632739c61d0658a5fd6c99889e76f77659203e96f6d2d884862"
 },
 "nbformat": 3,
 "nbformat_minor": 0,
 "worksheets": [
  {
   "cells": [
    {
     "cell_type": "code",
     "collapsed": false,
     "input": [
      "import cv\n",
      "import cv2\n",
      "import pylab as plt\n",
      "import numpy as np\n",
      "import scipy.misc\n",
      "\n",
      "import os\n",
      "#import sys\n",
      "#sys.path.insert(0,'../my/fastlib')\n",
      "#import fastlib.imageprocessing.ispmd as ispmd\n",
      "\n",
      "import cvtools\n",
      "import h5py"
     ],
     "language": "python",
     "metadata": {},
     "outputs": []
    },
    {
     "cell_type": "code",
     "collapsed": false,
     "input": [
      "#real data sinogram\n",
      "N=100\n",
      "sinogramm=None\n",
      "angles=None\n",
      "with h5py.File('mouse2/reconstruction/postproc_data.h5') as f:\n",
      "    sinogramm=f['Data'][N]\n",
      "    angles=np.array(f['Angles'],dtype='float32')\n",
      "    sinogramm=np.rot90(sinogramm,1)\n",
      "    sinogramm=np.array(sinogramm, dtype='float32',order=\"C\")\n",
      "\n",
      "with h5py.File('mouse2/reconstruction/result.hdf5') as f:\n",
      "    data=f['Results'][N]\n",
      "    data=np.array(np.flipud(data), dtype='float32')\n",
      "\n",
      "print sinogramm.shape\n",
      "plt.figure(figsize=(10,15))\n",
      "plt.subplot(211)\n",
      "plt.imshow(sinogramm, cmap=plt.cm.Greys_r)\n",
      "plt.colorbar()\n",
      "plt.subplot(212)\n",
      "plt.imshow(data, cmap=plt.cm.Greys_r)\n",
      "plt.colorbar()"
     ],
     "language": "python",
     "metadata": {},
     "outputs": []
    },
    {
     "cell_type": "code",
     "collapsed": false,
     "input": [
      "r = 1\n",
      "dr = (r-1.0)/2\n",
      "sr = np.zeros(shape = (sinogramm.shape[0], np.array(sinogramm.shape[1])*r),dtype='float32')\n",
      "x0 = int(dr * data.shape[0])\n",
      "sr[:, x0:x0 + sinogramm.shape[1]] = sinogramm\n",
      "#sr[:,:50]=0\n",
      "#sr[:,330:]=0\n",
      "plt.imshow(sr, cmap=plt.cm.Greys_r)\n"
     ],
     "language": "python",
     "metadata": {},
     "outputs": []
    },
    {
     "cell_type": "code",
     "collapsed": false,
     "input": [
      "res = cvtools.sart_g(sinogramm, angles)\n",
      "\n",
      "r = res #[210*1:210*3,210*1:210*3]\n",
      "d = data\n",
      "diff = res*(res>0)-data\n",
      "t = diff\n",
      "plt.figure(figsize=(20,30))\n",
      "plt.subplot(331)\n",
      "plt.imshow(r[100:250,200:350], cmap=plt.cm.Greys_r,interpolation=None, vmin=0)\n",
      "plt.subplot(332)\n",
      "plt.imshow(d[100:250,200:350], cmap=plt.cm.Greys_r,interpolation=None, vmin=0)\n",
      "plt.subplot(333)\n",
      "plt.imshow(t[100:250,200:350], cmap=plt.cm.Greys_r,interpolation=None)\n",
      "plt.colorbar()\n",
      "\n",
      "plt.subplot(334)\n",
      "plt.imshow(r, cmap=plt.cm.Greys_r,interpolation=None,vmin=0)\n",
      "plt.subplot(335)\n",
      "plt.imshow(d, cmap=plt.cm.Greys_r,interpolation=None,vmin=0)\n",
      "plt.subplot(336)\n",
      "plt.imshow(t, cmap=plt.cm.Greys_r,interpolation=None)\n",
      "plt.colorbar()\n",
      "\n",
      "plt.subplot(313)\n",
      "plt.plot(r[150], label='reconstruction')\n",
      "plt.hold(True)\n",
      "plt.plot(d[150], label='Old res')\n",
      "plt.hold(True)\n",
      "#plt.plot(t[150], label='Diff')\n",
      "plt.legend()"
     ],
     "language": "python",
     "metadata": {},
     "outputs": []
    },
    {
     "cell_type": "code",
     "collapsed": false,
     "input": [
      "#lena sinthetic data\n",
      "lena =scipy.misc.lena().astype('float32')\n",
      "# plt.imshow(lena, cmap=plt.cm.Greys_r)\n",
      "d=lena\n",
      "del lena\n",
      "\n",
      "r = 1\n",
      "dr = (r-1.0)/2\n",
      "data=np.zeros(shape = np.array(d.shape)*r,dtype='float32')\n",
      "\n",
      "x0=int(dr*d.shape[0])\n",
      "y0=int(dr*d.shape[1])\n",
      "\n",
      "data[x0:x0+d.shape[0], y0:y0+d.shape[1]] = d\n",
      "plt.imshow(data, cmap=plt.cm.Greys_r)\n",
      "plt.colorbar()"
     ],
     "language": "python",
     "metadata": {},
     "outputs": []
    },
    {
     "cell_type": "code",
     "collapsed": false,
     "input": [
      "angles = np.arange(0,180,0.1,dtype='float32')\n",
      "#np.random.shuffle(angles)\n",
      "#print angles"
     ],
     "language": "python",
     "metadata": {},
     "outputs": []
    },
    {
     "cell_type": "code",
     "collapsed": false,
     "input": [
      "sinogramm = np.zeros(shape = (angles.shape[0], data.shape[0]), dtype = 'float32')\n",
      "print sinogramm.shape"
     ],
     "language": "python",
     "metadata": {},
     "outputs": []
    },
    {
     "cell_type": "code",
     "collapsed": false,
     "input": [
      "for i,ang in enumerate(angles):\n",
      "    rot = cvtools.rotate_g(data,ang)\n",
      "    proj = cvtools.project_g(rot)\n",
      "    sinogramm[i]=proj\n",
      "    \n",
      "print sinogramm.shape\n",
      "plt.figure(figsize=(10,10))\n",
      "plt.imshow(sinogramm, cmap=plt.cm.Greys_r)"
     ],
     "language": "python",
     "metadata": {},
     "outputs": []
    },
    {
     "cell_type": "code",
     "collapsed": false,
     "input": [
      "res = cvtools.sart_g(sinogramm, angles)\n",
      "\n",
      "r = res #[256:768,256:768]\n",
      "d = data#[256:768,256:768]\n",
      "diff = res-data\n",
      "t = diff#[256:768,256:768]\n",
      "plt.figure(figsize=(20,30))\n",
      "plt.subplot(331)\n",
      "plt.imshow(r[200:300,200:300], cmap=plt.cm.Greys_r,vmin=0,vmax=256,interpolation=None)\n",
      "plt.subplot(332)\n",
      "plt.imshow(d[200:300,200:300], cmap=plt.cm.Greys_r,vmin=0,vmax=256,interpolation=None)\n",
      "plt.subplot(333)\n",
      "plt.imshow(t[200:300,200:300], cmap=plt.cm.Greys_r,interpolation=None)\n",
      "plt.colorbar()\n",
      "plt.subplot(334)\n",
      "plt.imshow(r, cmap=plt.cm.Greys_r,vmin=0,vmax=256,interpolation=None)\n",
      "plt.subplot(335)\n",
      "plt.imshow(d, cmap=plt.cm.Greys_r,vmin=0,vmax=256,interpolation=None)\n",
      "plt.subplot(336)\n",
      "plt.imshow(t, cmap=plt.cm.Greys_r,interpolation=None)\n",
      "plt.colorbar()\n",
      "plt.subplot(313)\n",
      "plt.plot(r[r.shape[0]/2])\n",
      "plt.hold(True)\n",
      "plt.plot(d[d.shape[0]/2])\n",
      "plt.hold(True)\n",
      "plt.plot(t[t.shape[0]/2])"
     ],
     "language": "python",
     "metadata": {},
     "outputs": []
    },
    {
     "cell_type": "code",
     "collapsed": false,
     "input": [
      "%timeit res = cvtools.sart_g(sinogramm, angles)"
     ],
     "language": "python",
     "metadata": {},
     "outputs": []
    },
    {
     "cell_type": "code",
     "collapsed": false,
     "input": [
      "f = np.array(res)\n",
      "N = 3\n",
      "mask = np.ones_like(f)*(f > f.max()*0.1)\n",
      "\n",
      "mask = cv2.erode(mask,np.ones(shape = [N,N]))\n",
      "mask = cv2.dilate(mask,np.ones(shape = [N+1,N+1]))\n",
      "\n",
      "f = f*mask\n",
      "\n",
      "plt.figure(figsize=(20,20))\n",
      "plt.subplot(121)\n",
      "plt.imshow(f, cmap=plt.cm.Greys_r)\n",
      "plt.subplot(122)\n",
      "plt.imshow(res, cmap=plt.cm.Greys_r)"
     ],
     "language": "python",
     "metadata": {},
     "outputs": []
    },
    {
     "cell_type": "code",
     "collapsed": false,
     "input": [
      "len(res[res<0])"
     ],
     "language": "python",
     "metadata": {},
     "outputs": []
    },
    {
     "cell_type": "code",
     "collapsed": false,
     "input": [],
     "language": "python",
     "metadata": {},
     "outputs": []
    }
   ],
   "metadata": {}
  }
 ]
}