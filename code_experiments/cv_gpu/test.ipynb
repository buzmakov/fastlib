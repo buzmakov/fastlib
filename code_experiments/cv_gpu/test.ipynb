{
 "metadata": {
  "name": "",
  "signature": "sha256:8b5bb574e4fc1c430576234eae5faad92507de7d66cceac03aa107ae686c6b39"
 },
 "nbformat": 3,
 "nbformat_minor": 0,
 "worksheets": [
  {
   "cells": [
    {
     "cell_type": "code",
     "collapsed": false,
     "input": [
      "#%file test.py\n",
      "\n",
      "import scipy.misc\n",
      "import cvtools\n",
      "import pylab as plt\n",
      "lena =scipy.misc.lena().astype('float32')\n",
      "s = cvtools.project_g(lena)\n",
      "plt.plot(s)\n",
      "plt.show()\n",
      "bp = cvtools.backproject_g(s)\n",
      "plt.imshow(bp)\n",
      "plt.show()\n",
      "bp=numpy.array(bp)\n",
      "ss = cvtools.project_g(bp)\n",
      "plt.plot(ss)\n",
      "plt.show()"
     ],
     "language": "python",
     "metadata": {},
     "outputs": []
    },
    {
     "cell_type": "code",
     "collapsed": false,
     "input": [
      "plt.imshow(bp)"
     ],
     "language": "python",
     "metadata": {},
     "outputs": []
    },
    {
     "cell_type": "code",
     "collapsed": false,
     "input": [
      "%timeit bp = cvtools.backproject_g(s)"
     ],
     "language": "python",
     "metadata": {},
     "outputs": []
    },
    {
     "cell_type": "code",
     "collapsed": false,
     "input": [
      "bp.shape"
     ],
     "language": "python",
     "metadata": {},
     "outputs": []
    },
    {
     "cell_type": "code",
     "collapsed": false,
     "input": [],
     "language": "python",
     "metadata": {},
     "outputs": []
    }
   ],
   "metadata": {}
  }
 ]
}