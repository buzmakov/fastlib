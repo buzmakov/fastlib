{
 "metadata": {
  "name": ""
 },
 "nbformat": 3,
 "nbformat_minor": 0,
 "worksheets": [
  {
   "cells": [
    {
     "cell_type": "code",
     "collapsed": false,
     "input": [
      "import cv\n",
      "import cv2\n",
      "import pylab as plt\n",
      "import numpy as np\n",
      "import scipy.misc\n",
      "\n",
      "import os\n",
      "import sys\n",
      "sys.path.insert(0,'../my/fastlib')\n",
      "import fastlib.imageprocessing.ispmd as ispmd\n",
      "\n",
      "import cvtools\n"
     ],
     "language": "python",
     "metadata": {},
     "outputs": []
    },
    {
     "cell_type": "code",
     "collapsed": false,
     "input": [
      "def cv_rotate(x, angle):\n",
      "    \"\"\"\n",
      "    Rotate square array using OpenCV2 around center of the array\n",
      "    :param x: 2d numpy array\n",
      "    :param angle: angle in degrees\n",
      "    :return: rotated array\n",
      "    \"\"\"\n",
      "    x_center = tuple(np.array((x.shape[1], x.shape[0]), dtype='float32') / 2.0-0.5)\n",
      "    rot_mat = cv2.getRotationMatrix2D(x_center, angle, 1.0)\n",
      "    xro = cv2.warpAffine(x, rot_mat, (x.shape[1], x.shape[0]), flags=cv2.INTER_LINEAR)\n",
      "    return xro\n",
      "\n",
      "\n",
      "def cv_project(src):\n",
      "    \"\"\"\n",
      "    Project 2D array to 1D array\n",
      "\n",
      "    :param src: 2d numpy array.\n",
      "    :return:\n",
      "    \"\"\"\n",
      "    return np.squeeze(cv2.reduce(src, dim=1, rtype=cv2.cv.CV_REDUCE_SUM))\n",
      "\n",
      "\n",
      "def cv_backproject(src):\n",
      "    \"\"\"\n",
      "    Back project 1d array to 2d array.\n",
      "\n",
      "    :param src: 1d numpy array\n",
      "    :return:\n",
      "    \"\"\"\n",
      "    ntimes = len(src)\n",
      "    tmp_array = src / float(ntimes)\n",
      "    return cv2.repeat(tmp_array,1,ntimes)"
     ],
     "language": "python",
     "metadata": {},
     "outputs": []
    },
    {
     "cell_type": "code",
     "collapsed": false,
     "input": [
      "lena =scipy.misc.lena().astype('float32')"
     ],
     "language": "python",
     "metadata": {},
     "outputs": []
    },
    {
     "cell_type": "code",
     "collapsed": false,
     "input": [
      "plt.imshow(lena, cmap=plt.cm.Greys_r)"
     ],
     "language": "python",
     "metadata": {},
     "outputs": []
    },
    {
     "cell_type": "code",
     "collapsed": false,
     "input": [
      "angle = 20\n",
      "rot_py = cv_rotate(lena, angle)\n",
      "rc = cvtools.rotate_c(lena,angle)\n",
      "rg = cvtools.rotate_g(lena,angle)\n",
      "plt.figure(figsize=(20,20))\n",
      "plt.subplot(221)\n",
      "plt.imshow(rg, cmap=plt.cm.Greys_r)\n",
      "plt.subplot(222)\n",
      "plt.imshow(rc, cmap=plt.cm.Greys_r)\n",
      "plt.subplot(223)\n",
      "plt.imshow(rot_py, cmap=plt.cm.Greys_r)\n",
      "plt.subplot(224)\n",
      "plt.imshow(rg-rot_py, cmap=plt.cm.Greys_r)\n",
      "plt.colorbar()"
     ],
     "language": "python",
     "metadata": {},
     "outputs": []
    },
    {
     "cell_type": "code",
     "collapsed": false,
     "input": [
      "from scipy.ndimage import rotate\n",
      "rs = rotate(lena,angle, reshape = False, order=1)\n",
      "plt.figure(figsize=(20,20))\n",
      "plt.subplot(221)\n",
      "plt.imshow(rs-rc,cmap=plt.cm.Greys_r,vmin=-10)\n",
      "plt.colorbar()\n",
      "plt.subplot(222)\n",
      "plt.imshow(rs-rot_py,cmap=plt.cm.Greys_r,vmin=-10)\n",
      "plt.colorbar()\n",
      "plt.subplot(223)\n",
      "plt.imshow(rs-rg,cmap=plt.cm.Greys_r,vmin=-10)\n",
      "plt.colorbar()"
     ],
     "language": "python",
     "metadata": {},
     "outputs": []
    },
    {
     "cell_type": "code",
     "collapsed": false,
     "input": [
      "#%timeit rs = rotate(lena, angle, reshape = False, order=1)"
     ],
     "language": "python",
     "metadata": {},
     "outputs": []
    },
    {
     "cell_type": "code",
     "collapsed": false,
     "input": [
      "#%timeit rot_py = cv_rotate(lena, angle)"
     ],
     "language": "python",
     "metadata": {},
     "outputs": []
    },
    {
     "cell_type": "code",
     "collapsed": false,
     "input": [
      "#%timeit rg = cvtools.rotate_g(lena,angle)"
     ],
     "language": "python",
     "metadata": {},
     "outputs": []
    },
    {
     "cell_type": "code",
     "collapsed": false,
     "input": [
      "#%timeit ri = ispmd.rotate_square(lena,angle)"
     ],
     "language": "python",
     "metadata": {},
     "outputs": []
    },
    {
     "cell_type": "code",
     "collapsed": false,
     "input": [
      "#%timeit s = cvtools.project_g(lena)"
     ],
     "language": "python",
     "metadata": {},
     "outputs": []
    },
    {
     "cell_type": "code",
     "collapsed": false,
     "input": [
      "#%timeit s = cv_project(lena)"
     ],
     "language": "python",
     "metadata": {},
     "outputs": []
    },
    {
     "cell_type": "code",
     "collapsed": false,
     "input": [
      "plt.figure(figsize=(10,10))\n",
      "s = cvtools.project_g(lena)\n",
      "plt.plot(s,'g-*')\n",
      "plt.hold(True)\n",
      "plt.plot(cv_project(lena))"
     ],
     "language": "python",
     "metadata": {},
     "outputs": []
    },
    {
     "cell_type": "code",
     "collapsed": false,
     "input": [
      "plt.figure(figsize=(15,15))\n",
      "s = cvtools.project_g(lena)\n",
      "bp = cvtools.backproject_g(s)\n",
      "ss = cvtools.project_g(bp)\n",
      "plt.subplot(2,2,1)\n",
      "plt.plot(ss)\n",
      "plt.hold(True)\n",
      "plt.plot(s,'*')\n",
      "plt.subplot(2,2,3)\n",
      "plt.imshow(bp)\n",
      "plt.colorbar()\n",
      "plt.subplot(2,2,4)\n",
      "plt.imshow(cv_backproject(s))\n",
      "plt.colorbar()"
     ],
     "language": "python",
     "metadata": {},
     "outputs": []
    },
    {
     "cell_type": "code",
     "collapsed": false,
     "input": [
      "!git add ocv_test.ipynb gpu_tomo.ipynb\n",
      "!git commit -a -m 'code separated. done'"
     ],
     "language": "python",
     "metadata": {},
     "outputs": []
    },
    {
     "cell_type": "code",
     "collapsed": false,
     "input": [
      "#%timeit bp = cvtools.backproject_g(s)"
     ],
     "language": "python",
     "metadata": {},
     "outputs": []
    },
    {
     "cell_type": "code",
     "collapsed": false,
     "input": [
      "#%timeit bp = cv_backproject(s)"
     ],
     "language": "python",
     "metadata": {},
     "outputs": []
    },
    {
     "cell_type": "code",
     "collapsed": false,
     "input": [
      "#!cuda-memcheck python test.py"
     ],
     "language": "python",
     "metadata": {},
     "outputs": []
    },
    {
     "cell_type": "code",
     "collapsed": false,
     "input": [],
     "language": "python",
     "metadata": {},
     "outputs": []
    }
   ],
   "metadata": {}
  }
 ]
}