{
 "metadata": {
  "name": ""
 },
 "nbformat": 3,
 "nbformat_minor": 0,
 "worksheets": [
  {
   "cells": [
    {
     "cell_type": "code",
     "collapsed": false,
     "input": [
      "import cv\n",
      "import cv2\n",
      "import pylab as plt\n",
      "import numpy as np\n",
      "import scipy.misc\n",
      "\n",
      "import os\n",
      "#import sys\n",
      "#sys.path.insert(0,'../my/fastlib')\n",
      "#import fastlib.imageprocessing.ispmd as ispmd\n",
      "\n",
      "import cvtools\n",
      "import h5py\n",
      "import logging"
     ],
     "language": "python",
     "metadata": {},
     "outputs": [],
     "prompt_number": 1
    },
    {
     "cell_type": "code",
     "collapsed": false,
     "input": [
      "def reconstruct_slice(source_file, res_file, slice_number):\n",
      "    sinogramm=None\n",
      "    angles=None\n",
      "    with h5py.File(source_file) as f:\n",
      "        sinogramm=f['Data'][slice_number]\n",
      "        angles=np.array(f['Angles'],dtype='float32')\n",
      "        sinogramm=np.rot90(sinogramm,1)\n",
      "        sinogramm=np.array(sinogramm, dtype='float32',order=\"C\")\n",
      "    \n",
      "    res = cvtools.sart_g(sinogramm, angles)\n",
      "    \n",
      "    with h5py.File(res_file,'a') as f:\n",
      "        try:\n",
      "            f.create_dataset('{:03}'.format(slice_number), data=res, chunks=True)\n",
      "        except RuntimeError:\n",
      "            print 'RuntimeError happen'\n",
      "    print N"
     ],
     "language": "python",
     "metadata": {},
     "outputs": [],
     "prompt_number": 2
    },
    {
     "cell_type": "code",
     "collapsed": false,
     "input": [
      "def save_amira(hdf5_file, amira_file_name):\n",
      "    \"\"\"\n",
      "    \u0424\u0443\u043d\u043a\u0446\u0438\u044f \u0441\u043e\u0445\u0440\u0430\u043d\u044f\u0435\u0442 \u0440\u0435\u043a\u043e\u043d\u0441\u0442\u0440\u0443\u0438\u0440\u043e\u0432\u0430\u043d\u043d\u044b\u0435 \u0441\u043b\u043e\u0438 \u0432 \u0444\u043e\u0440\u043c\u0430\u0442\u0435 Amira raw file\n",
      "\n",
      "    Inputs:\n",
      "        data_path - \u043f\u0443\u0442\u044c \u043a \u0434\u0438\u0440\u0435\u043a\u0442\u043e\u0440\u0438\u0438, \u0433\u0434\u0435 \u043d\u0430\u0445\u043e\u0434\u0438\u0442\u044c\u0441\u044f \u0444\u0430\u0439\u043b res_tomo.hdf5 \u0432 \u0444\u043e\u0440\u043c\u0430\u0442\u0435 HDF5\n",
      "            \u0432 \u044d\u0442\u043e\u043c \u0444\u0430\u0439\u0434\u0435 \u0434\u043e\u043b\u0436\u0435\u043d \u0431\u044b\u0442\u044c \u0440\u0430\u0437\u0434\u0435\u043b (node) /Results \u0432 \u043a\u043e\u0442\u043e\u0440\u043e\u043c \u0432 \u0432\u0438\u0434\u0435 3D \u043c\u0430\u0441\u0441\u0438\u0432\u0430\n",
      "            \u0437\u0430\u043f\u0438\u0441\u0430\u043d\u044b \u0440\u0435\u043a\u043e\u043d\u0441\u0442\u0440\u0443\u0438\u0440\u043e\u0432\u0430\u043d\u043d\u044b\u0439 \u043e\u0431\u044a\u0451\u043c\n",
      "    Outputs:\n",
      "        \u0424\u0430\u0439\u043b\u044b amira.raw \u0438 tomo.hx. \u0415\u0441\u043b\u0438 \u0444\u0430\u0439\u043b\u044b \u0443\u0436\u0435 \u0441\u0443\u0449\u0435\u0441\u0442\u0432\u0443\u044e\u0442, \u0442\u043e \u043e\u043d\u0438 \u043f\u0435\u0440\u0435\u0437\u0430\u043f\u0438\u0441\u044b\u0432\u0430\u044e\u0442\u0441\u044f.\n",
      "        \u0422\u0438\u043f \u0434\u0430\u043d\u043d\u044b\u0445: float32 little endian\n",
      "    \"\"\"\n",
      "    logging.info('Saving Amira files')\n",
      "    data_path = os.path.dirname(hdf5_file)\n",
      "    with open(os.path.join(data_path, amira_file_name+'.raw'), 'wb') as amira_file:\n",
      "        with h5py.File(hdf5_file, 'r') as h5f:\n",
      "            x = h5f['Results']\n",
      "            for i in range(x.shape[0]):\n",
      "                numpy.array(x[i, :, :]).tofile(amira_file)\n",
      "\n",
      "            file_shape = x.shape\n",
      "\n",
      "            with open(os.path.join(data_path, amira_file_name + '.hx'), 'w') as af:\n",
      "                af.write('# Amira Script\\n')\n",
      "                af.write('remove -all\\n')\n",
      "                af.write(r'[ load -raw ${SCRIPTDIR}/'+amira_file_name+r'.raw little xfastest float 1 '+\n",
      "                         str(file_shape[1])+' '+str(file_shape[2])+' '+str(file_shape[0])+\n",
      "                         ' 0 '+str(file_shape[1]-1)+' 0 '+str(file_shape[2]-1)+' 0 '+str(file_shape[0]-1)+\n",
      "                         ' ] setLabel '+ amira_file_name +'\\n')"
     ],
     "language": "python",
     "metadata": {},
     "outputs": [],
     "prompt_number": 3
    },
    {
     "cell_type": "code",
     "collapsed": false,
     "input": [
      "source_file = 'mouse2/reconstruction/postproc_data.h5'\n",
      "res_file = 'mouse2/reconstruction/new_res.h5'\n",
      "\n",
      "if os.path.exists(res_file):\n",
      "    os.remove(res_file)\n",
      "    \n",
      "slices_numb = None\n",
      "with h5py.File(source_file) as f:\n",
      "    slices_count = f['Data'].shape[0]\n",
      "print 'Total slices {:03}'.format(slices_count)\n",
      "\n",
      "for slice_number in range(0,slices_count):\n",
      "    sinogramm=None\n",
      "    angles=None\n",
      "    with h5py.File(source_file) as f_in:\n",
      "        with h5py.File(res_file) as f_out:\n",
      "            sinogramm=f_in['Data'][slice_number]\n",
      "            angles=np.array(f_in['Angles'],dtype='float32')\n",
      "            sinogramm=np.rot90(sinogramm,1)\n",
      "            sinogramm=np.array(sinogramm, dtype='float32',order=\"C\")\n",
      "    \n",
      "            res = cvtools.sart_g(sinogramm, angles)    \n",
      "    \n",
      "            try:\n",
      "                f_out.create_dataset('{:03}'.format(slice_number), data=res, chunks=True)\n",
      "            except RuntimeError:\n",
      "                print 'RuntimeError happen'\n",
      "            \n",
      "            if slice_number%25 == 0:\n",
      "                print\n",
      "            print slice_number,"
     ],
     "language": "python",
     "metadata": {},
     "outputs": []
    },
    {
     "cell_type": "code",
     "collapsed": false,
     "input": [
      "out_file = os.path.join(os.path.dirname(res_file), 'res.hdf5')\n",
      "if os.path.exists(out_file):\n",
      "    os.remove(out_file)\n",
      "    \n",
      "with h5py.File(res_file) as f_in:\n",
      "    with h5py.File(out_file) as f_out:\n",
      "        s0 = len(f_in.keys())\n",
      "        s1 = f_in['000'].shape\n",
      "        print s0, s1\n",
      "        \n",
      "        res=f_out.create_dataset('Results', (s0, s1[0], s1[1]), 'f', chunks=True, compression='lzf')\n",
      "        for i in range(s0):\n",
      "            res[i]=f_in['{:03}'.format(i)]\n",
      "            \n",
      "            if i%25 == 0:\n",
      "                print\n",
      "            print i,\n",
      "\n",
      "save_amira(out_file, 'new_tomo')"
     ],
     "language": "python",
     "metadata": {},
     "outputs": []
    },
    {
     "cell_type": "code",
     "collapsed": false,
     "input": [
      "data = None\n",
      "with h5py.File(out_file) as f:\n",
      "    data = np.array(f['Results'])"
     ],
     "language": "python",
     "metadata": {},
     "outputs": []
    },
    {
     "cell_type": "code",
     "collapsed": false,
     "input": [
      "import pylab as plt\n",
      "plt.figure(figsize=(15,8))\n",
      "plt.plot(data.sum(-1).sum(-1)/(data>0.4).sum(-1).sum(-1))"
     ],
     "language": "python",
     "metadata": {},
     "outputs": []
    },
    {
     "cell_type": "code",
     "collapsed": false,
     "input": [],
     "language": "python",
     "metadata": {},
     "outputs": []
    }
   ],
   "metadata": {}
  }
 ]
}